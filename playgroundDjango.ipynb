{
 "cells": [
  {
   "cell_type": "code",
   "execution_count": 1,
   "metadata": {},
   "outputs": [],
   "source": [
    "import os, sys\n",
    "PWD = os.getenv('PWD')\n",
    "os.chdir(PWD)\n",
    "sys.path.insert(0, os.getenv('PWD'))\n",
    "os.environ.setdefault(\"DJANGO_SETTINGS_MODULE\", \"local_settings.py\")\n",
    "import django\n",
    "django.setup()"
   ]
  },
  {
   "cell_type": "code",
   "execution_count": 2,
   "metadata": {},
   "outputs": [],
   "source": [
    "from interns.models import Intern"
   ]
  },
  {
   "cell_type": "code",
   "execution_count": 3,
   "metadata": {},
   "outputs": [
    {
     "data": {
      "text/plain": [
       "<QuerySet [<Intern: Python Development>, <Intern: Graphic Design>, <Intern: Web Development using JSP>, <Intern: Web Development>, <Intern: An internship at IIIT Hyderabad>]>"
      ]
     },
     "execution_count": 3,
     "metadata": {},
     "output_type": "execute_result"
    }
   ],
   "source": [
    "Intern.objects.all()\n"
   ]
  },
  {
   "cell_type": "code",
   "execution_count": 4,
   "metadata": {},
   "outputs": [],
   "source": [
    "from __future__ import print_function\n",
    "import pickle\n",
    "import os.path\n",
    "from googleapiclient.discovery import build\n",
    "from google_auth_oauthlib.flow import InstalledAppFlow\n",
    "from google.auth.transport.requests import Request\n"
   ]
  },
  {
   "cell_type": "code",
   "execution_count": 5,
   "metadata": {},
   "outputs": [],
   "source": [
    "SCOPES = ['https://www.googleapis.com/auth/spreadsheets.readonly']\n"
   ]
  },
  {
   "cell_type": "code",
   "execution_count": 6,
   "metadata": {},
   "outputs": [
    {
     "name": "stdout",
     "output_type": "stream",
     "text": [
      "Requirement already satisfied: gspread in /anaconda3/lib/python3.6/site-packages (3.1.0)\n",
      "Requirement already satisfied: requests>=2.2.1 in /anaconda3/lib/python3.6/site-packages (from gspread) (2.18.4)\n",
      "Requirement already satisfied: chardet<3.1.0,>=3.0.2 in /anaconda3/lib/python3.6/site-packages (from requests>=2.2.1->gspread) (3.0.4)\n",
      "Requirement already satisfied: idna<2.7,>=2.5 in /anaconda3/lib/python3.6/site-packages (from requests>=2.2.1->gspread) (2.6)\n",
      "Requirement already satisfied: urllib3<1.23,>=1.21.1 in /anaconda3/lib/python3.6/site-packages (from requests>=2.2.1->gspread) (1.22)\n",
      "Requirement already satisfied: certifi>=2017.4.17 in /anaconda3/lib/python3.6/site-packages (from requests>=2.2.1->gspread) (2018.10.15)\n",
      "\u001b[33mYou are using pip version 18.0, however version 19.0.1 is available.\n",
      "You should consider upgrading via the 'pip install --upgrade pip' command.\u001b[0m\n"
     ]
    }
   ],
   "source": [
    "!pip install gspread"
   ]
  },
  {
   "cell_type": "code",
   "execution_count": 7,
   "metadata": {},
   "outputs": [],
   "source": [
    "import gspread\n",
    "from oauth2client.service_account import ServiceAccountCredentials\n",
    "\n",
    "scope = ['https://spreadsheets.google.com/feeds',\n",
    "         'https://www.googleapis.com/auth/drive']\n",
    "\n",
    "credentials = ServiceAccountCredentials.from_json_keyfile_name('vue-notemaster-2ed8b3bfaf80.json', scope)\n"
   ]
  },
  {
   "cell_type": "code",
   "execution_count": 6,
   "metadata": {},
   "outputs": [],
   "source": [
    "gc = gspread.authorize(credentials)"
   ]
  },
  {
   "cell_type": "code",
   "execution_count": 7,
   "metadata": {},
   "outputs": [],
   "source": [
    "dudes=gc.open(\"2016\")"
   ]
  },
  {
   "cell_type": "code",
   "execution_count": 8,
   "metadata": {},
   "outputs": [],
   "source": [
    "sheet1=dudes.sheet1"
   ]
  },
  {
   "cell_type": "code",
   "execution_count": 12,
   "metadata": {},
   "outputs": [],
   "source": [
    "for i in range(25):\n",
    "    a=sheet1.find(\"16XJ1A0515\")"
   ]
  },
  {
   "cell_type": "code",
   "execution_count": 31,
   "metadata": {},
   "outputs": [],
   "source": [
    "sheet1.add_cols()"
   ]
  },
  {
   "cell_type": "code",
   "execution_count": 34,
   "metadata": {
    "collapsed": true
   },
   "outputs": [
    {
     "name": "stdout",
     "output_type": "stream",
     "text": [
      "[{'Roll No.': '16XJ1A0101', 'Branch': 'CE', 'Name of the Student': 'ADIRAJU  YESHWANTH RAJU', 'MEC EmailID': 'yeshwanth160101@mechyd.ac.in'}, {'Roll No.': '16XJ1A0102', 'Branch': 'CE', 'Name of the Student': 'ADITYA SINGH', 'MEC EmailID': 'aditya160102@mechyd.ac.in'}, {'Roll No.': '16XJ1A0103', 'Branch': 'CE', 'Name of the Student': 'Aneef Shaik', 'MEC EmailID': 'aneef160103@mechyd.ac.in'}, {'Roll No.': '16XJ1A0104', 'Branch': 'CE', 'Name of the Student': 'Anudeep Kanala ', 'MEC EmailID': 'anudeep160104@mechyd.ac.in'}, {'Roll No.': '16XJ1A0105', 'Branch': 'CE', 'Name of the Student': 'Jain Tanvi Rajeev', 'MEC EmailID': 'Tanvi160105@mechyd.ac.in'}, {'Roll No.': '16XJ1A0106', 'Branch': 'CE', 'Name of the Student': 'ASHOK  REDDY', 'MEC EmailID': 'ashok160106@mechyd.ac.in'}, {'Roll No.': '16XJ1A0107', 'Branch': 'CE', 'Name of the Student': 'Ashwin Nallamothu', 'MEC EmailID': 'ashwin160107@mechyd.ac.in'}, {'Roll No.': '16XJ1A0109', 'Branch': 'CE', 'Name of the Student': 'Banda  Rishi Raju', 'MEC EmailID': 'rishiraju160109@mechyd.ac.in'}, {'Roll No.': '16XJ1A0110', 'Branch': 'CE', 'Name of the Student': 'bhavani parupati', 'MEC EmailID': 'bhavani160110@mechyd.ac.in'}, {'Roll No.': '16XJ1A0111', 'Branch': 'CE', 'Name of the Student': 'Burra  Chakra Sai Sri Ram Akhilesh', 'MEC EmailID': 'akhilesh160111@mechyd.ac.in'}, {'Roll No.': '16XJ1A0112', 'Branch': 'CE', 'Name of the Student': 'Chidvilas Reddy Mandati', 'MEC EmailID': 'chidvilas160112@mechyd.ac.in'}, {'Roll No.': '16XJ1A0113', 'Branch': 'CE', 'Name of the Student': 'DANDU SATHWIK VARMA', 'MEC EmailID': 'sathwik160113@mechyd.ac.in'}, {'Roll No.': '16XJ1A0114', 'Branch': 'CE', 'Name of the Student': 'dara nikhil guptha', 'MEC EmailID': 'nikhil160114@mechyd.ac.in'}, {'Roll No.': '16XJ1A0115', 'Branch': 'CE', 'Name of the Student': 'DEEKSHA REDDY KANKANALA', 'MEC EmailID': 'deeksha160115@mechyd.ac.in'}, {'Roll No.': '16XJ1A0116', 'Branch': 'CE', 'Name of the Student': 'Dwarsala Lohitreddy ', 'MEC EmailID': 'lohitreddy160116@mechyd.ac.in'}, {'Roll No.': '16XJ1A0117', 'Branch': 'CE', 'Name of the Student': 'GADIPALLY  SANTHOSH KUMAR', 'MEC EmailID': 'santhosh160117@mechyd.ac.in'}, {'Roll No.': '16XJ1A0118', 'Branch': 'CE', 'Name of the Student': 'hakeem shivani', 'MEC EmailID': 'shivani160118@mechyd.ac.in'}, {'Roll No.': '16XJ1A0119', 'Branch': 'CE', 'Name of the Student': 'Ishaan Dimri', 'MEC EmailID': 'ishaan160119@mechyd.ac.in'}, {'Roll No.': '16XJ1A0120', 'Branch': 'CE', 'Name of the Student': 'Vamsi Mutyala raju Penmatsa', 'MEC EmailID': 'vamsi160120@mechyd.ac.in'}, {'Roll No.': '16XJ1A0121', 'Branch': 'CE', 'Name of the Student': 'Karthick S Kumar', 'MEC EmailID': 'karthick160121@mechyd.ac.in'}, {'Roll No.': '16XJ1A0122', 'Branch': 'CE', 'Name of the Student': 'KAVYALAKSHMI N', 'MEC EmailID': 'kavyalakshmi160122@mechyd.ac.in'}, {'Roll No.': '16XJ1A0123', 'Branch': 'CE', 'Name of the Student': 'Krishna Vardhan Reddy Pidaparthi', 'MEC EmailID': 'vardhan160123@mechyd.ac.in'}, {'Roll No.': '16XJ1A0124', 'Branch': 'CE', 'Name of the Student': 'Lakshmi Venkat Rohan Kandyana', 'MEC EmailID': 'rohan160124@mechyd.ac.in'}, {'Roll No.': '16XJ1A0125', 'Branch': 'CE', 'Name of the Student': 'likitha sai devagiri', 'MEC EmailID': 'likitha160125@mechyd.ac.in'}, {'Roll No.': '16XJ1A0126', 'Branch': 'CE', 'Name of the Student': 'Madhur Aditya Saharan', 'MEC EmailID': 'aditya160126@mechyd.ac.in'}, {'Roll No.': '16XJ1A0127', 'Branch': 'CE', 'Name of the Student': 'MALLOLU SAIKIRAN', 'MEC EmailID': 'saikiran160127@mechyd.ac.in'}, {'Roll No.': '16XJ1A0128', 'Branch': 'CE', 'Name of the Student': 'Marreddy Tejaswini ', 'MEC EmailID': 'tejaswini160128@mechyd.ac.in'}, {'Roll No.': '16XJ1A0129', 'Branch': 'CE', 'Name of the Student': 'mounika pokuri', 'MEC EmailID': 'mounika160129@mechyd.ac.in'}, {'Roll No.': '16XJ1A0130', 'Branch': 'CE', 'Name of the Student': 'muddana sai ashruth', 'MEC EmailID': 'saiashruth160130@mechyd.ac.in'}, {'Roll No.': '16XJ1A0131', 'Branch': 'CE', 'Name of the Student': 'Nadimpalli Sai Geeta Devi', 'MEC EmailID': 'saigeetadevi160131@mechyd.ac.in'}, {'Roll No.': '16XJ1A0132', 'Branch': 'CE', 'Name of the Student': 'POLASA SAI HRUTHIK', 'MEC EmailID': 'saihruthik160132@mechyd.ac.in'}, {'Roll No.': '16XJ1A0133', 'Branch': 'CE', 'Name of the Student': 'potnuru ashish', 'MEC EmailID': 'ashish160133@mechyd.ac.in'}, {'Roll No.': '16XJ1A0134', 'Branch': 'CE', 'Name of the Student': 'Pulli Sai  Sri Vathsa Kumar Reddy', 'MEC EmailID': 'srivathsakumar160134@mechyd.ac.in'}, {'Roll No.': '16XJ1A0135', 'Branch': 'CE', 'Name of the Student': 'putta narasimha reddy', 'MEC EmailID': 'narasimha160135@mechyd.ac.in'}, {'Roll No.': '16XJ1A0136', 'Branch': 'CE', 'Name of the Student': 'REDDY SOMA SHEKHAR', 'MEC EmailID': 'somashekhar160136@mechyd.ac.in'}, {'Roll No.': '16XJ1A0137', 'Branch': 'CE', 'Name of the Student': 'Saahil  Reddy', 'MEC EmailID': 'saahil160137@mechyd.ac.in'}, {'Roll No.': '16XJ1A0138', 'Branch': 'CE', 'Name of the Student': 'Sai Arjun', 'MEC EmailID': 'arjun160138@mechyd.ac.in'}, {'Roll No.': '16XJ1A0139', 'Branch': 'CE', 'Name of the Student': 'SAI MANIKANTA BANDI', 'MEC EmailID': 'saimanikanta160139@mechyd.ac.in'}, {'Roll No.': '16XJ1A0140', 'Branch': 'CE', 'Name of the Student': 'Sharada Pitta', 'MEC EmailID': 'sharada160140@mechyd.ac.in'}, {'Roll No.': '16XJ1A0141', 'Branch': 'CE', 'Name of the Student': 'Shiva Sai  ChitlapallY', 'MEC EmailID': 'shivasai160141@mechyd.ac.in'}, {'Roll No.': '16XJ1A0142', 'Branch': 'CE', 'Name of the Student': 'siva ganesh Tandyala', 'MEC EmailID': 'sivaganesh160142@mechyd.ac.in'}, {'Roll No.': '16XJ1A0143', 'Branch': 'CE', 'Name of the Student': 'Sri Harsha Reddy', 'MEC EmailID': 'sriharsha160143@mechyd.ac.in'}, {'Roll No.': '16XJ1A0144', 'Branch': 'CE', 'Name of the Student': 'Srila Reddy', 'MEC EmailID': 'srila160144@mechyd.ac.in'}, {'Roll No.': '16XJ1A0145', 'Branch': 'CE', 'Name of the Student': 'sriram  naga venkata swaroop', 'MEC EmailID': 'venkataswaroop160145@mechyd.ac.in'}, {'Roll No.': '16XJ1A0146', 'Branch': 'CE', 'Name of the Student': 'tallam satvik', 'MEC EmailID': 'satvik160146@mechyd.ac.in'}, {'Roll No.': '16XJ1A0148', 'Branch': 'CE', 'Name of the Student': 'VAKADA  LAKSHITA', 'MEC EmailID': 'lakshita160148@mechyd.ac.in'}, {'Roll No.': '16XJ1A0149', 'Branch': 'CE', 'Name of the Student': 'Varthika  Reddy', 'MEC EmailID': 'varthika160149@mechyd.ac.in'}, {'Roll No.': '16XJ1A0150', 'Branch': 'CE', 'Name of the Student': 'vineeth balusu', 'MEC EmailID': 'vineeth160150@mechyd.ac.in'}, {'Roll No.': '16XJ1A0151', 'Branch': 'CE', 'Name of the Student': 'VINEETH RAO CHEPYALA', 'MEC EmailID': 'vineethrao160151@mechyd.ac.in'}, {'Roll No.': '16XJ1A0152', 'Branch': 'CE', 'Name of the Student': 'vinjanampati Giridhar krishna sai', 'MEC EmailID': 'giridharkrishnasai160152@mechyd.ac.in'}, {'Roll No.': '16XJ1A0153', 'Branch': 'CE', 'Name of the Student': 'Visveswara Kartheek Mylavarapu', 'MEC EmailID': 'kartheek160153@mechyd.ac.in'}, {'Roll No.': '16XJ1A0154', 'Branch': 'CE', 'Name of the Student': 'YSN KISHORE', 'MEC EmailID': 'kishore160154@mechyd.ac.in'}, {'Roll No.': '16XJ1A0155', 'Branch': 'CE', 'Name of the Student': 'sai sree kurra', 'MEC EmailID': 'saisree160155@mechyd.ac.in'}, {'Roll No.': '16XJ1A0156', 'Branch': 'CE', 'Name of the Student': 'vanaparthy rahul varma', 'MEC EmailID': 'rahul160156@mechyd.ac.in'}, {'Roll No.': '16XJ1A0157', 'Branch': 'CE', 'Name of the Student': 'ANNE  AVINASH', 'MEC EmailID': 'avinash160157@mechyd.ac.in'}, {'Roll No.': '16XJ1A0158', 'Branch': 'CE', 'Name of the Student': 'Anudeep K', 'MEC EmailID': 'anudeep160158@mechyd.ac.in'}, {'Roll No.': '16XJ1A0159', 'Branch': 'CE', 'Name of the Student': 'Guru Teja K', 'MEC EmailID': 'guruteja160159@mechyd.ac.in'}, {'Roll No.': '16XJ1A0201', 'Branch': 'EEE', 'Name of the Student': 'Aravind Bramhajosyula', 'MEC EmailID': 'aravind160201@mechyd.ac.in'}, {'Roll No.': '16XJ1A0202', 'Branch': 'EEE', 'Name of the Student': 'Kotipalli Vamsikrishna', 'MEC EmailID': 'Vamsi160202@mechyd.ac.in'}, {'Roll No.': '16XJ1A0203', 'Branch': 'EEE', 'Name of the Student': 'Arun Showry Bandaru', 'MEC EmailID': 'arunshowry160203@mechyd.ac.in'}, {'Roll No.': '16XJ1A0204', 'Branch': 'EEE', 'Name of the Student': 'Ashish  Soni', 'MEC EmailID': 'ashish160204@mechyd.ac.in'}, {'Roll No.': '16XJ1A0205', 'Branch': 'EEE', 'Name of the Student': 'Chaitra  Kotagiri', 'MEC EmailID': 'chaitra160205@mechyd.ac.in'}, {'Roll No.': '16XJ1A0206', 'Branch': 'EEE', 'Name of the Student': 'CHALASANI THRUTI', 'MEC EmailID': 'thruti160206@mechyd.ac.in'}, {'Roll No.': '16XJ1A0207', 'Branch': 'EEE', 'Name of the Student': 'CHILAMAKURU PRAHARSHA', 'MEC EmailID': 'praharsha160207@mechyd.ac.in'}, {'Roll No.': '16XJ1A0208', 'Branch': 'EEE', 'Name of the Student': 'Deepak Gadhe', 'MEC EmailID': 'deepak160208@mechyd.ac.in'}, {'Roll No.': '16XJ1A0209', 'Branch': 'EEE', 'Name of the Student': 'Dhanush Kotha', 'MEC EmailID': 'dhanush160209@mechyd.ac.in'}, {'Roll No.': '16XJ1A0210', 'Branch': 'EEE', 'Name of the Student': 'GADE  VISHAL REDDY', 'MEC EmailID': 'vishal160210@mechyd.ac.in'}, {'Roll No.': '16XJ1A0211', 'Branch': 'EEE', 'Name of the Student': 'Gitanjali Raghu', 'MEC EmailID': 'gitanjali160211@mechyd.ac.in'}, {'Roll No.': '16XJ1A0212', 'Branch': 'EEE', 'Name of the Student': 'gopagoni muralidhar', 'MEC EmailID': 'muralidhar160212@mechyd.ac.in'}, {'Roll No.': '16XJ1A0213', 'Branch': 'EEE', 'Name of the Student': 'Venkata Ganesh Kalivarapu', 'MEC EmailID': 'ganesh160213@mechyd.ac.in'}, {'Roll No.': '16XJ1A0214', 'Branch': 'EEE', 'Name of the Student': 'Harsha sai durga raj Korada ', 'MEC EmailID': 'harshasai160214@mechyd.ac.in'}, {'Roll No.': '16XJ1A0215', 'Branch': 'EEE', 'Name of the Student': 'Harshith Uppalapati', 'MEC EmailID': 'harshith160215@mechyd.ac.in'}, {'Roll No.': '16XJ1A0216', 'Branch': 'EEE', 'Name of the Student': 'Jayesh Jain', 'MEC EmailID': 'jayesh160216@mechyd.ac.in'}, {'Roll No.': '16XJ1A0217', 'Branch': 'EEE', 'Name of the Student': 'K Naga Nikhil Reddy', 'MEC EmailID': 'nikhil160217@mechyd.ac.in'}, {'Roll No.': '16XJ1A0218', 'Branch': 'EEE', 'Name of the Student': 'KAVYA NARUKURTI', 'MEC EmailID': 'narukurti160218@mechyd.ac.in'}, {'Roll No.': '16XJ1A0219', 'Branch': 'EEE', 'Name of the Student': 'KRISHI SATYA SAI KATTUNGA', 'MEC EmailID': 'satyasai160219@mechyd.ac.in'}, {'Roll No.': '16XJ1A0220', 'Branch': 'EEE', 'Name of the Student': 'krishnam bhavika', 'MEC EmailID': 'bhavika160220@mechyd.ac.in'}, {'Roll No.': '16XJ1A0221', 'Branch': 'EEE', 'Name of the Student': 'Lohitha Theegela', 'MEC EmailID': 'lohitha160221@mechyd.ac.in'}, {'Roll No.': '16XJ1A0222', 'Branch': 'EEE', 'Name of the Student': 'M SUDHAMSHU  REDDY', 'MEC EmailID': 'sudhamshu160222@mechyd.ac.in'}, {'Roll No.': '16XJ1A0223', 'Branch': 'EEE', 'Name of the Student': 'Manasvi  Swaraj  Bhadani', 'MEC EmailID': 'manasvi160223@mechyd.ac.in'}, {'Roll No.': '16XJ1A0224', 'Branch': 'EEE', 'Name of the Student': 'Manisha jogi', 'MEC EmailID': 'manisha160224@mechyd.ac.in'}, {'Roll No.': '16XJ1A0225', 'Branch': 'EEE', 'Name of the Student': 'Manoj Kiran  Korrapati', 'MEC EmailID': 'manojkiran160225@mechyd.ac.in'}, {'Roll No.': '16XJ1A0226', 'Branch': 'EEE', 'Name of the Student': 'Mantri Aditya Anulekh', 'MEC EmailID': 'aditya160226@mechyd.ac.in'}, {'Roll No.': '16XJ1A0227', 'Branch': 'EEE', 'Name of the Student': 'Marneedi VSS Anirudh', 'MEC EmailID': 'anirudh160227@mechyd.ac.in'}, {'Roll No.': '16XJ1A0228', 'Branch': 'EEE', 'Name of the Student': 'MERAPALA PARASHAR', 'MEC EmailID': 'parashar160228@mechyd.ac.in'}, {'Roll No.': '16XJ1A0229', 'Branch': 'EEE', 'Name of the Student': 'MOHAMMED REHAN', 'MEC EmailID': 'rehan160229@mechyd.ac.in'}, {'Roll No.': '16XJ1A0230', 'Branch': 'EEE', 'Name of the Student': 'Naga Suresh Krishna Kondepudi', 'MEC EmailID': 'suresh160230@mechyd.ac.in'}, {'Roll No.': '16XJ1A0231', 'Branch': 'EEE', 'Name of the Student': 'NAGARJUNA RAPOLU', 'MEC EmailID': 'nagarjuna160231@mechyd.ac.in'}, {'Roll No.': '16XJ1A0232', 'Branch': 'EEE', 'Name of the Student': 'Parthasarathi Garlapati', 'MEC EmailID': 'parthasarathi160232@mechyd.ac.in'}, {'Roll No.': '16XJ1A0233', 'Branch': 'EEE', 'Name of the Student': 'PRASUNA SAI RIKKALA', 'MEC EmailID': 'prasuna160233@mechyd.ac.in'}, {'Roll No.': '16XJ1A0234', 'Branch': 'EEE', 'Name of the Student': 'PREETHI JERRIPOTHULA', 'MEC EmailID': 'preethi160234@mechyd.ac.in'}, {'Roll No.': '16XJ1A0235', 'Branch': 'EEE', 'Name of the Student': 'Rachana Sri Bollineni', 'MEC EmailID': 'rachanasri160235@mechyd.ac.in'}, {'Roll No.': '16XJ1A0236', 'Branch': 'EEE', 'Name of the Student': 'Kanipakam Monish reddy', 'MEC EmailID': 'monish160236@mechyd.ac.in'}, {'Roll No.': '16XJ1A0237', 'Branch': 'EEE', 'Name of the Student': 'Reshmai Shanmukhi Brundavanam', 'MEC EmailID': 'reshmai160237@mechyd.ac.in'}, {'Roll No.': '16XJ1A0238', 'Branch': 'EEE', 'Name of the Student': 'Rishabh Singh', 'MEC EmailID': 'rishabh160238@mechyd.ac.in'}, {'Roll No.': '16XJ1A0239', 'Branch': 'EEE', 'Name of the Student': 'SAIJA BHUMIREDDY', 'MEC EmailID': 'saija160239@mechyd.ac.in'}, {'Roll No.': '16XJ1A0240', 'Branch': 'EEE', 'Name of the Student': 'Sanjana  Reddy', 'MEC EmailID': 'sanjana160240@mechyd.ac.in'}, {'Roll No.': '16XJ1A0241', 'Branch': 'EEE', 'Name of the Student': 'santhosh mannas sammeta', 'MEC EmailID': 'santhosh160241@mechyd.ac.in'}, {'Roll No.': '16XJ1A0242', 'Branch': 'EEE', 'Name of the Student': 'Shreyas Rajesh', 'MEC EmailID': 'shreyas160242@mechyd.ac.in'}, {'Roll No.': '16XJ1A0243', 'Branch': 'EEE', 'Name of the Student': 'SIVA VISHAL VEMURI', 'MEC EmailID': 'sivavisha160243@mechyd.ac.in'}, {'Roll No.': '16XJ1A0244', 'Branch': 'EEE', 'Name of the Student': 'SRI GURU BASWANTH CHAKKA', 'MEC EmailID': 'baswanth160244@mechyd.ac.in'}, {'Roll No.': '16XJ1A0245', 'Branch': 'EEE', 'Name of the Student': 'SRI SAI PHANI KUMAR Neelam', 'MEC EmailID': 'phanikumar160245@mechyd.ac.in'}, {'Roll No.': '16XJ1A0246', 'Branch': 'EEE', 'Name of the Student': 'SRIHARSHA ATLURI', 'MEC EmailID': 'sriharsha160246@mechyd.ac.in'}, {'Roll No.': '16XJ1A0247', 'Branch': 'EEE', 'Name of the Student': 'Srikanth Gadde', 'MEC EmailID': 'srikanth160247@mechyd.ac.in'}, {'Roll No.': '16XJ1A0248', 'Branch': 'EEE', 'Name of the Student': 'STEFFI ROY', 'MEC EmailID': 'steffi160248@mechyd.ac.in'}, {'Roll No.': '16XJ1A0249', 'Branch': 'EEE', 'Name of the Student': 'suchit chander gurala', 'MEC EmailID': 'suchitchander160249@mechyd.ac.in'}, {'Roll No.': '16XJ1A0250', 'Branch': 'EEE', 'Name of the Student': 'SURYA PRANAV AMBATIPUDI', 'MEC EmailID': 'suryapranav160250@mechyd.ac.in'}, {'Roll No.': '16XJ1A0251', 'Branch': 'EEE', 'Name of the Student': 'TRIYA  Mulchandani', 'MEC EmailID': 'triya160251@mechyd.ac.in'}, {'Roll No.': '16XJ1A0252', 'Branch': 'EEE', 'Name of the Student': 'V NIHARIKA', 'MEC EmailID': 'niharika160252@mechyd.ac.in'}, {'Roll No.': '16XJ1A0253', 'Branch': 'EEE', 'Name of the Student': 'Vakulabharanam Mounika', 'MEC EmailID': 'mounika160253@mechyd.ac.in'}, {'Roll No.': '16XJ1A0254', 'Branch': 'EEE', 'Name of the Student': 'veerla  rohan kumar', 'MEC EmailID': 'rohankumar160254@mechyd.ac.in'}, {'Roll No.': '16XJ1A0255', 'Branch': 'EEE', 'Name of the Student': 'VENKATA SAI CHARAN CH', 'MEC EmailID': 'rohankumar160255@mechyd.ac.in'}, {'Roll No.': '16XJ1A0256', 'Branch': 'EEE', 'Name of the Student': 'Vssmk Sumanth Chilamakuri', 'MEC EmailID': 'sumanth160256@mechyd.ac.in'}, {'Roll No.': '16XJ1A0257', 'Branch': 'EEE', 'Name of the Student': 'YALAMANCHI VARUN', 'MEC EmailID': 'varun160257@mechyd.ac.in'}, {'Roll No.': '16XJ1A0301', 'Branch': 'ME', 'Name of the Student': 'Aditya Teja Bhimavarapu', 'MEC EmailID': 'adityateja160301@mechyd.ac.in'}, {'Roll No.': '16XJ1A0302', 'Branch': 'ME', 'Name of the Student': 'AKHIL VARMA', 'MEC EmailID': 'akhil160302@mechyd.ac.in'}, {'Roll No.': '16XJ1A0303', 'Branch': 'ME', 'Name of the Student': 'AKHILA BOPPANA', 'MEC EmailID': 'akhila160303@mechyd.ac.in'}, {'Roll No.': '16XJ1A0304', 'Branch': 'ME', 'Name of the Student': 'Aniketh Reddy Jonnalagadda', 'MEC EmailID': 'aniketh160304@mechyd.ac.in'}, {'Roll No.': '16XJ1A0305', 'Branch': 'ME', 'Name of the Student': 'Anirudh  Bendaram', 'MEC EmailID': 'anirudh160305@mechyd.ac.in'}, {'Roll No.': '16XJ1A0306', 'Branch': 'ME', 'Name of the Student': 'ARJUN AMARNATH BUGGANA', 'MEC EmailID': 'arjun160306@mechyd.ac.in'}, {'Roll No.': '16XJ1A0307', 'Branch': 'ME', 'Name of the Student': 'BATTU DEVRAJ REDDY', 'MEC EmailID': 'devraj160307@mechyd.ac.in'}, {'Roll No.': '16XJ1A0308', 'Branch': 'ME', 'Name of the Student': 'Ch Rajesh Chandra Reddy', 'MEC EmailID': 'rajesh160308@mechyd.ac.in'}, {'Roll No.': '16XJ1A0309', 'Branch': 'ME', 'Name of the Student': 'Chappidi Kautilya Reddy', 'MEC EmailID': 'kautilya160309@mechyd.ac.in'}, {'Roll No.': '16XJ1A0310', 'Branch': 'ME', 'Name of the Student': 'CHAYAN  RELLAN', 'MEC EmailID': 'chayan160310@mechyd.ac.in'}, {'Roll No.': '16XJ1A0311', 'Branch': 'ME', 'Name of the Student': 'Durvasula V K S  Hemanth Kumar', 'MEC EmailID': 'hemanth160311@mechyd.ac.in'}, {'Roll No.': '16XJ1A0312', 'Branch': 'ME', 'Name of the Student': 'Vamsi Preetam Maradana', 'MEC EmailID': 'vamsi160312@mechyd.ac.in'}, {'Roll No.': '16XJ1A0313', 'Branch': 'ME', 'Name of the Student': 'kamadi surya', 'MEC EmailID': 'surya160313@mechyd.ac.in'}, {'Roll No.': '16XJ1A0315', 'Branch': 'ME', 'Name of the Student': 'GEDDAM ESWAR AJAY CHOWDARY', 'MEC EmailID': 'ajay160315@mechyd.ac.in'}, {'Roll No.': '16XJ1A0316', 'Branch': 'ME', 'Name of the Student': 'Gowtham  Koppisetti', 'MEC EmailID': 'gowtham160316@mechyd.ac.in'}, {'Roll No.': '16XJ1A0317', 'Branch': 'ME', 'Name of the Student': 'Harsha Vardhan', 'MEC EmailID': 'harsha160317@mechyd.ac.in'}, {'Roll No.': '16XJ1A0318', 'Branch': 'ME', 'Name of the Student': 'JAMPANA ANUDEEP VARMA', 'MEC EmailID': 'anudeep160318@mechyd.ac.in'}, {'Roll No.': '16XJ1A0319', 'Branch': 'ME', 'Name of the Student': 'JUGAL SAI POTTI', 'MEC EmailID': 'saipotti160319@mechyd.ac.in'}, {'Roll No.': '16XJ1A0320', 'Branch': 'ME', 'Name of the Student': 'kantipudi  krishna vamsi', 'MEC EmailID': 'vamsi160320@mechyd.ac.in'}, {'Roll No.': '16XJ1A0321', 'Branch': 'ME', 'Name of the Student': 'KARTIKEYA BHARDWAJ', 'MEC EmailID': 'bhardwaj160321@mechyd.ac.in'}, {'Roll No.': '16XJ1A0322', 'Branch': 'ME', 'Name of the Student': 'Kushal Y', 'MEC EmailID': 'kushal160322@mechyd.ac.in'}, {'Roll No.': '16XJ1A0323', 'Branch': 'ME', 'Name of the Student': 'Laxmi Shivani Reddy Thoutreddy', 'MEC EmailID': 'shivani160323@mechyd.ac.in'}, {'Roll No.': '16XJ1A0324', 'Branch': 'ME', 'Name of the Student': 'NAGESWARARAO ERANKI', 'MEC EmailID': 'nageswararao160324@mechyd.ac.in'}, {'Roll No.': '16XJ1A0325', 'Branch': 'ME', 'Name of the Student': 'NALLA SAIKIRANKUMAR', 'MEC EmailID': 'saikirankumar160325@mechyd.ac.in'}, {'Roll No.': '16XJ1A0326', 'Branch': 'ME', 'Name of the Student': 'NAVAL PATTAR', 'MEC EmailID': 'naval160326@mechyd.ac.in'}, {'Roll No.': '16XJ1A0327', 'Branch': 'ME', 'Name of the Student': 'Nishith Patnaik P P', 'MEC EmailID': 'nishith160327@mechyd.ac.in'}, {'Roll No.': '16XJ1A0328', 'Branch': 'ME', 'Name of the Student': 'Pulkit Mehta', 'MEC EmailID': 'mehta160328@mechyd.ac.in'}, {'Roll No.': '16XJ1A0329', 'Branch': 'ME', 'Name of the Student': 'RAJA SIMHA REDDY BOMMINENI', 'MEC EmailID': 'rajasimhareddy160329@mechyd.ac.in'}, {'Roll No.': '16XJ1A0330', 'Branch': 'ME', 'Name of the Student': 'Thakkalapally Sai Krishna', 'MEC EmailID': 'saikrishna106330@mechyd.ac.in'}, {'Roll No.': '16XJ1A0331', 'Branch': 'ME', 'Name of the Student': 'Ramakrishna Reddy Kayala', 'MEC EmailID': 'ramakrishna160331@mechyd.ac.in'}, {'Roll No.': '16XJ1A0332', 'Branch': 'ME', 'Name of the Student': 'Rishabh jain', 'MEC EmailID': 'rishabh160332@mechyd.ac.in'}, {'Roll No.': '16XJ1A0333', 'Branch': 'ME', 'Name of the Student': 'Ruthvik Sainath  Meka', 'MEC EmailID': 'sainath160333@mechyd.ac.in'}, {'Roll No.': '16XJ1A0334', 'Branch': 'ME', 'Name of the Student': 'Sagi venkata vikram Verma', 'MEC EmailID': 'vikramverma160334@mechyd.ac.in'}, {'Roll No.': '16XJ1A0335', 'Branch': 'ME', 'Name of the Student': 'Sai Madhavan', 'MEC EmailID': 'madhavan160335@mechyd.ac.in'}, {'Roll No.': '16XJ1A0336', 'Branch': 'ME', 'Name of the Student': 'Sai Phani Keerthan Ponduri', 'MEC EmailID': 'saiphanikeerthan160336@mechyd.ac.in'}, {'Roll No.': '16XJ1A0337', 'Branch': 'ME', 'Name of the Student': 'Sai Rohan Gowtham  K', 'MEC EmailID': 'sairohan160337@mechyd.ac.in'}, {'Roll No.': '16XJ1A0338', 'Branch': 'ME', 'Name of the Student': 'Sainath Kalicheti', 'MEC EmailID': 'sainath160338@mechyd.ac.in'}, {'Roll No.': '16XJ1A0339', 'Branch': 'ME', 'Name of the Student': 'SAKETH SIDDARTH SV', 'MEC EmailID': 'siddarth160339@mechyd.ac.in'}, {'Roll No.': '16XJ1A0340', 'Branch': 'ME', 'Name of the Student': 'SANDEEP REDDY CHITTIREDDY', 'MEC EmailID': 'sandeep160340@mechyd.ac.in'}, {'Roll No.': '16XJ1A0341', 'Branch': 'ME', 'Name of the Student': 'SATYA RAGHU VEER MENCHU', 'MEC EmailID': 'raghuveer160341@mechyd.ac.in'}, {'Roll No.': '16XJ1A0342', 'Branch': 'ME', 'Name of the Student': 'SHAIK FAHEEM ROSHAN', 'MEC EmailID': 'faheemroshan160342@mechyd.ac.in'}, {'Roll No.': '16XJ1A0343', 'Branch': 'ME', 'Name of the Student': 'shiva sai reddy mandadi ', 'MEC EmailID': 'shivasai160343@mechyd.ac.in'}, {'Roll No.': '16XJ1A0344', 'Branch': 'ME', 'Name of the Student': 'Singampalli  Venkat karun', 'MEC EmailID': 'venkatkarun160344@mechyd.ac.in'}, {'Roll No.': '16XJ1A0345', 'Branch': 'ME', 'Name of the Student': 'Siri Chandana Surabhi', 'MEC EmailID': 'sirichandana160345@mechyd.ac.in'}, {'Roll No.': '16XJ1A0346', 'Branch': 'ME', 'Name of the Student': 'SOHINI CHINTALA', 'MEC EmailID': 'sohini160346@mechyd.ac.in'}, {'Roll No.': '16XJ1A0347', 'Branch': 'ME', 'Name of the Student': 'SOMULA  MOULISWARA REDDY', 'MEC EmailID': 'mouliswarareddy160347@mechyd.ac.in'}, {'Roll No.': '16XJ1A0348', 'Branch': 'ME', 'Name of the Student': 'Soorya Chandrashekar', 'MEC EmailID': 'soorya160348@mechyd.ac.in'}, {'Roll No.': '16XJ1A0349', 'Branch': 'ME', 'Name of the Student': 'Sree Mahesh Reddi Kurri', 'MEC EmailID': 'sreemahesh160349@mechyd.ac.in'}, {'Roll No.': '16XJ1A0350', 'Branch': 'ME', 'Name of the Student': 'SRIKAR SRIVATSA SAMAVEDAM', 'MEC EmailID': 'srikarsrivatsa160350@mechyd.ac.in'}, {'Roll No.': '16XJ1A0351', 'Branch': 'ME', 'Name of the Student': 'SUNKARAPALLI HANISH', 'MEC EmailID': 'hanish160351@mechyd.ac.in'}, {'Roll No.': '16XJ1A0352', 'Branch': 'ME', 'Name of the Student': 'TANGUDU SAI SRINIVAS', 'MEC EmailID': 'saisrinivas160352@mechyd.ac.in'}, {'Roll No.': '16XJ1A0353', 'Branch': 'ME', 'Name of the Student': 'TELLA PRUDHVI KRISHNA', 'MEC EmailID': 'prudhvikrishna160353@mechyd.ac.in'}, {'Roll No.': '16XJ1A0354', 'Branch': 'ME', 'Name of the Student': 'Sree Sai Teja T', 'MEC EmailID': 'teja160354@mechyd.ac.in'}, {'Roll No.': '16XJ1A0355', 'Branch': 'ME', 'Name of the Student': 'THIPPARTHI MANEESH REDDY', 'MEC EmailID': 'maneeshreddy160355@mechyd.ac.in'}, {'Roll No.': '16XJ1A0356', 'Branch': 'ME', 'Name of the Student': 'Tuhin Bagi', 'MEC EmailID': 'tuhin160356@mechyd.ac.in'}, {'Roll No.': '16XJ1A0357', 'Branch': 'ME', 'Name of the Student': 'vadlamudi Sai prasanna kumar', 'MEC EmailID': 'saiprasannakumar160357@mechyd.ac.in'}, {'Roll No.': '16XJ1A0358', 'Branch': 'ME', 'Name of the Student': 'Vamsi Krishna Sukhavasi', 'MEC EmailID': 'sukhavasi160358@mechyd.ac.in'}, {'Roll No.': '16XJ1A0359', 'Branch': 'ME', 'Name of the Student': 'Vishal Mahala', 'MEC EmailID': 'vishal160359@mechyd.ac.in'}, {'Roll No.': '16XJ1A0501', 'Branch': 'CSE', 'Name of the Student': 'Aadi D  Jain', 'MEC EmailID': 'jain160501@mechyd.ac.in'}, {'Roll No.': '16XJ1A0502', 'Branch': 'CSE', 'Name of the Student': 'Aashritha Reddy', 'MEC EmailID': 'aashritha160502@mechyd.ac.in'}, {'Roll No.': '16XJ1A0503', 'Branch': 'CSE', 'Name of the Student': 'Abhimanyu Bellam', 'MEC EmailID': 'abhimanyu160503@mechyd.ac.in'}, {'Roll No.': '16XJ1A0504', 'Branch': 'CSE', 'Name of the Student': 'ABHINAV REDDY NIMMA', 'MEC EmailID': 'abhinavreddy160504@mechyd.ac.in'}, {'Roll No.': '16XJ1A0505', 'Branch': 'CSE', 'Name of the Student': 'ADDAGALA DATTA DEEPAK', 'MEC EmailID': 'deepak160505@mechyd.ac.in'}, {'Roll No.': '16XJ1A0506', 'Branch': 'CSE', 'Name of the Student': 'AJANTA KANCHARLA', 'MEC EmailID': 'ajanta160506@mechyd.ac.in'}, {'Roll No.': '16XJ1A0507', 'Branch': 'CSE', 'Name of the Student': 'Ananya Penmatcha', 'MEC EmailID': 'ananya160507@mechyd.ac.in'}, {'Roll No.': '16XJ1A0508', 'Branch': 'CSE', 'Name of the Student': 'Anvesh  Chidura', 'MEC EmailID': 'anvesh160508@mechyd.ac.in'}, {'Roll No.': '16XJ1A0509', 'Branch': 'CSE', 'Name of the Student': 'Bala Tripura Tanmai Karumuri', 'MEC EmailID': 'tripuratanmai160509@mechyd.ac.in'}, {'Roll No.': '16XJ1A0510', 'Branch': 'CSE', 'Name of the Student': 'CHANDRA SEKHAR  KATAMREDDI ', 'MEC EmailID': 'sekhar160510@mechyd.ac.in'}, {'Roll No.': '16XJ1A0511', 'Branch': 'CSE', 'Name of the Student': 'CHITTIPALLI ADITYA KIRAN', 'MEC EmailID': 'adityakiran160511@mechyd.ac.in'}, {'Roll No.': '16XJ1A0512', 'Branch': 'CSE', 'Name of the Student': 'DAMISETTY GANESH CHITTI VEERANNA', 'MEC EmailID': 'ganesh160512@mechyd.ac.in'}, {'Roll No.': '16XJ1A0513', 'Branch': 'CSE', 'Name of the Student': 'Devaki Nimmagadda', 'MEC EmailID': 'devaki160513@mechyd.ac.in'}, {'Roll No.': '16XJ1A0514', 'Branch': 'CSE', 'Name of the Student': 'DHRUV  SRIVASTAVA', 'MEC EmailID': 'srivastava160514@mechyd.ac.in'}, {'Roll No.': '16XJ1A0515', 'Branch': 'CSE', 'Name of the Student': 'G  ROHITH', 'MEC EmailID': 'rohith160515@mechyd.ac.in'}, {'Roll No.': '16XJ1A0516', 'Branch': 'CSE', 'Name of the Student': 'GANNAMANENI KARTHIK', 'MEC EmailID': 'karthik160516@mechyd.ac.in'}, {'Roll No.': '16XJ1A0517', 'Branch': 'CSE', 'Name of the Student': 'Harshavardhanreddy Tamatam', 'MEC EmailID': 'harshavardhan160517@mechyd.ac.in'}, {'Roll No.': '16XJ1A0518', 'Branch': 'CSE', 'Name of the Student': 'Heamesh Chowdary Nettem', 'MEC EmailID': 'heamesh160518@mechyd.ac.in'}, {'Roll No.': '16XJ1A0519', 'Branch': 'CSE', 'Name of the Student': 'Hemanth Chaturvedula', 'MEC EmailID': 'hemanth160519@mechyd.ac.in'}, {'Roll No.': '16XJ1A0520', 'Branch': 'CSE', 'Name of the Student': 'Hritik Narayan', 'MEC EmailID': 'narayan160520@mechyd.ac.in'}, {'Roll No.': '16XJ1A0521', 'Branch': 'CSE', 'Name of the Student': 'JAHNAVI MALAGAVALLI', 'MEC EmailID': 'jahnavi160521@mechyd.ac.in'}, {'Roll No.': '16XJ1A0522', 'Branch': 'CSE', 'Name of the Student': 'Janumanchi Shwethamsh', 'MEC EmailID': 'shwethamsh160522@mechyd.ac.in'}, {'Roll No.': '16XJ1A0523', 'Branch': 'CSE', 'Name of the Student': 'Jashay Lilani', 'MEC EmailID': 'jashay160523@mechyd.ac.in'}, {'Roll No.': '16XJ1A0524', 'Branch': 'CSE', 'Name of the Student': 'Jhansi MANNAM', 'MEC EmailID': 'jhansi160524@mechyd.ac.in'}, {'Roll No.': '16XJ1A0525', 'Branch': 'CSE', 'Name of the Student': 'kamakshi moparthi', 'MEC EmailID': 'kamakshi160525@mechyd.ac.in'}, {'Roll No.': '16XJ1A0526', 'Branch': 'CSE', 'Name of the Student': 'Rajeev Reddy Thumma', 'MEC EmailID': 'rajeevreddy160526@mechyd.ac.in'}, {'Roll No.': '16XJ1A0527', 'Branch': 'CSE', 'Name of the Student': 'Artika Agrawal', 'MEC EmailID': 'artika160527@mechyd.ac.in'}, {'Roll No.': '16XJ1A0529', 'Branch': 'CSE', 'Name of the Student': 'KAVYA VANI B', 'MEC EmailID': 'kavyavani160529@mechyd.ac.in'}, {'Roll No.': '16XJ1A0530', 'Branch': 'CSE', 'Name of the Student': 'LANKALA KRISHNA VAMSHI  REDDY ', 'MEC EmailID': 'vamshi160530@mechyd.ac.in'}, {'Roll No.': '16XJ1A0531', 'Branch': 'CSE', 'Name of the Student': 'Malavika Reddy Mandapati', 'MEC EmailID': 'malavika160531@mechyd.ac.in'}, {'Roll No.': '16XJ1A0532', 'Branch': 'CSE', 'Name of the Student': 'Mallampati Harsha Chaitanya Reddy', 'MEC EmailID': 'chaitanya160532@mechyd.ac.in'}, {'Roll No.': '16XJ1A0533', 'Branch': 'CSE', 'Name of the Student': 'MANTRIPRAGADA KRISHNA  ROHITH', 'MEC EmailID': 'rohith160533@mechyd.ac.in'}, {'Roll No.': '16XJ1A0534', 'Branch': 'CSE', 'Name of the Student': 'muduganti akash reddy', 'MEC EmailID': 'akashreddy160534@mechyd.ac.in'}, {'Roll No.': '16XJ1A0535', 'Branch': 'CSE', 'Name of the Student': 'PAVAN MALLINA', 'MEC EmailID': 'pavan160535@mechyd.ac.in'}, {'Roll No.': '16XJ1A0536', 'Branch': 'CSE', 'Name of the Student': 'POTLAPALLI VAISHNAV RAO', 'MEC EmailID': 'vaishnav160536@mechyd.ac.in'}, {'Roll No.': '16XJ1A0537', 'Branch': 'CSE', 'Name of the Student': 'Pramod kumar Varma Manthena', 'MEC EmailID': 'pramodkumar160537@mechyd.ac.in'}, {'Roll No.': '16XJ1A0538', 'Branch': 'CSE', 'Name of the Student': 'PRANEETH REDDY KALLU', 'MEC EmailID': 'praneeth160538@mechyd.ac.in'}, {'Roll No.': '16XJ1A0539', 'Branch': 'CSE', 'Name of the Student': 'RAGHU RAM MADDURI', 'MEC EmailID': 'raghuram160539@mechyd.ac.in'}, {'Roll No.': '16XJ1A0540', 'Branch': 'CSE', 'Name of the Student': 'Ram Manohar Reddy Nallamilli', 'MEC EmailID': 'rammanoharreddy160540@mechyd.ac.in'}, {'Roll No.': '16XJ1A0541', 'Branch': 'CSE', 'Name of the Student': 'Durvasula Venkata Kameswara Manikya Rishab', 'MEC EmailID': 'rishab160541@mechyd.ac.in'}, {'Roll No.': '16XJ1A0542', 'Branch': 'CSE', 'Name of the Student': 'sai shiva kalyan Challa', 'MEC EmailID': 'shivakalyan160542@mechyd.ac.in'}, {'Roll No.': '16XJ1A0543', 'Branch': 'CSE', 'Name of the Student': 'Sai Sushanth Yelineni', 'MEC EmailID': 'sushanth160543@mechyd.ac.in'}, {'Roll No.': '16XJ1A0544', 'Branch': 'CSE', 'Name of the Student': 'Shailesh  Parepally ', 'MEC EmailID': 'shailesh160544@mechyd.ac.in'}, {'Roll No.': '16XJ1A0545', 'Branch': 'CSE', 'Name of the Student': 'Shashank reddy Vontela', 'MEC EmailID': 'shashank160545@mechyd.ac.in'}, {'Roll No.': '16XJ1A0546', 'Branch': 'CSE', 'Name of the Student': 'Shreya Reddy', 'MEC EmailID': 'shreya160546@mechyd.ac.in'}, {'Roll No.': '16XJ1A0547', 'Branch': 'CSE', 'Name of the Student': 'Sreedivya Bondalapati', 'MEC EmailID': 'sreedivya160547@mechyd.ac.in'}, {'Roll No.': '16XJ1A0548', 'Branch': 'CSE', 'Name of the Student': 'Sreya Peddina', 'MEC EmailID': 'sreya160548@mechyd.ac.in'}, {'Roll No.': '16XJ1A0549', 'Branch': 'CSE', 'Name of the Student': 'CHARUPALLI CHARAN', 'MEC EmailID': 'charan160549@mechyd.ac.in'}, {'Roll No.': '16XJ1A0550', 'Branch': 'CSE', 'Name of the Student': 'Srija Gurijala', 'MEC EmailID': 'srija160550@mechyd.ac.in'}, {'Roll No.': '16XJ1A0551', 'Branch': 'CSE', 'Name of the Student': 'SRIKANTH DENDULURI', 'MEC EmailID': 'srikanth160551@mechyd.ac.in'}, {'Roll No.': '16XJ1A0552', 'Branch': 'CSE', 'Name of the Student': 'SUBHANKAR REDDY DANDA', 'MEC EmailID': 'subhankar160552@mechyd.ac.in'}, {'Roll No.': '16XJ1A0553', 'Branch': 'CSE', 'Name of the Student': 'Tarun Guntaka ', 'MEC EmailID': 'tarun160553@mechyd.ac.in'}, {'Roll No.': '16XJ1A0554', 'Branch': 'CSE', 'Name of the Student': 'Tarun Rao Keshabhoina', 'MEC EmailID': 'tarunrao160554@mechyd.ac.in'}, {'Roll No.': '16XJ1A0555', 'Branch': 'CSE', 'Name of the Student': 'Taruneswar Reddy', 'MEC EmailID': 'taruneswar160555@mechyd.ac.in'}, {'Roll No.': '16XJ1A0556', 'Branch': 'CSE', 'Name of the Student': 'TUMMURI KIRANTEJA', 'MEC EmailID': 'kiranteja160556@mechyd.ac.in'}, {'Roll No.': '16XJ1A0557', 'Branch': 'CSE', 'Name of the Student': 'vamsi krishna reddy', 'MEC EmailID': 'vamsikrishna160557@mechyd.ac.in'}, {'Roll No.': '16XJ1A0558', 'Branch': 'CSE', 'Name of the Student': 'MANVEETH GUPTA SASANAPURI', 'MEC EmailID': 'manveeth160558@mechyd.ac.in'}, {'Roll No.': '16XJ1A0559', 'Branch': 'CSE', 'Name of the Student': 'VIHAN SHAH', 'MEC EmailID': 'shah160559@mechyd.ac.in'}, {'Roll No.': '16XJ1A0560', 'Branch': 'CSE', 'Name of the Student': 'YERRAM SATHWIK', 'MEC EmailID': 'sathwik160560@mechyd.ac.in'}, {'Roll No.': '16XJ1A0561', 'Branch': 'CSE', 'Name of the Student': 'sravanti ratnakaram', 'MEC EmailID': 'sravanti160561@mechyd.ac.in'}, {'Roll No.': '16XJ1A0562', 'Branch': 'CSE', 'Name of the Student': 'Rahul Arulkumaran', 'MEC EmailID': 'rahul160562@mechyd.ac.in'}, {'Roll No.': '16XJ1A0563', 'Branch': 'CSE', 'Name of the Student': 'Chindam  Bhargav', 'MEC EmailID': 'bhargav160563@mechyd.ac.in'}, {'Roll No.': '16XJ1A0564', 'Branch': 'CSE', 'Name of the Student': 'Jayantha Nanduri', 'MEC EmailID': 'Jayantha160564@mechyd.ac.in'}, {'Roll No.': '16XJ1A0565', 'Branch': 'CSE', 'Name of the Student': 'Mannam Venkata Sai Maneesh', 'MEC EmailID': 'Maneesh160565@mechyd.ac.in'}]\n"
     ]
    }
   ],
   "source": [
    "print(sheet1.get_all_records())"
   ]
  },
  {
   "cell_type": "code",
   "execution_count": 35,
   "metadata": {},
   "outputs": [
    {
     "data": {
      "text/plain": [
       "<Cell R188C1 '16XJ1A0515'>"
      ]
     },
     "execution_count": 35,
     "metadata": {},
     "output_type": "execute_result"
    }
   ],
   "source": [
    "sheet1.acell('A188')"
   ]
  },
  {
   "cell_type": "code",
   "execution_count": null,
   "metadata": {},
   "outputs": [],
   "source": []
  },
  {
   "cell_type": "code",
   "execution_count": null,
   "metadata": {},
   "outputs": [],
   "source": []
  },
  {
   "cell_type": "code",
   "execution_count": 8,
   "metadata": {},
   "outputs": [],
   "source": [
    "import re"
   ]
  },
  {
   "cell_type": "code",
   "execution_count": 24,
   "metadata": {},
   "outputs": [],
   "source": [
    "rolMatch=re.compile(r'[15,16,17,18]+[XJ,xj,Xj,xJ]+1A0[1-3,5][0-9][0-9]')"
   ]
  },
  {
   "cell_type": "code",
   "execution_count": 30,
   "metadata": {},
   "outputs": [
    {
     "data": {
      "text/plain": [
       "<_sre.SRE_Match object; span=(0, 10), match='16XJ1A0558'>"
      ]
     },
     "execution_count": 30,
     "metadata": {},
     "output_type": "execute_result"
    }
   ],
   "source": [
    "rolMatch.match(\"16XJ1A0558 blah blah blah\")"
   ]
  },
  {
   "cell_type": "code",
   "execution_count": 31,
   "metadata": {},
   "outputs": [
    {
     "data": {
      "text/plain": [
       "'ABCD'"
      ]
     },
     "execution_count": 31,
     "metadata": {},
     "output_type": "execute_result"
    }
   ],
   "source": [
    "\"abcD\".upper()"
   ]
  },
  {
   "cell_type": "code",
   "execution_count": 32,
   "metadata": {},
   "outputs": [
    {
     "data": {
      "text/plain": [
       "'AVC'"
      ]
     },
     "execution_count": 32,
     "metadata": {},
     "output_type": "execute_result"
    }
   ],
   "source": [
    "\"AVC\".upper()"
   ]
  },
  {
   "cell_type": "code",
   "execution_count": null,
   "metadata": {},
   "outputs": [],
   "source": []
  },
  {
   "cell_type": "code",
   "execution_count": 33,
   "metadata": {},
   "outputs": [],
   "source": [
    "import openpyxl"
   ]
  },
  {
   "cell_type": "code",
   "execution_count": 37,
   "metadata": {},
   "outputs": [],
   "source": [
    "from openpyxl import Workbook"
   ]
  },
  {
   "cell_type": "code",
   "execution_count": 38,
   "metadata": {},
   "outputs": [],
   "source": [
    "wb = Workbook()"
   ]
  },
  {
   "cell_type": "code",
   "execution_count": 9,
   "metadata": {},
   "outputs": [],
   "source": [
    "from openpyxl import load_workbook"
   ]
  },
  {
   "cell_type": "code",
   "execution_count": 10,
   "metadata": {},
   "outputs": [],
   "source": [
    "currStudents=load_workbook('faculty details.xlsx')"
   ]
  },
  {
   "cell_type": "code",
   "execution_count": 11,
   "metadata": {},
   "outputs": [
    {
     "name": "stderr",
     "output_type": "stream",
     "text": [
      "/anaconda3/lib/python3.6/site-packages/ipykernel_launcher.py:1: DeprecationWarning: Call to deprecated function get_sheet_names (Use wb.sheetnames).\n",
      "  \"\"\"Entry point for launching an IPython kernel.\n"
     ]
    },
    {
     "data": {
      "text/plain": [
       "['Sheet1']"
      ]
     },
     "execution_count": 11,
     "metadata": {},
     "output_type": "execute_result"
    }
   ],
   "source": [
    "currStudents.get_sheet_names()"
   ]
  },
  {
   "cell_type": "code",
   "execution_count": 12,
   "metadata": {},
   "outputs": [],
   "source": [
    "currStudents1=currStudents['Sheet1']"
   ]
  },
  {
   "cell_type": "code",
   "execution_count": 13,
   "metadata": {},
   "outputs": [
    {
     "name": "stdout",
     "output_type": "stream",
     "text": [
      "None\n",
      "None\n",
      "None\n",
      "None\n",
      "None\n",
      "Emp ID\n",
      "Name\n",
      "mechyd.ac.in Mail ID\n",
      "None\n",
      "1007\n",
      "Abhijit Bhattacharyya\n",
      "Abhijit.Bhattacharyya@mechyd.ac.in\n",
      "None\n",
      "1011\n",
      "Pulla Kondaiah\n",
      "Kondaiah.p@mechyd.ac.in\n",
      "None\n",
      "1029\n",
      "Jayasri Dontabhaktuni\n",
      "jayasri.d@mechyd.ac.in\n",
      "None\n",
      "1030\n",
      "Arya Kumar Bhattacharya\n",
      "Arya.Bhattacharya@mechyd.ac.in\n",
      "None\n",
      "1039\n",
      "Chirala Satyanarayana\n",
      "Satyanarayana.Chirala@mechyd.ac.in\n",
      "None\n",
      "1041\n",
      "Murtaza Bohra\n",
      "murtaza.bohra@mechyd.ac.in\n",
      "None\n",
      "1044\n",
      "Jai Prakash\n",
      "jai.prakash@mechyd.ac.in\n",
      "None\n",
      "1006\n",
      "Prabhakar Singh\n",
      "Prabhakar.Singh@mechyd.ac.in\n",
      "None\n",
      "1010\n",
      "N.V.Venkataraman\n",
      "Venkatraman.NV@mechyd.ac.in\n",
      "None\n",
      "1012\n",
      "Salome Benhur\n",
      "Salome.Benhur@mechyd.ac.in\n",
      "None\n",
      "1034\n",
      "T S Krishnamurthty\n",
      "Tsk.Murthy@mechyd.ac.in\n",
      "None\n",
      "1047\n",
      "Sayantan Hazra\n",
      "sayantan.hazra@mechyd.ac.in\n",
      "None\n",
      "1056\n",
      "Dibakar Roy Chowdhury\n",
      "dibakar.roychowdhury@mechyd.ac.in\n",
      "None\n",
      "1062\n",
      "Mahipal Jetta\n",
      "mahipal.jetta@mechyd.ac.in\n",
      "None\n",
      "1063\n",
      "Nagaravi Kanth Devarapalli\n",
      "naga.devarapalli@mechyd.ac.in\n",
      "None\n",
      "1064\n",
      "Tabhita Chekuri\n",
      "tabitha.chekuri@mechyd.ac.in\n",
      "None\n",
      "1067\n",
      "Paromita Bose\n",
      "paromita.bose@mechyd.ac.in\n",
      "None\n",
      "10013\n",
      "Jayant Lal Bhattacharya\n",
      "jayantlal.bhattacharya@mechyd.ac.in\n",
      "None\n",
      "1072\n",
      "Gomathi Anandhanatarajan\n",
      "gomathi.anandhanatarajan@mechyd.ac.in\n",
      "None\n",
      "10002\n",
      "Kalluri Ramalinga Sarma\n",
      "Kalluri.ramalingasarma@mechyd.ac.in\n",
      "None\n",
      "1177\n",
      "Kumudham Balasubramanian\n",
      "kumudham.balasubramanian@mechyd.ac.in\n",
      "None\n",
      "10026\n",
      "Gopala Rao Jammi\n",
      "gopalarao.jammi@mechyd.ac.in\n",
      "None\n",
      "1076\n",
      "Jagan Mohan Padbidri\n",
      "jaganmohan.padbidri@mechyd.ac.in\n",
      "None\n",
      "1077\n",
      "Manoj Kumar Yadav\n",
      "manojkumar.yadav@mechyd.ac.in\n",
      "None\n",
      "1079\n",
      "Chitra Gurnani\n",
      "chitra.gurnani@mechyd.ac.in\n",
      "None\n",
      "1081\n",
      "Palash Roy Choudhury\n",
      "palash.roychoudhury@mechyd.ac.in\n",
      "None\n",
      "1082\n",
      "Sanjukta Das\n",
      "sanjukta.das@mechyd.ac.in\n",
      "None\n",
      "1086\n",
      "Vegitha Reddy\n",
      "vegitha.reddy@mechyd.ac.in\n",
      "None\n",
      "1090\n",
      "Bhanukiran Perabathini\n",
      "bhanukiran.perabathini@mechyd.ac.in\n",
      "None\n",
      "1094\n",
      "Bruhadeshwar Bezawada\n",
      "bruhadeshwar.bezawada@mechyd.ac.in\n",
      "None\n",
      "1097\n",
      "Sayoni Laha\n",
      "sayoni.laha@mechyd.ac.in\n",
      "None\n",
      "1098\n",
      "Nagaiah Chamakuri\n",
      "nagaiah.chamakuri@mechyd.ac.in\n",
      "None\n",
      "1112\n",
      "Ranjith Shankaran\n",
      "ranjith.shankaran@mechyd.ac.in\n",
      "None\n",
      "10040\n",
      "Saket Maheshwary\n",
      "saket.maheshwary@mechyd.ac.in\n",
      "None\n",
      "10041\n",
      "Raman Dugyala\n",
      "raman.dugyala@mechyd.ac.in\n",
      "None\n",
      "1159\n",
      "Hari Prasad Chennarapu\n",
      "hari.chennarapu@mechyd.ac.in\n",
      "None\n",
      "1117\n",
      "Saladi S V Subbarao\n",
      "saladi.subbarao@mechyd.ac.in\n",
      "None\n",
      "10054\n",
      "Venkateswara Rao Kagita\n",
      "venkateswararao.kagita@mechyd.ac.in\n",
      "None\n",
      "1120\n",
      "Sebastian Uppapalli\n",
      "sebastian.uppapalli@mechyd.ac.in\n",
      "None\n",
      "10053\n",
      "Veeraiah Talagondapati\n",
      "veeraiah.talagondapati@mechyd.ac.in\n",
      "None\n",
      "1121\n",
      "Sushrut Sanjiv Vaidya\n",
      "sushrut.vaidya@mechyd.ac.in\n",
      "None\n",
      "1122\n",
      "Raghu Kishore Neelisetti\n",
      "raghukishore.neelisetti@mechyd.ac.in\n",
      "None\n",
      "1123\n",
      "Manish Kumar Agrawal\n",
      "manish.agrawal@mechyd.ac.in\n",
      "None\n",
      "1125\n",
      "Ranjith Kunnath\n",
      "ranjith.kunnath@mechyd.ac.in\n",
      "None\n",
      "1124\n",
      "Deepti Avirneni \n",
      "deepti.avirneni@mechyd.ac.in\n",
      "None\n",
      "1127\n",
      "Prasad Pokkunuri\n",
      "prasad.pokkunuri@mechyd.ac.in\n",
      "None\n",
      "1126\n",
      "Subbarao Boddu\n",
      "subbarao.boddu@mechyd.ac.in\n",
      "None\n",
      "1130\n",
      "Deep Seth\n",
      "deep.seth@mechyd.ac.in\n",
      "None\n",
      "1131\n",
      "Venkata Dilip Kumar Pasupuleti\n",
      "venkata.pasupuleti@mechyd.ac.in\n",
      "None\n",
      "1133\n",
      "Prafulla Kalapatapu\n",
      "prafulla.kalapatapu@mechyd.ac.in\n",
      "None\n",
      "1132\n",
      "Bharghava Rajaram\n",
      "bharghava.rajaram@mechyd.ac.in\n",
      "None\n",
      "1143\n",
      "Ramalingaswamy Cheruku\n",
      "ramalingaswamy.cheruku@mechyd.ac.in\n",
      "None\n",
      "1148\n",
      "Arun Narayanan\n",
      "arun.narayanan@mechyd.ac.in\n",
      "None\n",
      "1151\n",
      "Krishna Chaitanya Bulusu\n",
      "krishnachaitanya.bulusu@mechyd.ac.in\n",
      "None\n",
      "1152\n",
      "Gopinath GR\n",
      "gopinath.gr@mechyd.ac.in\n",
      "None\n",
      "10076\n",
      "Sunil Bhooshan\n",
      "sunil.bhooshan@mechyd.ac.in\n",
      "None\n",
      "1160\n",
      "Ravi Kishore Vasala\n",
      "ravikishore.vasala@mechyd.ac.in\n",
      "None\n",
      "1163\n",
      "Mohd Ataullah Khan\n",
      "mohdataullah.khan@mechyd.ac.in\n",
      "None\n",
      "1164\n",
      "Jaya Prakash Vemuri\n",
      "jayaprakash.vemuri@mechyd.ac.in\n",
      "None\n",
      "1165\n",
      "Bishnu Pal\n",
      "bishnu.pal@mechyd.ac.in\n",
      "None\n",
      "1162\n",
      "Rama Murthy\n",
      "rama.murthy@mechyd.ac.in\n",
      "None\n",
      "1166\n",
      "Aditya Abburi\n",
      "aditya.abburi@mechyd.ac.in\n",
      "None\n",
      "1169\n",
      "Achal Agarwal\n",
      "achal.agarwal@mechyd.ac.in\n",
      "None\n",
      "1173\n",
      "Sunny Rai\n",
      "sunny.rai@mechyd.ac.in\n",
      "None\n",
      "1174\n",
      "Somsubhra Chattopadhyay\n",
      "somsubhra.chattopadhyay@mechyd.ac.in\n",
      "None\n",
      "1175\n",
      "Ravi Kiran Bompelly\n",
      "ravikiran.bompelly@mechyd.ac.in\n",
      "None\n",
      "1176\n",
      "Naga Deepthi Kuchibhatla\n",
      "nagadeepthi.kuchibhatla@mechyd.ac.in\n",
      "None\n",
      "1178\n",
      "Shivdasini Singh Amin\n",
      "shivdasini.amin@mechyd.ac.in\n",
      "None\n",
      "10077\n",
      "Maud Tyckaert\n",
      "maud.tyckaert@mechyd.ac.in\n",
      "None\n",
      "1186\n",
      "Ani Thomas\n",
      "ani.thomas@mechyd.ac.in\n",
      "None\n",
      "10081\n",
      "Raghava Shashank Balla\n",
      "raghava.balla@mechyd.ac.in\n",
      "None\n",
      "10082\n",
      "Kamalhas Tanguturi\n",
      "kamalhas.tanguturi@mechyd.ac.in\n",
      "None\n",
      "1187\n",
      "Rajkumar Phatate\n",
      "rajkumar.phatate@mechyd.ac.in\n",
      "None\n",
      "1189\n",
      "Senbagaraman Sudarsanam\n",
      "senbagaraman.sudarsanam@mechyd.ac.in\n",
      "None\n",
      "1190\n",
      "Raj Narayanan\n",
      "raj.narayanan@mechyd.ac.in\n",
      "None\n",
      "10037\n",
      "Praveen Bhasa Malla\n",
      "praveen.malla@mechyd.ac.in\n",
      "None\n",
      "10088\n",
      "Malini Dasari\n",
      "malini.dasari@mechyd.ac.in\n",
      "None\n",
      "1195\n",
      "Rakhee Basu\n",
      "rakhee.basu@mechyd.ac.in\n",
      "None\n",
      "10089\n",
      "Ranendra Narayan Biswas\n",
      "ranendra.biswas@mechyd.ac.in\n",
      "None\n",
      "10090\n",
      "Bharat Chillakuri\n",
      "bharat.chillakuri@mechyd.ac.in\n"
     ]
    }
   ],
   "source": [
    "userName=[]\n",
    "firstName=[]\n",
    "lastName=[]\n",
    "emails=[]\n",
    "for row in currStudents1.iter_rows():\n",
    "    for cell in row:\n",
    "        print(cell.value)"
   ]
  },
  {
   "cell_type": "code",
   "execution_count": 27,
   "metadata": {},
   "outputs": [],
   "source": [
    "userName=[]\n",
    "firstName=[]\n",
    "lastName=[]\n",
    "emails=[]\n",
    "for row in currStudents1.iter_rows():\n",
    "    i=0\n",
    "    for cell in row:\n",
    "        if i==1:\n",
    "            userName.append(cell.value)\n",
    "        if i==0:\n",
    "            pass\n",
    "        if i==2:\n",
    "            tempStorage = str(cell.value)\n",
    "            firstName.append(tempStorage.split()[0])\n",
    "            lastName.append(' '.join(tempStorage.split()[1:]))\n",
    "        if i==3:\n",
    "            emails.append(cell.value)\n",
    "        i+=1\n",
    "            "
   ]
  },
  {
   "cell_type": "code",
   "execution_count": null,
   "metadata": {},
   "outputs": [],
   "source": []
  },
  {
   "cell_type": "code",
   "execution_count": 52,
   "metadata": {},
   "outputs": [],
   "source": [
    "# user = User.objects.create_user('16XJ1A0540',password='Test1234')\n",
    "# user.first_name=\"Ram\"\n",
    "# user.last_name=\"Manohar\"\n",
    "# user.email=\"manohar160540@mechyd.ac.in\"\n",
    "# user.groups.add(students)\n",
    "# user.profile.leisureTime=\"Peaks\"\n",
    "# user.profile.location=\"Student\"\n",
    "# user.save()"
   ]
  },
  {
   "cell_type": "code",
   "execution_count": 44,
   "metadata": {},
   "outputs": [],
   "source": [
    "from django.contrib.auth.models import User\n",
    "from django.contrib.auth.models import Group"
   ]
  },
  {
   "cell_type": "code",
   "execution_count": 45,
   "metadata": {},
   "outputs": [],
   "source": [
    "professors = Group.objects.get(name='Professor')"
   ]
  },
  {
   "cell_type": "code",
   "execution_count": 46,
   "metadata": {},
   "outputs": [
    {
     "name": "stdout",
     "output_type": "stream",
     "text": [
      "Done with  1007\n",
      "Done with  1011\n",
      "Done with  1029\n",
      "Done with  1030\n",
      "Done with  1039\n",
      "Done with  1041\n",
      "Done with  1044\n",
      "Done with  1006\n",
      "Done with  1010\n",
      "Done with  1012\n",
      "Done with  1034\n",
      "Done with  1047\n",
      "Done with  1056\n",
      "Done with  1062\n",
      "Done with  1063\n",
      "Done with  1064\n",
      "Done with  1067\n",
      "Done with  10013\n",
      "Done with  1072\n",
      "Done with  10002\n",
      "Done with  1177\n",
      "Done with  10026\n",
      "Done with  1076\n",
      "Done with  1077\n",
      "Done with  1079\n",
      "Done with  1081\n",
      "Done with  1082\n",
      "Done with  1086\n",
      "Done with  1090\n",
      "Done with  1094\n",
      "Done with  1097\n",
      "Done with  1098\n",
      "Done with  1112\n",
      "Done with  10040\n",
      "Done with  10041\n",
      "Done with  1159\n",
      "Done with  1117\n",
      "Done with  10054\n",
      "Done with  1120\n",
      "Done with  10053\n",
      "Done with  1121\n",
      "Done with  1122\n",
      "Done with  1123\n",
      "Done with  1125\n",
      "Done with  1124\n",
      "Done with  1127\n",
      "Done with  1126\n",
      "Done with  1130\n",
      "Done with  1131\n",
      "Done with  1133\n",
      "Done with  1132\n",
      "Done with  1143\n",
      "Done with  1148\n",
      "Done with  1151\n",
      "Done with  1152\n",
      "Done with  10076\n",
      "Done with  1160\n",
      "Done with  1163\n",
      "Done with  1164\n",
      "Done with  1165\n",
      "Done with  1162\n",
      "Done with  1166\n",
      "Done with  1169\n",
      "Done with  1173\n",
      "Done with  1174\n",
      "Done with  1175\n",
      "Done with  1176\n",
      "Done with  1178\n",
      "Done with  10077\n",
      "Done with  1186\n",
      "Done with  10081\n",
      "Done with  10082\n",
      "Done with  1187\n",
      "Done with  1189\n",
      "Done with  1190\n",
      "Done with  10037\n",
      "Done with  10088\n",
      "Done with  1195\n",
      "Done with  10089\n",
      "Done with  10090\n"
     ]
    }
   ],
   "source": [
    "for i in range(len(userName)):\n",
    "    try:\n",
    "        user = User.objects.create_user(userName[i],password=\"Test1234\")\n",
    "        user.first_name = firstName[i]\n",
    "        user.last_name = lastName[i]\n",
    "        user.email = emails[i]\n",
    "        user.groups.add(professors)\n",
    "        user.profile.location=\"Faculty Office\"\n",
    "        user.save()\n",
    "        print(\"Done with \",user)\n",
    "    except:\n",
    "        print(\"Problem with \",user)"
   ]
  },
  {
   "cell_type": "code",
   "execution_count": 95,
   "metadata": {},
   "outputs": [],
   "source": [
    "i=0"
   ]
  },
  {
   "cell_type": "code",
   "execution_count": 108,
   "metadata": {},
   "outputs": [],
   "source": [
    "k=User.objects.all()"
   ]
  },
  {
   "cell_type": "code",
   "execution_count": 104,
   "metadata": {},
   "outputs": [
    {
     "data": {
      "text/plain": [
       "<User: 16XJ1A0101>"
      ]
     },
     "execution_count": 104,
     "metadata": {},
     "output_type": "execute_result"
    }
   ],
   "source": [
    "k[6]"
   ]
  },
  {
   "cell_type": "code",
   "execution_count": 88,
   "metadata": {},
   "outputs": [
    {
     "data": {
      "text/plain": [
       "(2,\n",
       " {'admin.LogEntry': 0,\n",
       "  'auth.User': 1,\n",
       "  'auth.User_groups': 0,\n",
       "  'auth.User_user_permissions': 0,\n",
       "  'interns.Profile': 1})"
      ]
     },
     "execution_count": 88,
     "metadata": {},
     "output_type": "execute_result"
    }
   ],
   "source": [
    "k[6].delete()"
   ]
  },
  {
   "cell_type": "code",
   "execution_count": 109,
   "metadata": {},
   "outputs": [],
   "source": [
    "for i in range(6,len(k)):\n",
    "    k[i].delete()"
   ]
  },
  {
   "cell_type": "code",
   "execution_count": 96,
   "metadata": {},
   "outputs": [],
   "source": [
    "user = User.objects.create_user(userName[i],password=\"Test1234\")"
   ]
  },
  {
   "cell_type": "code",
   "execution_count": 97,
   "metadata": {},
   "outputs": [],
   "source": [
    "user.firstName = firstName[i]"
   ]
  },
  {
   "cell_type": "code",
   "execution_count": 98,
   "metadata": {},
   "outputs": [],
   "source": [
    "user.lastName = lastName[i]"
   ]
  },
  {
   "cell_type": "code",
   "execution_count": 99,
   "metadata": {},
   "outputs": [],
   "source": [
    "user.email = emails[i]"
   ]
  },
  {
   "cell_type": "code",
   "execution_count": 111,
   "metadata": {},
   "outputs": [],
   "source": [
    "allInterns = Intern.objects.all()\n"
   ]
  },
  {
   "cell_type": "code",
   "execution_count": 149,
   "metadata": {},
   "outputs": [],
   "source": [
    "obj = Intern.objects.get(id=1)"
   ]
  },
  {
   "cell_type": "code",
   "execution_count": 148,
   "metadata": {},
   "outputs": [
    {
     "data": {
      "text/plain": [
       "'16XJ1A0540,'"
      ]
     },
     "execution_count": 148,
     "metadata": {},
     "output_type": "execute_result"
    }
   ],
   "source": [
    "obj.studentsEnrolled"
   ]
  },
  {
   "cell_type": "code",
   "execution_count": 144,
   "metadata": {},
   "outputs": [],
   "source": [
    "enrolledKids=obj.studentsEnrolled.split(',')"
   ]
  },
  {
   "cell_type": "code",
   "execution_count": 145,
   "metadata": {},
   "outputs": [],
   "source": [
    "enrollmentString=''\n",
    "for kid in enrolledKids[:-1]:\n",
    "    for intern in allInterns:\n",
    "        i=0\n",
    "        if(kid in intern.studentsEnrolled): \n",
    "            i=i+1\n",
    "    enrollmentString+=kid+\"(\"+str(i)+\"),\""
   ]
  },
  {
   "cell_type": "code",
   "execution_count": 146,
   "metadata": {},
   "outputs": [
    {
     "data": {
      "text/plain": [
       "'16XJ1A0540(0),'"
      ]
     },
     "execution_count": 146,
     "metadata": {},
     "output_type": "execute_result"
    }
   ],
   "source": [
    "enrollmentString"
   ]
  },
  {
   "cell_type": "code",
   "execution_count": 152,
   "metadata": {},
   "outputs": [
    {
     "data": {
      "text/plain": [
       "<QuerySet [<Intern: Web Development>, <Intern: An internship at IIIT Hyderabad>]>"
      ]
     },
     "execution_count": 152,
     "metadata": {},
     "output_type": "execute_result"
    }
   ],
   "source": [
    "Intern.objects.filter(studentsEnrolled__contains='16XJ1A0504')"
   ]
  },
  {
   "cell_type": "code",
   "execution_count": 162,
   "metadata": {},
   "outputs": [],
   "source": [
    "approvedInterns = Intern.objects.filter(studentsApproved__contains='16XJ1A0504')"
   ]
  },
  {
   "cell_type": "code",
   "execution_count": 156,
   "metadata": {},
   "outputs": [],
   "source": [
    "k=Intern.objects.all()"
   ]
  },
  {
   "cell_type": "code",
   "execution_count": 160,
   "metadata": {},
   "outputs": [],
   "source": [
    "temp=k[4]"
   ]
  },
  {
   "cell_type": "code",
   "execution_count": 161,
   "metadata": {},
   "outputs": [
    {
     "data": {
      "text/plain": [
       "'16XJ1A0540,16XJ1A0504,'"
      ]
     },
     "execution_count": 161,
     "metadata": {},
     "output_type": "execute_result"
    }
   ],
   "source": [
    "temp.studentsApproved"
   ]
  },
  {
   "cell_type": "code",
   "execution_count": 178,
   "metadata": {},
   "outputs": [
    {
     "data": {
      "text/plain": [
       "<QuerySet [<Intern: Python Development>, <Intern: Web Development using JSP>, <Intern: An internship at IIIT Hyderabad>]>"
      ]
     },
     "execution_count": 178,
     "metadata": {},
     "output_type": "execute_result"
    }
   ],
   "source": [
    "approvedInterns"
   ]
  },
  {
   "cell_type": "code",
   "execution_count": 169,
   "metadata": {
    "collapsed": true
   },
   "outputs": [
    {
     "name": "stdout",
     "output_type": "stream",
     "text": [
      "0\n",
      "0\n",
      "0\n",
      "0\n",
      "0\n",
      "0\n",
      "0\n",
      "0\n",
      "0\n",
      "0\n",
      "0\n",
      "0\n",
      "0\n",
      "0\n",
      "0\n",
      "0\n",
      "0\n",
      "0\n",
      "0\n",
      "0\n",
      "0\n",
      "0\n",
      "0\n",
      "0\n",
      "0\n",
      "0\n",
      "0\n",
      "0\n",
      "0\n",
      "0\n",
      "0\n",
      "0\n",
      "0\n",
      "0\n",
      "0\n",
      "0\n",
      "0\n",
      "0\n",
      "0\n",
      "0\n",
      "0\n",
      "0\n",
      "0\n",
      "0\n",
      "0\n",
      "0\n",
      "0\n",
      "0\n",
      "0\n",
      "0\n",
      "0\n",
      "0\n",
      "0\n",
      "0\n",
      "0\n",
      "0\n",
      "0\n",
      "0\n",
      "0\n",
      "0\n",
      "0\n",
      "0\n",
      "0\n",
      "0\n",
      "0\n",
      "0\n",
      "1\n",
      "0\n",
      "0\n",
      "0\n",
      "0\n",
      "0\n",
      "0\n",
      "0\n",
      "0\n",
      "0\n",
      "0\n",
      "0\n",
      "0\n",
      "0\n",
      "0\n",
      "0\n",
      "0\n",
      "0\n",
      "0\n",
      "0\n",
      "0\n",
      "0\n",
      "0\n",
      "0\n",
      "0\n",
      "0\n",
      "0\n",
      "0\n",
      "0\n",
      "0\n",
      "0\n",
      "0\n",
      "0\n",
      "0\n",
      "0\n",
      "0\n",
      "1\n",
      "0\n",
      "0\n",
      "0\n",
      "0\n",
      "0\n",
      "0\n",
      "0\n",
      "0\n",
      "0\n",
      "0\n",
      "0\n",
      "0\n",
      "0\n",
      "0\n",
      "0\n",
      "0\n",
      "0\n",
      "0\n",
      "0\n",
      "0\n",
      "0\n",
      "0\n",
      "0\n",
      "0\n",
      "0\n",
      "0\n",
      "0\n",
      "0\n",
      "0\n",
      "0\n",
      "0\n",
      "0\n",
      "0\n",
      "0\n",
      "0\n",
      "0\n",
      "0\n",
      "0\n",
      "0\n",
      "0\n",
      "0\n",
      "0\n",
      "0\n",
      "0\n",
      "0\n",
      "0\n",
      "0\n",
      "0\n",
      "0\n",
      "0\n",
      "0\n",
      "0\n",
      "0\n",
      "0\n",
      "0\n",
      "0\n",
      "0\n",
      "0\n",
      "0\n",
      "0\n",
      "0\n",
      "0\n",
      "0\n",
      "0\n",
      "0\n",
      "0\n",
      "0\n",
      "0\n",
      "0\n",
      "0\n",
      "0\n",
      "0\n",
      "1\n",
      "0\n",
      "0\n",
      "0\n",
      "0\n",
      "0\n",
      "2\n",
      "0\n",
      "0\n",
      "0\n",
      "0\n",
      "0\n",
      "0\n",
      "0\n",
      "0\n",
      "0\n",
      "1\n",
      "0\n",
      "2\n",
      "0\n",
      "0\n",
      "0\n",
      "0\n",
      "0\n",
      "0\n",
      "0\n",
      "0\n",
      "0\n",
      "0\n",
      "0\n",
      "0\n",
      "0\n",
      "0\n",
      "0\n",
      "0\n",
      "1\n",
      "0\n",
      "0\n",
      "0\n",
      "0\n",
      "0\n",
      "0\n",
      "0\n",
      "0\n",
      "0\n",
      "0\n",
      "0\n",
      "0\n",
      "0\n",
      "0\n",
      "0\n",
      "0\n",
      "0\n",
      "0\n",
      "0\n",
      "0\n",
      "0\n",
      "0\n",
      "0\n",
      "0\n",
      "0\n"
     ]
    }
   ],
   "source": [
    "for kid in userName:\n",
    "    print(len(Intern.objects.filter(studentsEnrolled__contains=kid)))\n",
    "\n"
   ]
  },
  {
   "cell_type": "code",
   "execution_count": 171,
   "metadata": {},
   "outputs": [],
   "source": [
    "k=range(10)"
   ]
  },
  {
   "cell_type": "code",
   "execution_count": 173,
   "metadata": {},
   "outputs": [
    {
     "data": {
      "text/plain": [
       "[0, 1, 2, 3, 4, 5, 6, 7, 8, 9]"
      ]
     },
     "execution_count": 173,
     "metadata": {},
     "output_type": "execute_result"
    }
   ],
   "source": [
    "list(k)"
   ]
  },
  {
   "cell_type": "code",
   "execution_count": 176,
   "metadata": {},
   "outputs": [
    {
     "data": {
      "text/plain": [
       "[0, 1, 2, 3, 4]"
      ]
     },
     "execution_count": 176,
     "metadata": {},
     "output_type": "execute_result"
    }
   ],
   "source": [
    "list(k[:5])"
   ]
  },
  {
   "cell_type": "code",
   "execution_count": 177,
   "metadata": {},
   "outputs": [
    {
     "data": {
      "text/plain": [
       "<QuerySet [<User: 16XJ1A0504>, <User: 16XJ1A0540>, <User: 16XJ1A0501>, <User: 16XJ1A0502>, <User: 16XJ1A0503>, <User: 16XJ1A0505>, <User: 16XJ1A0506>, <User: 16XJ1A0507>, <User: 16XJ1A0508>, <User: 16XJ1A0509>, <User: 16XJ1A0510>, <User: 16XJ1A0511>, <User: 16XJ1A0512>, <User: 16XJ1A0513>, <User: 16XJ1A0514>, <User: 16XJ1A0515>, <User: 16XJ1A0516>, <User: 16XJ1A0517>, <User: 16XJ1A0518>, <User: 16XJ1A0519>, '...(remaining elements truncated)...']>"
      ]
     },
     "execution_count": 177,
     "metadata": {},
     "output_type": "execute_result"
    }
   ],
   "source": [
    "User.objects.filter(username__contains=\"16XJ1A05\")"
   ]
  },
  {
   "cell_type": "code",
   "execution_count": 180,
   "metadata": {},
   "outputs": [],
   "source": [
    "temp=approvedInterns[0]"
   ]
  },
  {
   "cell_type": "code",
   "execution_count": 183,
   "metadata": {},
   "outputs": [
    {
     "data": {
      "text/plain": [
       "'Prafulla'"
      ]
     },
     "execution_count": 183,
     "metadata": {},
     "output_type": "execute_result"
    }
   ],
   "source": [
    "temp.user.first_name"
   ]
  },
  {
   "cell_type": "code",
   "execution_count": null,
   "metadata": {},
   "outputs": [],
   "source": []
  }
 ],
 "metadata": {
  "kernelspec": {
   "display_name": "Python 3",
   "language": "python",
   "name": "python3"
  },
  "language_info": {
   "codemirror_mode": {
    "name": "ipython",
    "version": 3
   },
   "file_extension": ".py",
   "mimetype": "text/x-python",
   "name": "python",
   "nbconvert_exporter": "python",
   "pygments_lexer": "ipython3",
   "version": "3.6.4"
  }
 },
 "nbformat": 4,
 "nbformat_minor": 2
}
