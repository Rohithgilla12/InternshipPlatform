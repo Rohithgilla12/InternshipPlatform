{
 "cells": [
  {
   "cell_type": "code",
   "execution_count": 6,
   "metadata": {},
   "outputs": [],
   "source": [
    "import os, sys\n",
    "PWD = os.getenv('PWD')\n",
    "os.chdir(PWD)\n",
    "sys.path.insert(0, os.getenv('PWD'))\n",
    "os.environ.setdefault(\"DJANGO_SETTINGS_MODULE\", \"local_settings.py\")\n",
    "import django\n",
    "django.setup()"
   ]
  },
  {
   "cell_type": "code",
   "execution_count": 7,
   "metadata": {},
   "outputs": [],
   "source": [
    "from interns.models import Intern"
   ]
  },
  {
   "cell_type": "code",
   "execution_count": 5,
   "metadata": {},
   "outputs": [
    {
     "data": {
      "text/plain": [
       "<QuerySet [<Intern: Internship at Texas Austin USA>, <Intern: An internship at IIIT Hyderabad>, <Intern: Web Development using JSP>, <Intern: Graphic Design>, <Intern: Python Development>, <Intern: Web Development>]>"
      ]
     },
     "execution_count": 5,
     "metadata": {},
     "output_type": "execute_result"
    }
   ],
   "source": [
    "Intern.objects.all().order_by('-deadLine')"
   ]
  },
  {
   "cell_type": "code",
   "execution_count": 4,
   "metadata": {},
   "outputs": [],
   "source": [
    "from __future__ import print_function\n",
    "import pickle\n",
    "import os.path\n",
    "from googleapiclient.discovery import build\n",
    "from google_auth_oauthlib.flow import InstalledAppFlow\n",
    "from google.auth.transport.requests import Request\n"
   ]
  },
  {
   "cell_type": "code",
   "execution_count": 5,
   "metadata": {},
   "outputs": [],
   "source": [
    "SCOPES = ['https://www.googleapis.com/auth/spreadsheets.readonly']\n"
   ]
  },
  {
   "cell_type": "code",
   "execution_count": 6,
   "metadata": {},
   "outputs": [
    {
     "name": "stdout",
     "output_type": "stream",
     "text": [
      "Requirement already satisfied: gspread in /anaconda3/lib/python3.6/site-packages (3.1.0)\n",
      "Requirement already satisfied: requests>=2.2.1 in /anaconda3/lib/python3.6/site-packages (from gspread) (2.18.4)\n",
      "Requirement already satisfied: chardet<3.1.0,>=3.0.2 in /anaconda3/lib/python3.6/site-packages (from requests>=2.2.1->gspread) (3.0.4)\n",
      "Requirement already satisfied: idna<2.7,>=2.5 in /anaconda3/lib/python3.6/site-packages (from requests>=2.2.1->gspread) (2.6)\n",
      "Requirement already satisfied: urllib3<1.23,>=1.21.1 in /anaconda3/lib/python3.6/site-packages (from requests>=2.2.1->gspread) (1.22)\n",
      "Requirement already satisfied: certifi>=2017.4.17 in /anaconda3/lib/python3.6/site-packages (from requests>=2.2.1->gspread) (2018.10.15)\n",
      "\u001b[33mYou are using pip version 18.0, however version 19.0.1 is available.\n",
      "You should consider upgrading via the 'pip install --upgrade pip' command.\u001b[0m\n"
     ]
    }
   ],
   "source": [
    "!pip install gspread"
   ]
  },
  {
   "cell_type": "code",
   "execution_count": 7,
   "metadata": {},
   "outputs": [],
   "source": [
    "import gspread\n",
    "from oauth2client.service_account import ServiceAccountCredentials\n",
    "\n",
    "scope = ['https://spreadsheets.google.com/feeds',\n",
    "         'https://www.googleapis.com/auth/drive']\n",
    "\n",
    "credentials = ServiceAccountCredentials.from_json_keyfile_name('vue-notemaster-2ed8b3bfaf80.json', scope)\n"
   ]
  },
  {
   "cell_type": "code",
   "execution_count": 6,
   "metadata": {},
   "outputs": [],
   "source": [
    "gc = gspread.authorize(credentials)"
   ]
  },
  {
   "cell_type": "code",
   "execution_count": 7,
   "metadata": {},
   "outputs": [],
   "source": [
    "dudes=gc.open(\"2016\")"
   ]
  },
  {
   "cell_type": "code",
   "execution_count": 8,
   "metadata": {},
   "outputs": [],
   "source": [
    "sheet1=dudes.sheet1"
   ]
  },
  {
   "cell_type": "code",
   "execution_count": 12,
   "metadata": {},
   "outputs": [],
   "source": [
    "for i in range(25):\n",
    "    a=sheet1.find(\"16XJ1A0515\")"
   ]
  },
  {
   "cell_type": "code",
   "execution_count": 31,
   "metadata": {},
   "outputs": [],
   "source": [
    "sheet1.add_cols()"
   ]
  },
  {
   "cell_type": "code",
   "execution_count": 34,
   "metadata": {
    "collapsed": true
   },
   "outputs": [
    {
     "name": "stdout",
     "output_type": "stream",
     "text": [
      "[{'Roll No.': '16XJ1A0101', 'Branch': 'CE', 'Name of the Student': 'ADIRAJU  YESHWANTH RAJU', 'MEC EmailID': 'yeshwanth160101@mechyd.ac.in'}, {'Roll No.': '16XJ1A0102', 'Branch': 'CE', 'Name of the Student': 'ADITYA SINGH', 'MEC EmailID': 'aditya160102@mechyd.ac.in'}, {'Roll No.': '16XJ1A0103', 'Branch': 'CE', 'Name of the Student': 'Aneef Shaik', 'MEC EmailID': 'aneef160103@mechyd.ac.in'}, {'Roll No.': '16XJ1A0104', 'Branch': 'CE', 'Name of the Student': 'Anudeep Kanala ', 'MEC EmailID': 'anudeep160104@mechyd.ac.in'}, {'Roll No.': '16XJ1A0105', 'Branch': 'CE', 'Name of the Student': 'Jain Tanvi Rajeev', 'MEC EmailID': 'Tanvi160105@mechyd.ac.in'}, {'Roll No.': '16XJ1A0106', 'Branch': 'CE', 'Name of the Student': 'ASHOK  REDDY', 'MEC EmailID': 'ashok160106@mechyd.ac.in'}, {'Roll No.': '16XJ1A0107', 'Branch': 'CE', 'Name of the Student': 'Ashwin Nallamothu', 'MEC EmailID': 'ashwin160107@mechyd.ac.in'}, {'Roll No.': '16XJ1A0109', 'Branch': 'CE', 'Name of the Student': 'Banda  Rishi Raju', 'MEC EmailID': 'rishiraju160109@mechyd.ac.in'}, {'Roll No.': '16XJ1A0110', 'Branch': 'CE', 'Name of the Student': 'bhavani parupati', 'MEC EmailID': 'bhavani160110@mechyd.ac.in'}, {'Roll No.': '16XJ1A0111', 'Branch': 'CE', 'Name of the Student': 'Burra  Chakra Sai Sri Ram Akhilesh', 'MEC EmailID': 'akhilesh160111@mechyd.ac.in'}, {'Roll No.': '16XJ1A0112', 'Branch': 'CE', 'Name of the Student': 'Chidvilas Reddy Mandati', 'MEC EmailID': 'chidvilas160112@mechyd.ac.in'}, {'Roll No.': '16XJ1A0113', 'Branch': 'CE', 'Name of the Student': 'DANDU SATHWIK VARMA', 'MEC EmailID': 'sathwik160113@mechyd.ac.in'}, {'Roll No.': '16XJ1A0114', 'Branch': 'CE', 'Name of the Student': 'dara nikhil guptha', 'MEC EmailID': 'nikhil160114@mechyd.ac.in'}, {'Roll No.': '16XJ1A0115', 'Branch': 'CE', 'Name of the Student': 'DEEKSHA REDDY KANKANALA', 'MEC EmailID': 'deeksha160115@mechyd.ac.in'}, {'Roll No.': '16XJ1A0116', 'Branch': 'CE', 'Name of the Student': 'Dwarsala Lohitreddy ', 'MEC EmailID': 'lohitreddy160116@mechyd.ac.in'}, {'Roll No.': '16XJ1A0117', 'Branch': 'CE', 'Name of the Student': 'GADIPALLY  SANTHOSH KUMAR', 'MEC EmailID': 'santhosh160117@mechyd.ac.in'}, {'Roll No.': '16XJ1A0118', 'Branch': 'CE', 'Name of the Student': 'hakeem shivani', 'MEC EmailID': 'shivani160118@mechyd.ac.in'}, {'Roll No.': '16XJ1A0119', 'Branch': 'CE', 'Name of the Student': 'Ishaan Dimri', 'MEC EmailID': 'ishaan160119@mechyd.ac.in'}, {'Roll No.': '16XJ1A0120', 'Branch': 'CE', 'Name of the Student': 'Vamsi Mutyala raju Penmatsa', 'MEC EmailID': 'vamsi160120@mechyd.ac.in'}, {'Roll No.': '16XJ1A0121', 'Branch': 'CE', 'Name of the Student': 'Karthick S Kumar', 'MEC EmailID': 'karthick160121@mechyd.ac.in'}, {'Roll No.': '16XJ1A0122', 'Branch': 'CE', 'Name of the Student': 'KAVYALAKSHMI N', 'MEC EmailID': 'kavyalakshmi160122@mechyd.ac.in'}, {'Roll No.': '16XJ1A0123', 'Branch': 'CE', 'Name of the Student': 'Krishna Vardhan Reddy Pidaparthi', 'MEC EmailID': 'vardhan160123@mechyd.ac.in'}, {'Roll No.': '16XJ1A0124', 'Branch': 'CE', 'Name of the Student': 'Lakshmi Venkat Rohan Kandyana', 'MEC EmailID': 'rohan160124@mechyd.ac.in'}, {'Roll No.': '16XJ1A0125', 'Branch': 'CE', 'Name of the Student': 'likitha sai devagiri', 'MEC EmailID': 'likitha160125@mechyd.ac.in'}, {'Roll No.': '16XJ1A0126', 'Branch': 'CE', 'Name of the Student': 'Madhur Aditya Saharan', 'MEC EmailID': 'aditya160126@mechyd.ac.in'}, {'Roll No.': '16XJ1A0127', 'Branch': 'CE', 'Name of the Student': 'MALLOLU SAIKIRAN', 'MEC EmailID': 'saikiran160127@mechyd.ac.in'}, {'Roll No.': '16XJ1A0128', 'Branch': 'CE', 'Name of the Student': 'Marreddy Tejaswini ', 'MEC EmailID': 'tejaswini160128@mechyd.ac.in'}, {'Roll No.': '16XJ1A0129', 'Branch': 'CE', 'Name of the Student': 'mounika pokuri', 'MEC EmailID': 'mounika160129@mechyd.ac.in'}, {'Roll No.': '16XJ1A0130', 'Branch': 'CE', 'Name of the Student': 'muddana sai ashruth', 'MEC EmailID': 'saiashruth160130@mechyd.ac.in'}, {'Roll No.': '16XJ1A0131', 'Branch': 'CE', 'Name of the Student': 'Nadimpalli Sai Geeta Devi', 'MEC EmailID': 'saigeetadevi160131@mechyd.ac.in'}, {'Roll No.': '16XJ1A0132', 'Branch': 'CE', 'Name of the Student': 'POLASA SAI HRUTHIK', 'MEC EmailID': 'saihruthik160132@mechyd.ac.in'}, {'Roll No.': '16XJ1A0133', 'Branch': 'CE', 'Name of the Student': 'potnuru ashish', 'MEC EmailID': 'ashish160133@mechyd.ac.in'}, {'Roll No.': '16XJ1A0134', 'Branch': 'CE', 'Name of the Student': 'Pulli Sai  Sri Vathsa Kumar Reddy', 'MEC EmailID': 'srivathsakumar160134@mechyd.ac.in'}, {'Roll No.': '16XJ1A0135', 'Branch': 'CE', 'Name of the Student': 'putta narasimha reddy', 'MEC EmailID': 'narasimha160135@mechyd.ac.in'}, {'Roll No.': '16XJ1A0136', 'Branch': 'CE', 'Name of the Student': 'REDDY SOMA SHEKHAR', 'MEC EmailID': 'somashekhar160136@mechyd.ac.in'}, {'Roll No.': '16XJ1A0137', 'Branch': 'CE', 'Name of the Student': 'Saahil  Reddy', 'MEC EmailID': 'saahil160137@mechyd.ac.in'}, {'Roll No.': '16XJ1A0138', 'Branch': 'CE', 'Name of the Student': 'Sai Arjun', 'MEC EmailID': 'arjun160138@mechyd.ac.in'}, {'Roll No.': '16XJ1A0139', 'Branch': 'CE', 'Name of the Student': 'SAI MANIKANTA BANDI', 'MEC EmailID': 'saimanikanta160139@mechyd.ac.in'}, {'Roll No.': '16XJ1A0140', 'Branch': 'CE', 'Name of the Student': 'Sharada Pitta', 'MEC EmailID': 'sharada160140@mechyd.ac.in'}, {'Roll No.': '16XJ1A0141', 'Branch': 'CE', 'Name of the Student': 'Shiva Sai  ChitlapallY', 'MEC EmailID': 'shivasai160141@mechyd.ac.in'}, {'Roll No.': '16XJ1A0142', 'Branch': 'CE', 'Name of the Student': 'siva ganesh Tandyala', 'MEC EmailID': 'sivaganesh160142@mechyd.ac.in'}, {'Roll No.': '16XJ1A0143', 'Branch': 'CE', 'Name of the Student': 'Sri Harsha Reddy', 'MEC EmailID': 'sriharsha160143@mechyd.ac.in'}, {'Roll No.': '16XJ1A0144', 'Branch': 'CE', 'Name of the Student': 'Srila Reddy', 'MEC EmailID': 'srila160144@mechyd.ac.in'}, {'Roll No.': '16XJ1A0145', 'Branch': 'CE', 'Name of the Student': 'sriram  naga venkata swaroop', 'MEC EmailID': 'venkataswaroop160145@mechyd.ac.in'}, {'Roll No.': '16XJ1A0146', 'Branch': 'CE', 'Name of the Student': 'tallam satvik', 'MEC EmailID': 'satvik160146@mechyd.ac.in'}, {'Roll No.': '16XJ1A0148', 'Branch': 'CE', 'Name of the Student': 'VAKADA  LAKSHITA', 'MEC EmailID': 'lakshita160148@mechyd.ac.in'}, {'Roll No.': '16XJ1A0149', 'Branch': 'CE', 'Name of the Student': 'Varthika  Reddy', 'MEC EmailID': 'varthika160149@mechyd.ac.in'}, {'Roll No.': '16XJ1A0150', 'Branch': 'CE', 'Name of the Student': 'vineeth balusu', 'MEC EmailID': 'vineeth160150@mechyd.ac.in'}, {'Roll No.': '16XJ1A0151', 'Branch': 'CE', 'Name of the Student': 'VINEETH RAO CHEPYALA', 'MEC EmailID': 'vineethrao160151@mechyd.ac.in'}, {'Roll No.': '16XJ1A0152', 'Branch': 'CE', 'Name of the Student': 'vinjanampati Giridhar krishna sai', 'MEC EmailID': 'giridharkrishnasai160152@mechyd.ac.in'}, {'Roll No.': '16XJ1A0153', 'Branch': 'CE', 'Name of the Student': 'Visveswara Kartheek Mylavarapu', 'MEC EmailID': 'kartheek160153@mechyd.ac.in'}, {'Roll No.': '16XJ1A0154', 'Branch': 'CE', 'Name of the Student': 'YSN KISHORE', 'MEC EmailID': 'kishore160154@mechyd.ac.in'}, {'Roll No.': '16XJ1A0155', 'Branch': 'CE', 'Name of the Student': 'sai sree kurra', 'MEC EmailID': 'saisree160155@mechyd.ac.in'}, {'Roll No.': '16XJ1A0156', 'Branch': 'CE', 'Name of the Student': 'vanaparthy rahul varma', 'MEC EmailID': 'rahul160156@mechyd.ac.in'}, {'Roll No.': '16XJ1A0157', 'Branch': 'CE', 'Name of the Student': 'ANNE  AVINASH', 'MEC EmailID': 'avinash160157@mechyd.ac.in'}, {'Roll No.': '16XJ1A0158', 'Branch': 'CE', 'Name of the Student': 'Anudeep K', 'MEC EmailID': 'anudeep160158@mechyd.ac.in'}, {'Roll No.': '16XJ1A0159', 'Branch': 'CE', 'Name of the Student': 'Guru Teja K', 'MEC EmailID': 'guruteja160159@mechyd.ac.in'}, {'Roll No.': '16XJ1A0201', 'Branch': 'EEE', 'Name of the Student': 'Aravind Bramhajosyula', 'MEC EmailID': 'aravind160201@mechyd.ac.in'}, {'Roll No.': '16XJ1A0202', 'Branch': 'EEE', 'Name of the Student': 'Kotipalli Vamsikrishna', 'MEC EmailID': 'Vamsi160202@mechyd.ac.in'}, {'Roll No.': '16XJ1A0203', 'Branch': 'EEE', 'Name of the Student': 'Arun Showry Bandaru', 'MEC EmailID': 'arunshowry160203@mechyd.ac.in'}, {'Roll No.': '16XJ1A0204', 'Branch': 'EEE', 'Name of the Student': 'Ashish  Soni', 'MEC EmailID': 'ashish160204@mechyd.ac.in'}, {'Roll No.': '16XJ1A0205', 'Branch': 'EEE', 'Name of the Student': 'Chaitra  Kotagiri', 'MEC EmailID': 'chaitra160205@mechyd.ac.in'}, {'Roll No.': '16XJ1A0206', 'Branch': 'EEE', 'Name of the Student': 'CHALASANI THRUTI', 'MEC EmailID': 'thruti160206@mechyd.ac.in'}, {'Roll No.': '16XJ1A0207', 'Branch': 'EEE', 'Name of the Student': 'CHILAMAKURU PRAHARSHA', 'MEC EmailID': 'praharsha160207@mechyd.ac.in'}, {'Roll No.': '16XJ1A0208', 'Branch': 'EEE', 'Name of the Student': 'Deepak Gadhe', 'MEC EmailID': 'deepak160208@mechyd.ac.in'}, {'Roll No.': '16XJ1A0209', 'Branch': 'EEE', 'Name of the Student': 'Dhanush Kotha', 'MEC EmailID': 'dhanush160209@mechyd.ac.in'}, {'Roll No.': '16XJ1A0210', 'Branch': 'EEE', 'Name of the Student': 'GADE  VISHAL REDDY', 'MEC EmailID': 'vishal160210@mechyd.ac.in'}, {'Roll No.': '16XJ1A0211', 'Branch': 'EEE', 'Name of the Student': 'Gitanjali Raghu', 'MEC EmailID': 'gitanjali160211@mechyd.ac.in'}, {'Roll No.': '16XJ1A0212', 'Branch': 'EEE', 'Name of the Student': 'gopagoni muralidhar', 'MEC EmailID': 'muralidhar160212@mechyd.ac.in'}, {'Roll No.': '16XJ1A0213', 'Branch': 'EEE', 'Name of the Student': 'Venkata Ganesh Kalivarapu', 'MEC EmailID': 'ganesh160213@mechyd.ac.in'}, {'Roll No.': '16XJ1A0214', 'Branch': 'EEE', 'Name of the Student': 'Harsha sai durga raj Korada ', 'MEC EmailID': 'harshasai160214@mechyd.ac.in'}, {'Roll No.': '16XJ1A0215', 'Branch': 'EEE', 'Name of the Student': 'Harshith Uppalapati', 'MEC EmailID': 'harshith160215@mechyd.ac.in'}, {'Roll No.': '16XJ1A0216', 'Branch': 'EEE', 'Name of the Student': 'Jayesh Jain', 'MEC EmailID': 'jayesh160216@mechyd.ac.in'}, {'Roll No.': '16XJ1A0217', 'Branch': 'EEE', 'Name of the Student': 'K Naga Nikhil Reddy', 'MEC EmailID': 'nikhil160217@mechyd.ac.in'}, {'Roll No.': '16XJ1A0218', 'Branch': 'EEE', 'Name of the Student': 'KAVYA NARUKURTI', 'MEC EmailID': 'narukurti160218@mechyd.ac.in'}, {'Roll No.': '16XJ1A0219', 'Branch': 'EEE', 'Name of the Student': 'KRISHI SATYA SAI KATTUNGA', 'MEC EmailID': 'satyasai160219@mechyd.ac.in'}, {'Roll No.': '16XJ1A0220', 'Branch': 'EEE', 'Name of the Student': 'krishnam bhavika', 'MEC EmailID': 'bhavika160220@mechyd.ac.in'}, {'Roll No.': '16XJ1A0221', 'Branch': 'EEE', 'Name of the Student': 'Lohitha Theegela', 'MEC EmailID': 'lohitha160221@mechyd.ac.in'}, {'Roll No.': '16XJ1A0222', 'Branch': 'EEE', 'Name of the Student': 'M SUDHAMSHU  REDDY', 'MEC EmailID': 'sudhamshu160222@mechyd.ac.in'}, {'Roll No.': '16XJ1A0223', 'Branch': 'EEE', 'Name of the Student': 'Manasvi  Swaraj  Bhadani', 'MEC EmailID': 'manasvi160223@mechyd.ac.in'}, {'Roll No.': '16XJ1A0224', 'Branch': 'EEE', 'Name of the Student': 'Manisha jogi', 'MEC EmailID': 'manisha160224@mechyd.ac.in'}, {'Roll No.': '16XJ1A0225', 'Branch': 'EEE', 'Name of the Student': 'Manoj Kiran  Korrapati', 'MEC EmailID': 'manojkiran160225@mechyd.ac.in'}, {'Roll No.': '16XJ1A0226', 'Branch': 'EEE', 'Name of the Student': 'Mantri Aditya Anulekh', 'MEC EmailID': 'aditya160226@mechyd.ac.in'}, {'Roll No.': '16XJ1A0227', 'Branch': 'EEE', 'Name of the Student': 'Marneedi VSS Anirudh', 'MEC EmailID': 'anirudh160227@mechyd.ac.in'}, {'Roll No.': '16XJ1A0228', 'Branch': 'EEE', 'Name of the Student': 'MERAPALA PARASHAR', 'MEC EmailID': 'parashar160228@mechyd.ac.in'}, {'Roll No.': '16XJ1A0229', 'Branch': 'EEE', 'Name of the Student': 'MOHAMMED REHAN', 'MEC EmailID': 'rehan160229@mechyd.ac.in'}, {'Roll No.': '16XJ1A0230', 'Branch': 'EEE', 'Name of the Student': 'Naga Suresh Krishna Kondepudi', 'MEC EmailID': 'suresh160230@mechyd.ac.in'}, {'Roll No.': '16XJ1A0231', 'Branch': 'EEE', 'Name of the Student': 'NAGARJUNA RAPOLU', 'MEC EmailID': 'nagarjuna160231@mechyd.ac.in'}, {'Roll No.': '16XJ1A0232', 'Branch': 'EEE', 'Name of the Student': 'Parthasarathi Garlapati', 'MEC EmailID': 'parthasarathi160232@mechyd.ac.in'}, {'Roll No.': '16XJ1A0233', 'Branch': 'EEE', 'Name of the Student': 'PRASUNA SAI RIKKALA', 'MEC EmailID': 'prasuna160233@mechyd.ac.in'}, {'Roll No.': '16XJ1A0234', 'Branch': 'EEE', 'Name of the Student': 'PREETHI JERRIPOTHULA', 'MEC EmailID': 'preethi160234@mechyd.ac.in'}, {'Roll No.': '16XJ1A0235', 'Branch': 'EEE', 'Name of the Student': 'Rachana Sri Bollineni', 'MEC EmailID': 'rachanasri160235@mechyd.ac.in'}, {'Roll No.': '16XJ1A0236', 'Branch': 'EEE', 'Name of the Student': 'Kanipakam Monish reddy', 'MEC EmailID': 'monish160236@mechyd.ac.in'}, {'Roll No.': '16XJ1A0237', 'Branch': 'EEE', 'Name of the Student': 'Reshmai Shanmukhi Brundavanam', 'MEC EmailID': 'reshmai160237@mechyd.ac.in'}, {'Roll No.': '16XJ1A0238', 'Branch': 'EEE', 'Name of the Student': 'Rishabh Singh', 'MEC EmailID': 'rishabh160238@mechyd.ac.in'}, {'Roll No.': '16XJ1A0239', 'Branch': 'EEE', 'Name of the Student': 'SAIJA BHUMIREDDY', 'MEC EmailID': 'saija160239@mechyd.ac.in'}, {'Roll No.': '16XJ1A0240', 'Branch': 'EEE', 'Name of the Student': 'Sanjana  Reddy', 'MEC EmailID': 'sanjana160240@mechyd.ac.in'}, {'Roll No.': '16XJ1A0241', 'Branch': 'EEE', 'Name of the Student': 'santhosh mannas sammeta', 'MEC EmailID': 'santhosh160241@mechyd.ac.in'}, {'Roll No.': '16XJ1A0242', 'Branch': 'EEE', 'Name of the Student': 'Shreyas Rajesh', 'MEC EmailID': 'shreyas160242@mechyd.ac.in'}, {'Roll No.': '16XJ1A0243', 'Branch': 'EEE', 'Name of the Student': 'SIVA VISHAL VEMURI', 'MEC EmailID': 'sivavisha160243@mechyd.ac.in'}, {'Roll No.': '16XJ1A0244', 'Branch': 'EEE', 'Name of the Student': 'SRI GURU BASWANTH CHAKKA', 'MEC EmailID': 'baswanth160244@mechyd.ac.in'}, {'Roll No.': '16XJ1A0245', 'Branch': 'EEE', 'Name of the Student': 'SRI SAI PHANI KUMAR Neelam', 'MEC EmailID': 'phanikumar160245@mechyd.ac.in'}, {'Roll No.': '16XJ1A0246', 'Branch': 'EEE', 'Name of the Student': 'SRIHARSHA ATLURI', 'MEC EmailID': 'sriharsha160246@mechyd.ac.in'}, {'Roll No.': '16XJ1A0247', 'Branch': 'EEE', 'Name of the Student': 'Srikanth Gadde', 'MEC EmailID': 'srikanth160247@mechyd.ac.in'}, {'Roll No.': '16XJ1A0248', 'Branch': 'EEE', 'Name of the Student': 'STEFFI ROY', 'MEC EmailID': 'steffi160248@mechyd.ac.in'}, {'Roll No.': '16XJ1A0249', 'Branch': 'EEE', 'Name of the Student': 'suchit chander gurala', 'MEC EmailID': 'suchitchander160249@mechyd.ac.in'}, {'Roll No.': '16XJ1A0250', 'Branch': 'EEE', 'Name of the Student': 'SURYA PRANAV AMBATIPUDI', 'MEC EmailID': 'suryapranav160250@mechyd.ac.in'}, {'Roll No.': '16XJ1A0251', 'Branch': 'EEE', 'Name of the Student': 'TRIYA  Mulchandani', 'MEC EmailID': 'triya160251@mechyd.ac.in'}, {'Roll No.': '16XJ1A0252', 'Branch': 'EEE', 'Name of the Student': 'V NIHARIKA', 'MEC EmailID': 'niharika160252@mechyd.ac.in'}, {'Roll No.': '16XJ1A0253', 'Branch': 'EEE', 'Name of the Student': 'Vakulabharanam Mounika', 'MEC EmailID': 'mounika160253@mechyd.ac.in'}, {'Roll No.': '16XJ1A0254', 'Branch': 'EEE', 'Name of the Student': 'veerla  rohan kumar', 'MEC EmailID': 'rohankumar160254@mechyd.ac.in'}, {'Roll No.': '16XJ1A0255', 'Branch': 'EEE', 'Name of the Student': 'VENKATA SAI CHARAN CH', 'MEC EmailID': 'rohankumar160255@mechyd.ac.in'}, {'Roll No.': '16XJ1A0256', 'Branch': 'EEE', 'Name of the Student': 'Vssmk Sumanth Chilamakuri', 'MEC EmailID': 'sumanth160256@mechyd.ac.in'}, {'Roll No.': '16XJ1A0257', 'Branch': 'EEE', 'Name of the Student': 'YALAMANCHI VARUN', 'MEC EmailID': 'varun160257@mechyd.ac.in'}, {'Roll No.': '16XJ1A0301', 'Branch': 'ME', 'Name of the Student': 'Aditya Teja Bhimavarapu', 'MEC EmailID': 'adityateja160301@mechyd.ac.in'}, {'Roll No.': '16XJ1A0302', 'Branch': 'ME', 'Name of the Student': 'AKHIL VARMA', 'MEC EmailID': 'akhil160302@mechyd.ac.in'}, {'Roll No.': '16XJ1A0303', 'Branch': 'ME', 'Name of the Student': 'AKHILA BOPPANA', 'MEC EmailID': 'akhila160303@mechyd.ac.in'}, {'Roll No.': '16XJ1A0304', 'Branch': 'ME', 'Name of the Student': 'Aniketh Reddy Jonnalagadda', 'MEC EmailID': 'aniketh160304@mechyd.ac.in'}, {'Roll No.': '16XJ1A0305', 'Branch': 'ME', 'Name of the Student': 'Anirudh  Bendaram', 'MEC EmailID': 'anirudh160305@mechyd.ac.in'}, {'Roll No.': '16XJ1A0306', 'Branch': 'ME', 'Name of the Student': 'ARJUN AMARNATH BUGGANA', 'MEC EmailID': 'arjun160306@mechyd.ac.in'}, {'Roll No.': '16XJ1A0307', 'Branch': 'ME', 'Name of the Student': 'BATTU DEVRAJ REDDY', 'MEC EmailID': 'devraj160307@mechyd.ac.in'}, {'Roll No.': '16XJ1A0308', 'Branch': 'ME', 'Name of the Student': 'Ch Rajesh Chandra Reddy', 'MEC EmailID': 'rajesh160308@mechyd.ac.in'}, {'Roll No.': '16XJ1A0309', 'Branch': 'ME', 'Name of the Student': 'Chappidi Kautilya Reddy', 'MEC EmailID': 'kautilya160309@mechyd.ac.in'}, {'Roll No.': '16XJ1A0310', 'Branch': 'ME', 'Name of the Student': 'CHAYAN  RELLAN', 'MEC EmailID': 'chayan160310@mechyd.ac.in'}, {'Roll No.': '16XJ1A0311', 'Branch': 'ME', 'Name of the Student': 'Durvasula V K S  Hemanth Kumar', 'MEC EmailID': 'hemanth160311@mechyd.ac.in'}, {'Roll No.': '16XJ1A0312', 'Branch': 'ME', 'Name of the Student': 'Vamsi Preetam Maradana', 'MEC EmailID': 'vamsi160312@mechyd.ac.in'}, {'Roll No.': '16XJ1A0313', 'Branch': 'ME', 'Name of the Student': 'kamadi surya', 'MEC EmailID': 'surya160313@mechyd.ac.in'}, {'Roll No.': '16XJ1A0315', 'Branch': 'ME', 'Name of the Student': 'GEDDAM ESWAR AJAY CHOWDARY', 'MEC EmailID': 'ajay160315@mechyd.ac.in'}, {'Roll No.': '16XJ1A0316', 'Branch': 'ME', 'Name of the Student': 'Gowtham  Koppisetti', 'MEC EmailID': 'gowtham160316@mechyd.ac.in'}, {'Roll No.': '16XJ1A0317', 'Branch': 'ME', 'Name of the Student': 'Harsha Vardhan', 'MEC EmailID': 'harsha160317@mechyd.ac.in'}, {'Roll No.': '16XJ1A0318', 'Branch': 'ME', 'Name of the Student': 'JAMPANA ANUDEEP VARMA', 'MEC EmailID': 'anudeep160318@mechyd.ac.in'}, {'Roll No.': '16XJ1A0319', 'Branch': 'ME', 'Name of the Student': 'JUGAL SAI POTTI', 'MEC EmailID': 'saipotti160319@mechyd.ac.in'}, {'Roll No.': '16XJ1A0320', 'Branch': 'ME', 'Name of the Student': 'kantipudi  krishna vamsi', 'MEC EmailID': 'vamsi160320@mechyd.ac.in'}, {'Roll No.': '16XJ1A0321', 'Branch': 'ME', 'Name of the Student': 'KARTIKEYA BHARDWAJ', 'MEC EmailID': 'bhardwaj160321@mechyd.ac.in'}, {'Roll No.': '16XJ1A0322', 'Branch': 'ME', 'Name of the Student': 'Kushal Y', 'MEC EmailID': 'kushal160322@mechyd.ac.in'}, {'Roll No.': '16XJ1A0323', 'Branch': 'ME', 'Name of the Student': 'Laxmi Shivani Reddy Thoutreddy', 'MEC EmailID': 'shivani160323@mechyd.ac.in'}, {'Roll No.': '16XJ1A0324', 'Branch': 'ME', 'Name of the Student': 'NAGESWARARAO ERANKI', 'MEC EmailID': 'nageswararao160324@mechyd.ac.in'}, {'Roll No.': '16XJ1A0325', 'Branch': 'ME', 'Name of the Student': 'NALLA SAIKIRANKUMAR', 'MEC EmailID': 'saikirankumar160325@mechyd.ac.in'}, {'Roll No.': '16XJ1A0326', 'Branch': 'ME', 'Name of the Student': 'NAVAL PATTAR', 'MEC EmailID': 'naval160326@mechyd.ac.in'}, {'Roll No.': '16XJ1A0327', 'Branch': 'ME', 'Name of the Student': 'Nishith Patnaik P P', 'MEC EmailID': 'nishith160327@mechyd.ac.in'}, {'Roll No.': '16XJ1A0328', 'Branch': 'ME', 'Name of the Student': 'Pulkit Mehta', 'MEC EmailID': 'mehta160328@mechyd.ac.in'}, {'Roll No.': '16XJ1A0329', 'Branch': 'ME', 'Name of the Student': 'RAJA SIMHA REDDY BOMMINENI', 'MEC EmailID': 'rajasimhareddy160329@mechyd.ac.in'}, {'Roll No.': '16XJ1A0330', 'Branch': 'ME', 'Name of the Student': 'Thakkalapally Sai Krishna', 'MEC EmailID': 'saikrishna106330@mechyd.ac.in'}, {'Roll No.': '16XJ1A0331', 'Branch': 'ME', 'Name of the Student': 'Ramakrishna Reddy Kayala', 'MEC EmailID': 'ramakrishna160331@mechyd.ac.in'}, {'Roll No.': '16XJ1A0332', 'Branch': 'ME', 'Name of the Student': 'Rishabh jain', 'MEC EmailID': 'rishabh160332@mechyd.ac.in'}, {'Roll No.': '16XJ1A0333', 'Branch': 'ME', 'Name of the Student': 'Ruthvik Sainath  Meka', 'MEC EmailID': 'sainath160333@mechyd.ac.in'}, {'Roll No.': '16XJ1A0334', 'Branch': 'ME', 'Name of the Student': 'Sagi venkata vikram Verma', 'MEC EmailID': 'vikramverma160334@mechyd.ac.in'}, {'Roll No.': '16XJ1A0335', 'Branch': 'ME', 'Name of the Student': 'Sai Madhavan', 'MEC EmailID': 'madhavan160335@mechyd.ac.in'}, {'Roll No.': '16XJ1A0336', 'Branch': 'ME', 'Name of the Student': 'Sai Phani Keerthan Ponduri', 'MEC EmailID': 'saiphanikeerthan160336@mechyd.ac.in'}, {'Roll No.': '16XJ1A0337', 'Branch': 'ME', 'Name of the Student': 'Sai Rohan Gowtham  K', 'MEC EmailID': 'sairohan160337@mechyd.ac.in'}, {'Roll No.': '16XJ1A0338', 'Branch': 'ME', 'Name of the Student': 'Sainath Kalicheti', 'MEC EmailID': 'sainath160338@mechyd.ac.in'}, {'Roll No.': '16XJ1A0339', 'Branch': 'ME', 'Name of the Student': 'SAKETH SIDDARTH SV', 'MEC EmailID': 'siddarth160339@mechyd.ac.in'}, {'Roll No.': '16XJ1A0340', 'Branch': 'ME', 'Name of the Student': 'SANDEEP REDDY CHITTIREDDY', 'MEC EmailID': 'sandeep160340@mechyd.ac.in'}, {'Roll No.': '16XJ1A0341', 'Branch': 'ME', 'Name of the Student': 'SATYA RAGHU VEER MENCHU', 'MEC EmailID': 'raghuveer160341@mechyd.ac.in'}, {'Roll No.': '16XJ1A0342', 'Branch': 'ME', 'Name of the Student': 'SHAIK FAHEEM ROSHAN', 'MEC EmailID': 'faheemroshan160342@mechyd.ac.in'}, {'Roll No.': '16XJ1A0343', 'Branch': 'ME', 'Name of the Student': 'shiva sai reddy mandadi ', 'MEC EmailID': 'shivasai160343@mechyd.ac.in'}, {'Roll No.': '16XJ1A0344', 'Branch': 'ME', 'Name of the Student': 'Singampalli  Venkat karun', 'MEC EmailID': 'venkatkarun160344@mechyd.ac.in'}, {'Roll No.': '16XJ1A0345', 'Branch': 'ME', 'Name of the Student': 'Siri Chandana Surabhi', 'MEC EmailID': 'sirichandana160345@mechyd.ac.in'}, {'Roll No.': '16XJ1A0346', 'Branch': 'ME', 'Name of the Student': 'SOHINI CHINTALA', 'MEC EmailID': 'sohini160346@mechyd.ac.in'}, {'Roll No.': '16XJ1A0347', 'Branch': 'ME', 'Name of the Student': 'SOMULA  MOULISWARA REDDY', 'MEC EmailID': 'mouliswarareddy160347@mechyd.ac.in'}, {'Roll No.': '16XJ1A0348', 'Branch': 'ME', 'Name of the Student': 'Soorya Chandrashekar', 'MEC EmailID': 'soorya160348@mechyd.ac.in'}, {'Roll No.': '16XJ1A0349', 'Branch': 'ME', 'Name of the Student': 'Sree Mahesh Reddi Kurri', 'MEC EmailID': 'sreemahesh160349@mechyd.ac.in'}, {'Roll No.': '16XJ1A0350', 'Branch': 'ME', 'Name of the Student': 'SRIKAR SRIVATSA SAMAVEDAM', 'MEC EmailID': 'srikarsrivatsa160350@mechyd.ac.in'}, {'Roll No.': '16XJ1A0351', 'Branch': 'ME', 'Name of the Student': 'SUNKARAPALLI HANISH', 'MEC EmailID': 'hanish160351@mechyd.ac.in'}, {'Roll No.': '16XJ1A0352', 'Branch': 'ME', 'Name of the Student': 'TANGUDU SAI SRINIVAS', 'MEC EmailID': 'saisrinivas160352@mechyd.ac.in'}, {'Roll No.': '16XJ1A0353', 'Branch': 'ME', 'Name of the Student': 'TELLA PRUDHVI KRISHNA', 'MEC EmailID': 'prudhvikrishna160353@mechyd.ac.in'}, {'Roll No.': '16XJ1A0354', 'Branch': 'ME', 'Name of the Student': 'Sree Sai Teja T', 'MEC EmailID': 'teja160354@mechyd.ac.in'}, {'Roll No.': '16XJ1A0355', 'Branch': 'ME', 'Name of the Student': 'THIPPARTHI MANEESH REDDY', 'MEC EmailID': 'maneeshreddy160355@mechyd.ac.in'}, {'Roll No.': '16XJ1A0356', 'Branch': 'ME', 'Name of the Student': 'Tuhin Bagi', 'MEC EmailID': 'tuhin160356@mechyd.ac.in'}, {'Roll No.': '16XJ1A0357', 'Branch': 'ME', 'Name of the Student': 'vadlamudi Sai prasanna kumar', 'MEC EmailID': 'saiprasannakumar160357@mechyd.ac.in'}, {'Roll No.': '16XJ1A0358', 'Branch': 'ME', 'Name of the Student': 'Vamsi Krishna Sukhavasi', 'MEC EmailID': 'sukhavasi160358@mechyd.ac.in'}, {'Roll No.': '16XJ1A0359', 'Branch': 'ME', 'Name of the Student': 'Vishal Mahala', 'MEC EmailID': 'vishal160359@mechyd.ac.in'}, {'Roll No.': '16XJ1A0501', 'Branch': 'CSE', 'Name of the Student': 'Aadi D  Jain', 'MEC EmailID': 'jain160501@mechyd.ac.in'}, {'Roll No.': '16XJ1A0502', 'Branch': 'CSE', 'Name of the Student': 'Aashritha Reddy', 'MEC EmailID': 'aashritha160502@mechyd.ac.in'}, {'Roll No.': '16XJ1A0503', 'Branch': 'CSE', 'Name of the Student': 'Abhimanyu Bellam', 'MEC EmailID': 'abhimanyu160503@mechyd.ac.in'}, {'Roll No.': '16XJ1A0504', 'Branch': 'CSE', 'Name of the Student': 'ABHINAV REDDY NIMMA', 'MEC EmailID': 'abhinavreddy160504@mechyd.ac.in'}, {'Roll No.': '16XJ1A0505', 'Branch': 'CSE', 'Name of the Student': 'ADDAGALA DATTA DEEPAK', 'MEC EmailID': 'deepak160505@mechyd.ac.in'}, {'Roll No.': '16XJ1A0506', 'Branch': 'CSE', 'Name of the Student': 'AJANTA KANCHARLA', 'MEC EmailID': 'ajanta160506@mechyd.ac.in'}, {'Roll No.': '16XJ1A0507', 'Branch': 'CSE', 'Name of the Student': 'Ananya Penmatcha', 'MEC EmailID': 'ananya160507@mechyd.ac.in'}, {'Roll No.': '16XJ1A0508', 'Branch': 'CSE', 'Name of the Student': 'Anvesh  Chidura', 'MEC EmailID': 'anvesh160508@mechyd.ac.in'}, {'Roll No.': '16XJ1A0509', 'Branch': 'CSE', 'Name of the Student': 'Bala Tripura Tanmai Karumuri', 'MEC EmailID': 'tripuratanmai160509@mechyd.ac.in'}, {'Roll No.': '16XJ1A0510', 'Branch': 'CSE', 'Name of the Student': 'CHANDRA SEKHAR  KATAMREDDI ', 'MEC EmailID': 'sekhar160510@mechyd.ac.in'}, {'Roll No.': '16XJ1A0511', 'Branch': 'CSE', 'Name of the Student': 'CHITTIPALLI ADITYA KIRAN', 'MEC EmailID': 'adityakiran160511@mechyd.ac.in'}, {'Roll No.': '16XJ1A0512', 'Branch': 'CSE', 'Name of the Student': 'DAMISETTY GANESH CHITTI VEERANNA', 'MEC EmailID': 'ganesh160512@mechyd.ac.in'}, {'Roll No.': '16XJ1A0513', 'Branch': 'CSE', 'Name of the Student': 'Devaki Nimmagadda', 'MEC EmailID': 'devaki160513@mechyd.ac.in'}, {'Roll No.': '16XJ1A0514', 'Branch': 'CSE', 'Name of the Student': 'DHRUV  SRIVASTAVA', 'MEC EmailID': 'srivastava160514@mechyd.ac.in'}, {'Roll No.': '16XJ1A0515', 'Branch': 'CSE', 'Name of the Student': 'G  ROHITH', 'MEC EmailID': 'rohith160515@mechyd.ac.in'}, {'Roll No.': '16XJ1A0516', 'Branch': 'CSE', 'Name of the Student': 'GANNAMANENI KARTHIK', 'MEC EmailID': 'karthik160516@mechyd.ac.in'}, {'Roll No.': '16XJ1A0517', 'Branch': 'CSE', 'Name of the Student': 'Harshavardhanreddy Tamatam', 'MEC EmailID': 'harshavardhan160517@mechyd.ac.in'}, {'Roll No.': '16XJ1A0518', 'Branch': 'CSE', 'Name of the Student': 'Heamesh Chowdary Nettem', 'MEC EmailID': 'heamesh160518@mechyd.ac.in'}, {'Roll No.': '16XJ1A0519', 'Branch': 'CSE', 'Name of the Student': 'Hemanth Chaturvedula', 'MEC EmailID': 'hemanth160519@mechyd.ac.in'}, {'Roll No.': '16XJ1A0520', 'Branch': 'CSE', 'Name of the Student': 'Hritik Narayan', 'MEC EmailID': 'narayan160520@mechyd.ac.in'}, {'Roll No.': '16XJ1A0521', 'Branch': 'CSE', 'Name of the Student': 'JAHNAVI MALAGAVALLI', 'MEC EmailID': 'jahnavi160521@mechyd.ac.in'}, {'Roll No.': '16XJ1A0522', 'Branch': 'CSE', 'Name of the Student': 'Janumanchi Shwethamsh', 'MEC EmailID': 'shwethamsh160522@mechyd.ac.in'}, {'Roll No.': '16XJ1A0523', 'Branch': 'CSE', 'Name of the Student': 'Jashay Lilani', 'MEC EmailID': 'jashay160523@mechyd.ac.in'}, {'Roll No.': '16XJ1A0524', 'Branch': 'CSE', 'Name of the Student': 'Jhansi MANNAM', 'MEC EmailID': 'jhansi160524@mechyd.ac.in'}, {'Roll No.': '16XJ1A0525', 'Branch': 'CSE', 'Name of the Student': 'kamakshi moparthi', 'MEC EmailID': 'kamakshi160525@mechyd.ac.in'}, {'Roll No.': '16XJ1A0526', 'Branch': 'CSE', 'Name of the Student': 'Rajeev Reddy Thumma', 'MEC EmailID': 'rajeevreddy160526@mechyd.ac.in'}, {'Roll No.': '16XJ1A0527', 'Branch': 'CSE', 'Name of the Student': 'Artika Agrawal', 'MEC EmailID': 'artika160527@mechyd.ac.in'}, {'Roll No.': '16XJ1A0529', 'Branch': 'CSE', 'Name of the Student': 'KAVYA VANI B', 'MEC EmailID': 'kavyavani160529@mechyd.ac.in'}, {'Roll No.': '16XJ1A0530', 'Branch': 'CSE', 'Name of the Student': 'LANKALA KRISHNA VAMSHI  REDDY ', 'MEC EmailID': 'vamshi160530@mechyd.ac.in'}, {'Roll No.': '16XJ1A0531', 'Branch': 'CSE', 'Name of the Student': 'Malavika Reddy Mandapati', 'MEC EmailID': 'malavika160531@mechyd.ac.in'}, {'Roll No.': '16XJ1A0532', 'Branch': 'CSE', 'Name of the Student': 'Mallampati Harsha Chaitanya Reddy', 'MEC EmailID': 'chaitanya160532@mechyd.ac.in'}, {'Roll No.': '16XJ1A0533', 'Branch': 'CSE', 'Name of the Student': 'MANTRIPRAGADA KRISHNA  ROHITH', 'MEC EmailID': 'rohith160533@mechyd.ac.in'}, {'Roll No.': '16XJ1A0534', 'Branch': 'CSE', 'Name of the Student': 'muduganti akash reddy', 'MEC EmailID': 'akashreddy160534@mechyd.ac.in'}, {'Roll No.': '16XJ1A0535', 'Branch': 'CSE', 'Name of the Student': 'PAVAN MALLINA', 'MEC EmailID': 'pavan160535@mechyd.ac.in'}, {'Roll No.': '16XJ1A0536', 'Branch': 'CSE', 'Name of the Student': 'POTLAPALLI VAISHNAV RAO', 'MEC EmailID': 'vaishnav160536@mechyd.ac.in'}, {'Roll No.': '16XJ1A0537', 'Branch': 'CSE', 'Name of the Student': 'Pramod kumar Varma Manthena', 'MEC EmailID': 'pramodkumar160537@mechyd.ac.in'}, {'Roll No.': '16XJ1A0538', 'Branch': 'CSE', 'Name of the Student': 'PRANEETH REDDY KALLU', 'MEC EmailID': 'praneeth160538@mechyd.ac.in'}, {'Roll No.': '16XJ1A0539', 'Branch': 'CSE', 'Name of the Student': 'RAGHU RAM MADDURI', 'MEC EmailID': 'raghuram160539@mechyd.ac.in'}, {'Roll No.': '16XJ1A0540', 'Branch': 'CSE', 'Name of the Student': 'Ram Manohar Reddy Nallamilli', 'MEC EmailID': 'rammanoharreddy160540@mechyd.ac.in'}, {'Roll No.': '16XJ1A0541', 'Branch': 'CSE', 'Name of the Student': 'Durvasula Venkata Kameswara Manikya Rishab', 'MEC EmailID': 'rishab160541@mechyd.ac.in'}, {'Roll No.': '16XJ1A0542', 'Branch': 'CSE', 'Name of the Student': 'sai shiva kalyan Challa', 'MEC EmailID': 'shivakalyan160542@mechyd.ac.in'}, {'Roll No.': '16XJ1A0543', 'Branch': 'CSE', 'Name of the Student': 'Sai Sushanth Yelineni', 'MEC EmailID': 'sushanth160543@mechyd.ac.in'}, {'Roll No.': '16XJ1A0544', 'Branch': 'CSE', 'Name of the Student': 'Shailesh  Parepally ', 'MEC EmailID': 'shailesh160544@mechyd.ac.in'}, {'Roll No.': '16XJ1A0545', 'Branch': 'CSE', 'Name of the Student': 'Shashank reddy Vontela', 'MEC EmailID': 'shashank160545@mechyd.ac.in'}, {'Roll No.': '16XJ1A0546', 'Branch': 'CSE', 'Name of the Student': 'Shreya Reddy', 'MEC EmailID': 'shreya160546@mechyd.ac.in'}, {'Roll No.': '16XJ1A0547', 'Branch': 'CSE', 'Name of the Student': 'Sreedivya Bondalapati', 'MEC EmailID': 'sreedivya160547@mechyd.ac.in'}, {'Roll No.': '16XJ1A0548', 'Branch': 'CSE', 'Name of the Student': 'Sreya Peddina', 'MEC EmailID': 'sreya160548@mechyd.ac.in'}, {'Roll No.': '16XJ1A0549', 'Branch': 'CSE', 'Name of the Student': 'CHARUPALLI CHARAN', 'MEC EmailID': 'charan160549@mechyd.ac.in'}, {'Roll No.': '16XJ1A0550', 'Branch': 'CSE', 'Name of the Student': 'Srija Gurijala', 'MEC EmailID': 'srija160550@mechyd.ac.in'}, {'Roll No.': '16XJ1A0551', 'Branch': 'CSE', 'Name of the Student': 'SRIKANTH DENDULURI', 'MEC EmailID': 'srikanth160551@mechyd.ac.in'}, {'Roll No.': '16XJ1A0552', 'Branch': 'CSE', 'Name of the Student': 'SUBHANKAR REDDY DANDA', 'MEC EmailID': 'subhankar160552@mechyd.ac.in'}, {'Roll No.': '16XJ1A0553', 'Branch': 'CSE', 'Name of the Student': 'Tarun Guntaka ', 'MEC EmailID': 'tarun160553@mechyd.ac.in'}, {'Roll No.': '16XJ1A0554', 'Branch': 'CSE', 'Name of the Student': 'Tarun Rao Keshabhoina', 'MEC EmailID': 'tarunrao160554@mechyd.ac.in'}, {'Roll No.': '16XJ1A0555', 'Branch': 'CSE', 'Name of the Student': 'Taruneswar Reddy', 'MEC EmailID': 'taruneswar160555@mechyd.ac.in'}, {'Roll No.': '16XJ1A0556', 'Branch': 'CSE', 'Name of the Student': 'TUMMURI KIRANTEJA', 'MEC EmailID': 'kiranteja160556@mechyd.ac.in'}, {'Roll No.': '16XJ1A0557', 'Branch': 'CSE', 'Name of the Student': 'vamsi krishna reddy', 'MEC EmailID': 'vamsikrishna160557@mechyd.ac.in'}, {'Roll No.': '16XJ1A0558', 'Branch': 'CSE', 'Name of the Student': 'MANVEETH GUPTA SASANAPURI', 'MEC EmailID': 'manveeth160558@mechyd.ac.in'}, {'Roll No.': '16XJ1A0559', 'Branch': 'CSE', 'Name of the Student': 'VIHAN SHAH', 'MEC EmailID': 'shah160559@mechyd.ac.in'}, {'Roll No.': '16XJ1A0560', 'Branch': 'CSE', 'Name of the Student': 'YERRAM SATHWIK', 'MEC EmailID': 'sathwik160560@mechyd.ac.in'}, {'Roll No.': '16XJ1A0561', 'Branch': 'CSE', 'Name of the Student': 'sravanti ratnakaram', 'MEC EmailID': 'sravanti160561@mechyd.ac.in'}, {'Roll No.': '16XJ1A0562', 'Branch': 'CSE', 'Name of the Student': 'Rahul Arulkumaran', 'MEC EmailID': 'rahul160562@mechyd.ac.in'}, {'Roll No.': '16XJ1A0563', 'Branch': 'CSE', 'Name of the Student': 'Chindam  Bhargav', 'MEC EmailID': 'bhargav160563@mechyd.ac.in'}, {'Roll No.': '16XJ1A0564', 'Branch': 'CSE', 'Name of the Student': 'Jayantha Nanduri', 'MEC EmailID': 'Jayantha160564@mechyd.ac.in'}, {'Roll No.': '16XJ1A0565', 'Branch': 'CSE', 'Name of the Student': 'Mannam Venkata Sai Maneesh', 'MEC EmailID': 'Maneesh160565@mechyd.ac.in'}]\n"
     ]
    }
   ],
   "source": [
    "print(sheet1.get_all_records())"
   ]
  },
  {
   "cell_type": "code",
   "execution_count": 35,
   "metadata": {},
   "outputs": [
    {
     "data": {
      "text/plain": [
       "<Cell R188C1 '16XJ1A0515'>"
      ]
     },
     "execution_count": 35,
     "metadata": {},
     "output_type": "execute_result"
    }
   ],
   "source": [
    "sheet1.acell('A188')"
   ]
  },
  {
   "cell_type": "code",
   "execution_count": null,
   "metadata": {},
   "outputs": [],
   "source": []
  },
  {
   "cell_type": "code",
   "execution_count": null,
   "metadata": {},
   "outputs": [],
   "source": []
  },
  {
   "cell_type": "code",
   "execution_count": 8,
   "metadata": {},
   "outputs": [],
   "source": [
    "import re"
   ]
  },
  {
   "cell_type": "code",
   "execution_count": 24,
   "metadata": {},
   "outputs": [],
   "source": [
    "rolMatch=re.compile(r'[15,16,17,18]+[XJ,xj,Xj,xJ]+1A0[1-3,5][0-9][0-9]')"
   ]
  },
  {
   "cell_type": "code",
   "execution_count": 30,
   "metadata": {},
   "outputs": [
    {
     "data": {
      "text/plain": [
       "<_sre.SRE_Match object; span=(0, 10), match='16XJ1A0558'>"
      ]
     },
     "execution_count": 30,
     "metadata": {},
     "output_type": "execute_result"
    }
   ],
   "source": [
    "rolMatch.match(\"16XJ1A0558 blah blah blah\")"
   ]
  },
  {
   "cell_type": "code",
   "execution_count": 31,
   "metadata": {},
   "outputs": [
    {
     "data": {
      "text/plain": [
       "'ABCD'"
      ]
     },
     "execution_count": 31,
     "metadata": {},
     "output_type": "execute_result"
    }
   ],
   "source": [
    "\"abcD\".upper()"
   ]
  },
  {
   "cell_type": "code",
   "execution_count": 32,
   "metadata": {},
   "outputs": [
    {
     "data": {
      "text/plain": [
       "'AVC'"
      ]
     },
     "execution_count": 32,
     "metadata": {},
     "output_type": "execute_result"
    }
   ],
   "source": [
    "\"AVC\".upper()"
   ]
  },
  {
   "cell_type": "code",
   "execution_count": null,
   "metadata": {},
   "outputs": [],
   "source": []
  },
  {
   "cell_type": "code",
   "execution_count": 33,
   "metadata": {},
   "outputs": [],
   "source": [
    "import openpyxl"
   ]
  },
  {
   "cell_type": "code",
   "execution_count": 37,
   "metadata": {},
   "outputs": [],
   "source": [
    "from openpyxl import Workbook"
   ]
  },
  {
   "cell_type": "code",
   "execution_count": 38,
   "metadata": {},
   "outputs": [],
   "source": [
    "wb = Workbook()"
   ]
  },
  {
   "cell_type": "code",
   "execution_count": 11,
   "metadata": {},
   "outputs": [],
   "source": [
    "from openpyxl import load_workbook"
   ]
  },
  {
   "cell_type": "code",
   "execution_count": 12,
   "metadata": {},
   "outputs": [],
   "source": [
    "currStudents=load_workbook(\"2017 Email ID's.xlsx\")"
   ]
  },
  {
   "cell_type": "code",
   "execution_count": 13,
   "metadata": {},
   "outputs": [
    {
     "name": "stderr",
     "output_type": "stream",
     "text": [
      "/anaconda3/lib/python3.6/site-packages/ipykernel_launcher.py:1: DeprecationWarning: Call to deprecated function get_sheet_names (Use wb.sheetnames).\n",
      "  \"\"\"Entry point for launching an IPython kernel.\n"
     ]
    },
    {
     "data": {
      "text/plain": [
       "['Sheet1']"
      ]
     },
     "execution_count": 13,
     "metadata": {},
     "output_type": "execute_result"
    }
   ],
   "source": [
    "currStudents.get_sheet_names()"
   ]
  },
  {
   "cell_type": "code",
   "execution_count": 14,
   "metadata": {},
   "outputs": [],
   "source": [
    "currStudents1=currStudents['Sheet1']"
   ]
  },
  {
   "cell_type": "code",
   "execution_count": 15,
   "metadata": {},
   "outputs": [
    {
     "name": "stdout",
     "output_type": "stream",
     "text": [
      "Roll No.\n",
      "Branch\n",
      "Name of the Student\n",
      "MEC EmailID\n",
      "17XJ1A0101\n",
      "CE\n",
      "Bandreddy Haswanthsai   \n",
      "haswanth170101@mechyd.ac.in\n",
      "17XJ1A0102\n",
      "CE\n",
      "Beeram Sree Keerthe  \n",
      "sreekeerthe170102@mechyd.ac.in\n",
      "17XJ1A0103\n",
      "CE\n",
      "Danish Hassan   \n",
      "hassan170103@mechyd.ac.in\n",
      "17XJ1A0104\n",
      "CE\n",
      "Gottimukkala Venkata Abhigyan Sharma \n",
      "abhigyansharma170104@mechyd.ac.in\n",
      "17XJ1A0105\n",
      "CE\n",
      "Hanu Sumegha Didyala  \n",
      "hanusumegha170105@mechyd.ac.in\n",
      "17XJ1A0106\n",
      "CE\n",
      "Hardhik Reddy Kasireddy  \n",
      "hardhikreddy170106@mechyd.ac.in\n",
      "17XJ1A0107\n",
      "CE\n",
      "Kadarla Sushmita   \n",
      "sushmita170107@mechyd.ac.in\n",
      "17XJ1A0108\n",
      "CE\n",
      "Kailas Md   \n",
      "kailas170108@mechyd.ac.in\n",
      "17XJ1A0109\n",
      "CE\n",
      "Kalidindi Vikas Varma  \n",
      "vikasvarma170109@mechyd.ac.in\n",
      "17XJ1A0110\n",
      "CE\n",
      "Kanuka Reddy Mareddy  \n",
      "kanukareddy170110@mechyd.ac.in\n",
      "17XJ1A0111\n",
      "CE\n",
      "Kashyap Reddy Velma  \n",
      "kashyapreddy170111@mechyd.ac.in\n",
      "17XJ1A0112\n",
      "CE\n",
      "Kokkirala Akshith   \n",
      "akshith170112@mechyd.ac.in\n",
      "17XJ1A0113\n",
      "CE\n",
      "Kolla Abhinav   \n",
      "abhinav170113@mechyd.ac.in\n",
      "17XJ1A0114\n",
      "CE\n",
      "Kota Jaswanth Reddy  \n",
      "jaswanthreddy170114@mechyd.ac.in\n",
      "17XJ1A0115\n",
      "CE\n",
      "Kunduru Abhijeeth Reddy  \n",
      "abhijeeth170115@mechyd.ac.in\n",
      "17XJ1A0116\n",
      "CE\n",
      "Kurapati Ravi Naga Sai \n",
      "ravinagasai170116@mechyd.ac.in\n",
      "17XJ1A0117\n",
      "CE\n",
      "Laxmi Manisha Gandham  \n",
      "laxmimanisha170117@mechyd.ac.in\n",
      "17XJ1A0118\n",
      "CE\n",
      "Mallu Nikhil Surya Teja \n",
      "nikhilsurya170118@mechyd.ac.in\n",
      "17XJ1A0119\n",
      "CE\n",
      "Mohammed Ayub Ifan  \n",
      "ayubifan170119@mechyd.ac.in\n",
      "17XJ1A0120\n",
      "CE\n",
      "Neerukonda Swetha   \n",
      "swetha170120@mechyd.ac.in\n",
      "17XJ1A0121\n",
      "CE\n",
      "Peddireddy Sahithi Reddy  \n",
      "sahithi170121@mechyd.ac.in\n",
      "17XJ1A0122\n",
      "CE\n",
      "Pooja Kancharla   \n",
      "pooja170122@mechyd.ac.in\n",
      "17XJ1A0123\n",
      "CE\n",
      "Pranit Nukala   \n",
      "pranit170123@mechyd.ac.in\n",
      "17XJ1A0124\n",
      "CE\n",
      "Prasanna Aditya Varma Alluri \n",
      "adityavarma170124@mechyd.ac.in\n",
      "17XJ1A0125\n",
      "CE\n",
      "Puchakayala Gokul Krishna  \n",
      "gokulkrishna170125@mechyd.ac.in\n",
      "17XJ1A0126\n",
      "CE\n",
      "Pylla Sai Pranav Reddy \n",
      "saipranav170126@mechyd.ac.in\n",
      "17XJ1A0127\n",
      "CE\n",
      "Rachana Billkanti   \n",
      "rachana170127@mechyd.ac.in\n",
      "17XJ1A0128\n",
      "CE\n",
      "Rakshita Modugu   \n",
      "rakshita170128@mechyd.ac.in\n",
      "17XJ1A0129\n",
      "CE\n",
      "Richaa Bommareddy   \n",
      "richaa170129@mechyd.ac.in\n",
      "17XJ1A0130\n",
      "CE\n",
      "Rishaad    \n",
      "rishaad170130@mechyd.ac.in\n",
      "17XJ1A0131\n",
      "CE\n",
      "Rohith Suram\n",
      "rohith170131@mechyd.ac.in\n",
      "17XJ1A0132\n",
      "CE\n",
      "Sachithananda Reddy   \n",
      "sachithananda170132@mechyd.ac.in\n",
      "17XJ1A0133\n",
      "CE\n",
      "Saharsh Nandaram   \n",
      "saharsh170133@mechyd.ac.in\n",
      "17XJ1A0134\n",
      "CE\n",
      "Shalin Mathew   \n",
      "shalin170134@mechyd.ac.in\n",
      "17XJ1A0135\n",
      "CE\n",
      "Shriya Rao Madhavaram  \n",
      "shriyarao170135@mechyd.ac.in\n",
      "17XJ1A0136\n",
      "CE\n",
      "Sree Satya Venkat Meka \n",
      "sreesatyavenkat170136@mechyd.ac.in\n",
      "17XJ1A0137\n",
      "CE\n",
      "Sri Sai Rohith Nimmagadda \n",
      "srisairohith170137@mechyd.ac.in\n",
      "17XJ1A0138\n",
      "CE\n",
      "Venkata Sai Madhu Dinesh Vitakula\n",
      "venkatasaimadhudinesh170138@mechyd.ac.in\n",
      "17XJ1A0139\n",
      "CE\n",
      "Irshad Ul Islam  \n",
      "Irshad170139@mechyd.ac.in\n",
      "17XJ1A0140\n",
      "CE\n",
      "Rumajid Musthaq   \n",
      "rumajid170140@mechyd.ac.in\n",
      "17XJ1A0141\n",
      "CE\n",
      "Madireddy Pranav Reddy  \n",
      "pranav170141@mechyd.ac.in\n",
      "17XJ1A0201\n",
      "EEE\n",
      "Adapa Veda Supraja  \n",
      "vedasupraja170201@mechyd.ac.in\n",
      "17XJ1A0202\n",
      "EEE\n",
      "Amulya Sai Reddy Kanthala \n",
      "amulya170202@mechyd.ac.in\n",
      "17XJ1A0203\n",
      "EEE\n",
      "Ananya Sampath   \n",
      "ananya170203@mechyd.ac.in\n",
      "17XJ1A0204\n",
      "EEE\n",
      "Aniruddh Singh   \n",
      "anirudh170204@mechyd.ac.in\n",
      "17XJ1A0205\n",
      "EEE\n",
      "Aziz Murtuza   \n",
      "aziz170205@mechyd.ac.in\n",
      "17XJ1A0206\n",
      "EEE\n",
      "Bandaru Naga Satya Surya Kumar\n",
      "suryakumar170206@mechyd.ac.in\n",
      "17XJ1A0207\n",
      "EEE\n",
      "Bhavik Maru   \n",
      "bhavik170207@mechyd.ac.in\n",
      "17XJ1A0208\n",
      "EEE\n",
      "Bhavitha Kuchipudi   \n",
      "bhavitha170208@mechyd.ac.in\n",
      "17XJ1A0209\n",
      "EEE\n",
      "Chaitra Deepika Komatineni  \n",
      "chaitradeepika170209@mechyd.ac.in\n",
      "17XJ1A0210\n",
      "EEE\n",
      "Etikala Sai Mahitha  \n",
      "saimahitha170210@mechyd.ac.in\n",
      "17XJ1A0211\n",
      "EEE\n",
      "Gali Sree Medha  \n",
      "Sreemedha170211@mechyd.ac.in\n",
      "17XJ1A0212\n",
      "EEE\n",
      "Gangalapudi Neha   \n",
      "neha170212@mechyd.ac.in\n",
      "17XJ1A0213\n",
      "EEE\n",
      "Gudimetla Poorna Sai Sri Ram\n",
      "poornasai170213@mechyd.ac.in\n",
      "17XJ1A0214\n",
      "EEE\n",
      "Guru Teja Chowdary Ananthaneni \n",
      "guruteja170214@mechyd.ac.in\n",
      "17XJ1A0215\n",
      "EEE\n",
      "Ivin Ipe Kurian  \n",
      "ivin170215@mechyd.ac.in\n",
      "17XJ1A0216\n",
      "EEE\n",
      "Jagathi Surya Teja  \n",
      "suryateja170216@mechyd.ac.in\n",
      "17XJ1A0217\n",
      "EEE\n",
      "Jaideep Kondepati   \n",
      "jaideep170217@mechyd.ac.in\n",
      "17XJ1A0218\n",
      "EEE\n",
      "K Shreya Reddy  \n",
      "shreya170218@mechyd.ac.in\n",
      "17XJ1A0219\n",
      "EEE\n",
      "Karthik Ranga   \n",
      "karthik170219@mechyd.ac.in\n",
      "17XJ1A0220\n",
      "EEE\n",
      "Kethidi Anjalireddy   \n",
      "anjalireddy170220@mechyd.ac.in\n",
      "17XJ1A0221\n",
      "EEE\n",
      "Krishaan Rao   \n",
      "krishaan170221@mechyd.ac.in\n",
      "17XJ1A0222\n",
      "EEE\n",
      "Madhunika A   \n",
      "madhunika170222@mechyd.ac.in\n",
      "17XJ1A0223\n",
      "EEE\n",
      "Mandem Siddarth Reddy  \n",
      "siddarth170223@mechyd.ac.in\n",
      "17XJ1A0224\n",
      "EEE\n",
      "Manogna Choudary Potluri  \n",
      "manogna170224@mechyd.ac.in\n",
      "17XJ1A0225\n",
      "EEE\n",
      "Mule Malyadri Reddy  \n",
      "malyadri170225@mechyd.ac.in\n",
      "17XJ1A0226\n",
      "EEE\n",
      "Nalluri Revathi Sivani  \n",
      "revathi170226@mechyd.ac.in\n",
      "17XJ1A0227\n",
      "EEE\n",
      "Nikhil Kotha   \n",
      "nikhil170227@mechyd.ac.in\n",
      "17XJ1A0228\n",
      "EEE\n",
      "Nikhil Nissankararao   \n",
      "nissankararao170228@mechyd.ac.in\n",
      "17XJ1A0229\n",
      "EEE\n",
      "Nikhitha Sunkara   \n",
      "nikhitha170229@mechyd.ac.in\n",
      "17XJ1A0230\n",
      "EEE\n",
      "Lokadithya Reddy Yadamakanti  \n",
      "lokadithya170230@mechyd.ac.in\n",
      "17XJ1A0231\n",
      "EEE\n",
      "Prathigadapa Sai Shirini  \n",
      "shirini170231@mechyd.ac.in\n",
      "17XJ1A0232\n",
      "EEE\n",
      "Rahul Sangamker   \n",
      "rahul170232@mechyd.ac.in\n",
      "17XJ1A0233\n",
      "EEE\n",
      "Ravipudi Rahul   \n",
      "rahul170233@mechyd.ac.in\n",
      "17XJ1A0234\n",
      "EEE\n",
      "Raviteja Reddy Mosali  \n",
      "raviteja170234@mechyd.ac.in\n",
      "17XJ1A0235\n",
      "EEE\n",
      "Reddy Chandra Mouli  \n",
      "chandramouli170235@mechyd.ac.in\n",
      "17XJ1A0236\n",
      "EEE\n",
      "Rohan Pandey   \n",
      "rohan170236@mechyd.ac.in\n",
      "17XJ1A0237\n",
      "EEE\n",
      "Yalamanchili Chandrakaladhar   \n",
      "chandrakaladhar170237@mechyd.ac.in\n",
      "17XJ1A0238\n",
      "EEE\n",
      "Sai Charmisha Kutumbaka  \n",
      "saicharmisha170238@mechyd.ac.in\n",
      "17XJ1A0239\n",
      "EEE\n",
      "Sai Prakash Reddy Kaukuttla \n",
      "saiprakash170239@mechyd.ac.in\n",
      "17XJ1A0240\n",
      "EEE\n",
      "Sai Reddy Snehith Reddy \n",
      "snehitha170240@mechyd.ac.in\n",
      "17XJ1A0241\n",
      "EEE\n",
      "Yellepeddi Venkata Sai Manoj \n",
      "saimanoj170241@mechyd.ac.in\n",
      "17XJ1A0242\n",
      "EEE\n",
      "Sai Sujay Masina  \n",
      "saisujay170242@mechyd.ac.in\n",
      "17XJ1A0243\n",
      "EEE\n",
      "Sai Venkat Pramit Godithi \n",
      "venkatpramit170243@mechyd.ac.in\n",
      "17XJ1A0244\n",
      "EEE\n",
      "Shalini Gupta Tatipally  \n",
      "shalinigupta170244@mechyd.ac.in\n",
      "17XJ1A0245\n",
      "EEE\n",
      "Sharath Chandra Palakuri  \n",
      "sharathchandra170245@mechyd.ac.in\n",
      "17XJ1A0246\n",
      "EEE\n",
      "Shriya Reddy Katpally  \n",
      "shriya170246@mechyd.ac.in\n",
      "17XJ1A0247\n",
      "EEE\n",
      "Shubhang Yadav   \n",
      "shubhang170247@mechyd.ac.in\n",
      "17XJ1A0248\n",
      "EEE\n",
      "Siddhartha Chakravarthy   \n",
      "siddhartha170248@mechyd.ac.in\n",
      "17XJ1A0249\n",
      "EEE\n",
      "Sirigiri Bharath Kumar Reddy \n",
      "bharathkumar170249@mechyd.ac.in\n",
      "17XJ1A0250\n",
      "EEE\n",
      "Soundarya Lahari Solasa  \n",
      "soundarya170250@mechyd.ac.in\n",
      "17XJ1A0251\n",
      "EEE\n",
      "Sravya Koppuravuri   \n",
      "sravya170251@mechyd.ac.in\n",
      "17XJ1A0252\n",
      "EEE\n",
      "Sudeep Birudavolu   \n",
      "sudeep170252@mechyd.ac.in\n",
      "17XJ1A0253\n",
      "EEE\n",
      "Suhaib Mohsin Moosa  \n",
      "suhaib170253@mechyd.ac.in\n",
      "17XJ1A0254\n",
      "EEE\n",
      "Vaishnavi Kola   \n",
      "vaishnavi170254@mechyd.ac.in\n",
      "17XJ1A0255\n",
      "EEE\n",
      "Yash Agarwal   \n",
      "yashagarwal170255@mechyd.ac.in\n",
      "17XJ1A0256\n",
      "EEE\n",
      "Venkata Sai Ajay Pudi \n",
      "saiajay170256@mechyd.ac.in\n",
      "17XJ1A0301\n",
      "ME\n",
      "Abishek Sudhan   \n",
      "abishek170301@mechyd.ac.in\n",
      "17XJ1A0302\n",
      "ME\n",
      "Adarsh Reddy B M S\n",
      "adarsh170302@mechyd.ac.in\n",
      "17XJ1A0303\n",
      "ME\n",
      "Aditya Bhojani   \n",
      "aditya170303@mechyd.ac.in\n",
      "17XJ1A0304\n",
      "ME\n",
      "Agneyan Dileep   \n",
      "dileep170304@mechyd.ac.in\n",
      "17XJ1A0305\n",
      "ME\n",
      "Akshay Pawar   \n",
      "akshay170305@mechyd.ac.in\n",
      "17XJ1A0306\n",
      "ME\n",
      "Amadaguntla Vamshi Somachand  \n",
      "vamshi170306@mechyd.ac.in\n",
      "17XJ1A0307\n",
      "ME\n",
      "Atul Sathya Koutilya Madduru \n",
      "koutilya170307@mechyd.ac.in\n",
      "17XJ1A0308\n",
      "ME\n",
      "Bhavikk Sanghi   \n",
      "bhavikk170308@mechyd.ac.in\n",
      "17XJ1A0309\n",
      "ME\n",
      "Bondalapati Chandra Kiran Reddy \n",
      "chandrakiran170309@mechyd.ac.in\n",
      "17XJ1A0310\n",
      "ME\n",
      "Buyyani Pranaykumar Reddy  \n",
      "pranaykumar170310@mechyd.ac.in\n",
      "17XJ1A0311\n",
      "ME\n",
      "Chaitanya Ruhatiya   \n",
      "chaitanya170311@mechyd.ac.in\n",
      "17XJ1A0312\n",
      "ME\n",
      "Chaitanya Sammeta   \n",
      "chaitanya170312@mechyd.ac.in\n",
      "17XJ1A0313\n",
      "ME\n",
      "Challuri Sujeev Reddy  \n",
      "sujeev170313@mechyd.ac.in\n",
      "17XJ1A0314\n",
      "ME\n",
      "Dhruva Kumar Nannapaneni  \n",
      "dhruvakumar170314@mechyd.ac.in\n",
      "17XJ1A0315\n",
      "ME\n",
      "Gopinath Reddy Mulageri  \n",
      "gopinath170315@mechyd.ac.in\n",
      "17XJ1A0316\n",
      "ME\n",
      "Govind Madhav Sai  \n",
      "madhavsai170316@mechyd.ac.in\n",
      "17XJ1A0317\n",
      "ME\n",
      "Hemanth Nimmagadda   \n",
      "hemanth170317@mechyd.ac.in\n",
      "17XJ1A0318\n",
      "ME\n",
      "Husein Noble   \n",
      "Husein170318@mechyd.ac.in\n",
      "17XJ1A0319\n",
      "ME\n",
      "J K Udaya Kumar Singh\n",
      "udayakumar170319@mechyd.ac.in\n",
      "17XJ1A0320\n",
      "ME\n",
      "Jakka Neha Reddy  \n",
      "Jakkaneha170320@mechyd.ac.in\n",
      "17XJ1A0321\n",
      "ME\n",
      "Jayanth Krishna Adusumalli  \n",
      "jayanthkrishna170321@mechyd.ac.in\n",
      "17XJ1A0322\n",
      "ME\n",
      "Kaarunya Karthik   \n",
      "karthik170322@mechyd.ac.in\n",
      "17XJ1A0323\n",
      "ME\n",
      "Karthik Kokkonda   \n",
      "karthik170323@mechyd.ac.in\n",
      "17XJ1A0324\n",
      "ME\n",
      "Kartik Sunil   \n",
      "kartiksunil170324@mechyd.ac.in\n",
      "17XJ1A0325\n",
      "ME\n",
      "Keshav   \n",
      "keshav170325@mechyd.ac.in\n",
      "17XJ1A0326\n",
      "ME\n",
      "Khushal Patil   \n",
      "khushal170326@mechyd.ac.in\n",
      "17XJ1A0327\n",
      "ME\n",
      "Korukonda Bhatter Srivatsa  \n",
      "srivatsa170327@mechyd.ac.in\n",
      "17XJ1A0328\n",
      "ME\n",
      "Krishna Saaketh Chaganti  \n",
      "saaketh170328@mechyd.ac.in\n",
      "17XJ1A0329\n",
      "ME\n",
      "Kura Manivas   \n",
      "manivas170329@mechyd.ac.in\n",
      "17XJ1A0330\n",
      "ME\n",
      "Lingampally Tharun   \n",
      "tharun170330@mechyd.ac.in\n",
      "17XJ1A0331\n",
      "ME\n",
      "M S P Aditya Samhith\n",
      "aditya170331@mechyd.ac.in\n",
      "17XJ1A0332\n",
      "ME\n",
      "Manne Bhargav Sai  \n",
      "bhargav170332@mechyd.ac.in\n",
      "17XJ1A0333\n",
      "ME\n",
      "Matsa Sai Nityamani Sahith \n",
      "sahith170333@mechyd.ac.in\n",
      "17XJ1A0334\n",
      "ME\n",
      "Mufeed Rahman   \n",
      "rahman170334@mechyd.ac.in\n",
      "17XJ1A0335\n",
      "ME\n",
      "Neha Hebbar   \n",
      "nehahebbar170335@mechyd.ac.in\n",
      "17XJ1A0336\n",
      "ME\n",
      "Pavan Mohith Kamarajugadda  \n",
      "pavanmohith170336@mechyd.ac.in\n",
      "17XJ1A0337\n",
      "ME\n",
      "Pemmaka Thejeswara Reddy  \n",
      "thejeshwara170337@mechyd.ac.in\n",
      "17XJ1A0338\n",
      "ME\n",
      "Rahul Kotikalapudi   \n",
      "rahul170338@mechyd.ac.in\n",
      "17XJ1A0339\n",
      "ME\n",
      "Rishik Reddy Methukupally  \n",
      "rishikreddy170339@mechyd.ac.in\n",
      "17XJ1A0340\n",
      "ME\n",
      "Rohan Dhansoia   \n",
      "rohan170340@mechyd.ac.in\n",
      "17XJ1A0341\n",
      "ME\n",
      "Ruthvik Gandra   \n",
      "ruthvik170341@mechyd.ac.in\n",
      "17XJ1A0342\n",
      "ME\n",
      "Sai Mahesh Chandra Kolla \n",
      "saimahesh170342@mechyd.ac.in\n",
      "17XJ1A0343\n",
      "ME\n",
      "Sai Sree Venkata Manohar Tripuraneni\n",
      "venkatamanohar170343@mechyd.ac.in\n",
      "17XJ1A0344\n",
      "ME\n",
      "Sai Vijay Kumar Surineela \n",
      "vijaykumar170344@mechyd.ac.in\n",
      "17XJ1A0345\n",
      "ME\n",
      "Sandeep Sayi   \n",
      "sandeep170345@mechyd.ac.in\n",
      "17XJ1A0346\n",
      "ME\n",
      "Sarath Nair   \n",
      "sarath170346@mechyd.ac.in\n",
      "17XJ1A0347\n",
      "ME\n",
      "Shashank Sadineni   \n",
      "shashank170347@mechyd.ac.in\n",
      "17XJ1A0348\n",
      "ME\n",
      "Shrey Kulkarni   \n",
      "shrey170348@mechyd.ac.in\n",
      "17XJ1A0349\n",
      "ME\n",
      "Siva Sriprasanna Maddila  \n",
      "sriprasanna170349@mechyd.ac.in\n",
      "17XJ1A0350\n",
      "ME\n",
      "Soma Sai   \n",
      "somasai170350@mechyd.ac.in\n",
      "17XJ1A0351\n",
      "ME\n",
      "Srijan Kumar   \n",
      "srijan170351@mechyd.ac.in\n",
      "17XJ1A0352\n",
      "ME\n",
      "Srikari Valluripalli   \n",
      "srikari170352@mechyd.ac.in\n",
      "17XJ1A0354\n",
      "ME\n",
      "Tankala Praveen Kumar  \n",
      "praveen170354@mechyd.ac.in\n",
      "17XJ1A0355\n",
      "ME\n",
      "Tayi Venkat Prahalad Dinesh \n",
      "dinesh170355@mechyd.ac.in\n",
      "17XJ1A0356\n",
      "ME\n",
      "Thota Rohan Naidu  \n",
      "rohannaidu170356@mechyd.ac.in\n",
      "17XJ1A0357\n",
      "ME\n",
      "Udaykiran Marni   \n",
      "udaykiran170357@mechyd.ac.in\n",
      "17XJ1A0358\n",
      "ME\n",
      "Uddeepa Reddy Aileny  \n",
      "uddeepareddy170358@mechyd.ac.in\n",
      "17XJ1A0359\n",
      "ME\n",
      "Vedant Sangani   \n",
      "vedant170359@mechyd.ac.in\n",
      "17XJ1A0360\n",
      "ME\n",
      "Yashwant Ravindranath Thota  \n",
      "ravindranath170360@mechyd.ac.in\n",
      "17XJ1A0361\n",
      "ME\n",
      "Shreeven Kommireddy   \n",
      "shreeven170361@mechyd.ac.in\n",
      "17XJ1A0362\n",
      "ME\n",
      "Vishal Patalay   \n",
      "vishal170362@mechyd.ac.in\n",
      "17XJ1A0363\n",
      "ME\n",
      "Vamsi Reddy Narreddy  \n",
      "vamsireddy170363@mechyd.ac.in\n",
      "17XJ1A0502\n",
      "CSE\n",
      "Abdul Mateen Shaik  \n",
      "mateen170502@mechyd.ac.in\n",
      "17XJ1A0503\n",
      "CSE\n",
      "Aleti Siva Saivarun  \n",
      "saivarun170503@mechyd.ac.in\n",
      "17XJ1A0504\n",
      "CSE\n",
      "Ananya Kosuru   \n",
      "ananya170504@mechyd.ac.in\n",
      "17XJ1A0505\n",
      "CSE\n",
      "Anchit Sharma   \n",
      "anchit170505@mechyd.ac.in\n",
      "17XJ1A0506\n",
      "CSE\n",
      "Anushka Singh   \n",
      "anushka170506@mechyd.ac.in\n",
      "17XJ1A0507\n",
      "CSE\n",
      "Apoorva Tv Kowkuntla  \n",
      "apoorva170507@mechyd.ac.in\n",
      "17XJ1A0508\n",
      "CSE\n",
      "Bandaru Hrithik   \n",
      "hrithik170508@mechyd.ac.in\n",
      "17XJ1A0509\n",
      "CSE\n",
      "Chandana Gondi   \n",
      "chandana170509@mechyd.ac.in\n",
      "17XJ1A0510\n",
      "CSE\n",
      "Chandhu Nuthalapati   \n",
      "chandu170510@mechyd.ac.in\n",
      "17XJ1A0511\n",
      "CSE\n",
      "Dharanidhar Venkata Anil Kumar Turaga\n",
      "anilkumar170511@mechyd.ac.in\n",
      "17XJ1A0512\n",
      "CSE\n",
      "Dheeraj Goli   \n",
      "dheeraj170512@mechyd.ac.in\n",
      "17XJ1A0513\n",
      "CSE\n",
      "Divya Naimisha Satyavarapu  \n",
      "divya170513@mechyd.ac.in\n",
      "17XJ1A0514\n",
      "CSE\n",
      "Ellanki Harshavardhan Reddy  \n",
      "harshavardhan170514@mechyd.ac.in\n",
      "17XJ1A0515\n",
      "CSE\n",
      "Gattagoni Navaneeth   \n",
      "navaneeth170515@mechyd.ac.in\n",
      "17XJ1A0516\n",
      "CSE\n",
      "Gummadi Vishnuvardhan   \n",
      "vishnuvardhan170516@mechyd.ac.in\n",
      "17XJ1A0517\n",
      "CSE\n",
      "Hitesh Reddy P  \n",
      "hitesh170517@mechyd.ac.in\n",
      "17XJ1A0518\n",
      "CSE\n",
      "Indu Madireddy   \n",
      "indu170518@mechyd.ac.in\n",
      "17XJ1A0519\n",
      "CSE\n",
      "Katukoju Sasi Pritham  \n",
      "pritham170519@mechyd.ac.in\n",
      "17XJ1A0520\n",
      "CSE\n",
      "Kritvi Mittal   \n",
      "kritvi1170520@mechyd.ac.in\n",
      "17XJ1A0521\n",
      "CSE\n",
      "Meda Sahithi   \n",
      "sahithi170521@mechyd.ac.in\n",
      "17XJ1A0522\n",
      "CSE\n",
      "Meesum Ali Khan  \n",
      "alikhan170522@mechyd.ac.in\n",
      "17XJ1A0523\n",
      "CSE\n",
      "Mogalapalli Preetham Raj  \n",
      "preetham170523@mechyd.ac.in\n",
      "17XJ1A0524\n",
      "CSE\n",
      "Molakalapalli Lakshmi Priya  \n",
      "lakshmipriya170524@mechyd.ac.in\n",
      "17XJ1A0525\n",
      "CSE\n",
      "Mupparapu Sai Koushik  \n",
      "saikoushik170525@mechyd.ac.in\n",
      "17XJ1A0526\n",
      "CSE\n",
      "Mushtaq Mohammad   \n",
      "musthaq170526@mechyd.ac.in\n",
      "17XJ1A0527\n",
      "CSE\n",
      "Nagubandi Sai Venkata Sri Teja\n",
      "sriteja170527@mechyd.ac.in\n",
      "17XJ1A0528\n",
      "CSE\n",
      "Nalluri Ravi Teja  \n",
      "raviteja170528@mechyd.ac.in\n",
      "17XJ1A0529\n",
      "CSE\n",
      "Narra Rohith Reddy  \n",
      "rohithreddy170529@mechyd.ac.in\n",
      "17XJ1A0530\n",
      "CSE\n",
      "Nilagiri Harshith   \n",
      "harshith170530@mechyd.ac.in\n",
      "17XJ1A0531\n",
      "CSE\n",
      "Nimmaneni Sathvik   \n",
      "sathvik170531@mechyd.ac.in\n",
      "17XJ1A0532\n",
      "CSE\n",
      "Nitish Reddy   \n",
      "nitish170532@mechyd.ac.in\n",
      "17XJ1A0533\n",
      "CSE\n",
      "Peddireddy Jayaram   \n",
      "jayaram170533@mechyd.ac.in\n",
      "17XJ1A0534\n",
      "CSE\n",
      "Piyush Raj Pandey  \n",
      "piyush170534@mechyd.ac.in\n",
      "17XJ1A0535\n",
      "CSE\n",
      "Prakruti Singh   \n",
      "prakruti170535@mechyd.ac.in\n",
      "17XJ1A0536\n",
      "CSE\n",
      "Pruthvik Shashank Reddy Poreddy\n",
      "pruthvik170536@mechyd.ac.in\n",
      "17XJ1A0537\n",
      "CSE\n",
      "Qurram Zaheer   \n",
      "zaheer170537@mechyd.ac.in\n",
      "17XJ1A0538\n",
      "CSE\n",
      "Rakshith Komuravelli   \n",
      "rakshith170538@mechyd.ac.in\n",
      "17XJ1A0539\n",
      "CSE\n",
      "Rakshith S   \n",
      "rakshith170539@mechyd.ac.in\n",
      "17XJ1A0540\n",
      "CSE\n",
      "Regatte Ajay Reddy  \n",
      "ajayreddy170540@mechyd.ac.in\n",
      "17XJ1A0541\n",
      "CSE\n",
      "Regatte Varshith Reddy  \n",
      "varshith170541@mechyd.ac.in\n",
      "17XJ1A0542\n",
      "CSE\n",
      "Ritvik Raj Padige  \n",
      "ritvikraj170542@mechyd.ac.in\n",
      "17XJ1A0543\n",
      "CSE\n",
      "Rochan Avlur   \n",
      "rochan170543@mechyd.ac.in\n",
      "17XJ1A0544\n",
      "CSE\n",
      "Rohan Russel Nedungadi  \n",
      "rohanrussel170544@mechyd.ac.in\n",
      "17XJ1A0545\n",
      "CSE\n",
      "S Lakshmi Datta Meghana \n",
      "meghana170545@mechyd.ac.in\n",
      "17XJ1A0546\n",
      "CSE\n",
      "Sai Anuroop V  \n",
      "anuroop170546@mechyd.ac.in\n",
      "17XJ1A0547\n",
      "CSE\n",
      "Sai Krishna Akhil Kilambi \n",
      "akhil170547@mechyd.ac.in\n",
      "17XJ1A0548\n",
      "CSE\n",
      "Sai Krishna Reddy Singireddy \n",
      "saikrishna170548@mechyd.ac.in\n",
      "17XJ1A0549\n",
      "CSE\n",
      "Sai Srinath Pachava  \n",
      "srinath170549@mechyd.ac.in\n",
      "17XJ1A0550\n",
      "CSE\n",
      "Sanath Kothapalli   \n",
      "sanath170550@mechyd.ac.in\n",
      "17XJ1A0551\n",
      "CSE\n",
      "Santosh Prithvi Meduri  \n",
      "santosh170551@mechyd.ac.in\n",
      "17XJ1A0552\n",
      "CSE\n",
      "Sathagopam Sri Sai Vishal \n",
      "saivishal170552@mechyd.ac.in\n",
      "17XJ1A0553\n",
      "CSE\n",
      "Sowjanya Nuti   \n",
      "sowjanya170553@mechyd.ac.in\n",
      "17XJ1A0554\n",
      "CSE\n",
      "Subrahmanya Vikhyath Vangara  \n",
      "vikhyath170554@mechyd.ac.in\n",
      "17XJ1A0555\n",
      "CSE\n",
      "Sudheendra Raghav Neela  \n",
      "raghav170555@mechyd.ac.in\n",
      "17XJ1A0556\n",
      "CSE\n",
      "Supritha Reddy Nalla  \n",
      "supritha170556@mechyd.ac.in\n",
      "17XJ1A0557\n",
      "CSE\n",
      "Thummala Pavan Sai  \n",
      "pavansai170557@mechyd.ac.in\n",
      "17XJ1A0558\n",
      "CSE\n",
      "Vamsi Varma Dantuluri  \n",
      "vamsivarma170558@mechyd.ac.in\n",
      "17XJ1A0559\n",
      "CSE\n",
      "Varun Kumar Gone  \n",
      "varunkumar170559@mechyd.ac.in\n",
      "17XJ1A0560\n",
      "CSE\n",
      "Vathsavi Boggarapu   \n",
      "vathsavi170560@mechyd.ac.in\n",
      "17XJ1A0561\n",
      "CSE\n",
      "Vemula Nikhil Sai  \n",
      "nikhilsai170561@mechyd.ac.in\n",
      "17XJ1A0562\n",
      "CSE\n",
      "Venkata Sai Kiran Narahari \n",
      "saikiran170562@mechyd.ac.in\n",
      "17XJ1A0563\n",
      "CSE\n",
      "Venkata Sai Sonali Tallapragada \n",
      "saisonali170563@mechyd.ac.in\n",
      "17XJ1A0564\n",
      "CSE\n",
      "Vinnakota Harshith   \n",
      "harshith170564@mechyd.ac.in\n",
      "17XJ1A0565\n",
      "CSE\n",
      "Viswa Janith Paidisetty  \n",
      "janith170565@mechyd.ac.in\n",
      "17XJ1A0566\n",
      "CSE\n",
      "Yukta Karkera   \n",
      "yukta170566@mechyd.ac.in\n",
      "17XJ1A0567\n",
      "CSE\n",
      "Saudamini Thakkala   \n",
      "saudamini170567@mechyd.ac.in\n",
      "17XJ1A0568\n",
      "CSE\n",
      "Mohammed Khaliq   \n",
      "khaliq170568@mechyd.ac.in\n",
      "17XJ1A0569\n",
      "CSE\n",
      "Sai Sree Pokala  \n",
      "saisree170569@mechyd.ac.in\n"
     ]
    }
   ],
   "source": [
    "userName=[]\n",
    "firstName=[]\n",
    "lastName=[]\n",
    "emails=[]\n",
    "for row in currStudents1.iter_rows():\n",
    "    for cell in row:\n",
    "        print(cell.value)"
   ]
  },
  {
   "cell_type": "code",
   "execution_count": 16,
   "metadata": {},
   "outputs": [],
   "source": [
    "userName=[]\n",
    "firstName=[]\n",
    "lastName=[]\n",
    "emails=[]\n",
    "for row in currStudents1.iter_rows():\n",
    "    i=0\n",
    "    for cell in row:\n",
    "        if i==0:\n",
    "            userName.append(cell.value)\n",
    "        if i==1:\n",
    "            pass\n",
    "        if i==2:\n",
    "            tempStorage = str(cell.value)\n",
    "            firstName.append(tempStorage.split()[0])\n",
    "            lastName.append(' '.join(tempStorage.split()[1:]))\n",
    "        if i==3:\n",
    "            emails.append(cell.value)\n",
    "        i+=1\n",
    "            "
   ]
  },
  {
   "cell_type": "code",
   "execution_count": null,
   "metadata": {},
   "outputs": [],
   "source": []
  },
  {
   "cell_type": "code",
   "execution_count": 52,
   "metadata": {},
   "outputs": [],
   "source": [
    "# user = User.objects.create_user('16XJ1A0540',password='Test1234')\n",
    "# user.first_name=\"Ram\"\n",
    "# user.last_name=\"Manohar\"\n",
    "# user.email=\"manohar160540@mechyd.ac.in\"\n",
    "# user.groups.add(students)\n",
    "# user.profile.leisureTime=\"Peaks\"\n",
    "# user.profile.location=\"Student\"\n",
    "# user.save()"
   ]
  },
  {
   "cell_type": "code",
   "execution_count": 8,
   "metadata": {},
   "outputs": [],
   "source": [
    "from django.contrib.auth.models import User\n",
    "from django.contrib.auth.models import Group"
   ]
  },
  {
   "cell_type": "code",
   "execution_count": 20,
   "metadata": {},
   "outputs": [],
   "source": [
    "students = Group.objects.get(name='Students')"
   ]
  },
  {
   "cell_type": "code",
   "execution_count": 21,
   "metadata": {},
   "outputs": [
    {
     "name": "stdout",
     "output_type": "stream",
     "text": [
      "Done with  17XJ1A0101\n",
      "Done with  17XJ1A0102\n",
      "Done with  17XJ1A0103\n",
      "Done with  17XJ1A0104\n",
      "Done with  17XJ1A0105\n",
      "Done with  17XJ1A0106\n",
      "Done with  17XJ1A0107\n",
      "Done with  17XJ1A0108\n",
      "Done with  17XJ1A0109\n",
      "Done with  17XJ1A0110\n",
      "Done with  17XJ1A0111\n",
      "Done with  17XJ1A0112\n",
      "Done with  17XJ1A0113\n",
      "Done with  17XJ1A0114\n",
      "Done with  17XJ1A0115\n",
      "Done with  17XJ1A0116\n",
      "Done with  17XJ1A0117\n",
      "Done with  17XJ1A0118\n",
      "Done with  17XJ1A0119\n",
      "Done with  17XJ1A0120\n",
      "Done with  17XJ1A0121\n",
      "Done with  17XJ1A0122\n",
      "Done with  17XJ1A0123\n",
      "Done with  17XJ1A0124\n",
      "Done with  17XJ1A0125\n",
      "Done with  17XJ1A0126\n",
      "Done with  17XJ1A0127\n",
      "Done with  17XJ1A0128\n",
      "Done with  17XJ1A0129\n",
      "Done with  17XJ1A0130\n",
      "Done with  17XJ1A0131\n",
      "Done with  17XJ1A0132\n",
      "Done with  17XJ1A0133\n",
      "Done with  17XJ1A0134\n",
      "Done with  17XJ1A0135\n",
      "Done with  17XJ1A0136\n",
      "Done with  17XJ1A0137\n",
      "Done with  17XJ1A0138\n",
      "Done with  17XJ1A0139\n",
      "Done with  17XJ1A0140\n",
      "Done with  17XJ1A0141\n",
      "Done with  17XJ1A0201\n",
      "Done with  17XJ1A0202\n",
      "Done with  17XJ1A0203\n",
      "Done with  17XJ1A0204\n",
      "Done with  17XJ1A0205\n",
      "Done with  17XJ1A0206\n",
      "Done with  17XJ1A0207\n",
      "Done with  17XJ1A0208\n",
      "Done with  17XJ1A0209\n",
      "Done with  17XJ1A0210\n",
      "Done with  17XJ1A0211\n",
      "Done with  17XJ1A0212\n",
      "Done with  17XJ1A0213\n",
      "Done with  17XJ1A0214\n",
      "Done with  17XJ1A0215\n",
      "Done with  17XJ1A0216\n",
      "Done with  17XJ1A0217\n",
      "Done with  17XJ1A0218\n",
      "Done with  17XJ1A0219\n",
      "Done with  17XJ1A0220\n",
      "Done with  17XJ1A0221\n",
      "Done with  17XJ1A0222\n",
      "Done with  17XJ1A0223\n",
      "Done with  17XJ1A0224\n",
      "Done with  17XJ1A0225\n",
      "Done with  17XJ1A0226\n",
      "Done with  17XJ1A0227\n",
      "Done with  17XJ1A0228\n",
      "Done with  17XJ1A0229\n",
      "Done with  17XJ1A0230\n",
      "Done with  17XJ1A0231\n",
      "Done with  17XJ1A0232\n",
      "Done with  17XJ1A0233\n",
      "Done with  17XJ1A0234\n",
      "Done with  17XJ1A0235\n",
      "Done with  17XJ1A0236\n",
      "Done with  17XJ1A0237\n",
      "Done with  17XJ1A0238\n",
      "Done with  17XJ1A0239\n",
      "Done with  17XJ1A0240\n",
      "Done with  17XJ1A0241\n",
      "Done with  17XJ1A0242\n",
      "Done with  17XJ1A0243\n",
      "Done with  17XJ1A0244\n",
      "Done with  17XJ1A0245\n",
      "Done with  17XJ1A0246\n",
      "Done with  17XJ1A0247\n",
      "Done with  17XJ1A0248\n",
      "Done with  17XJ1A0249\n",
      "Done with  17XJ1A0250\n",
      "Done with  17XJ1A0251\n",
      "Done with  17XJ1A0252\n",
      "Done with  17XJ1A0253\n",
      "Done with  17XJ1A0254\n",
      "Done with  17XJ1A0255\n",
      "Done with  17XJ1A0256\n",
      "Done with  17XJ1A0301\n",
      "Done with  17XJ1A0302\n",
      "Done with  17XJ1A0303\n",
      "Done with  17XJ1A0304\n",
      "Done with  17XJ1A0305\n",
      "Done with  17XJ1A0306\n",
      "Done with  17XJ1A0307\n",
      "Done with  17XJ1A0308\n",
      "Done with  17XJ1A0309\n",
      "Done with  17XJ1A0310\n",
      "Done with  17XJ1A0311\n",
      "Done with  17XJ1A0312\n",
      "Done with  17XJ1A0313\n",
      "Done with  17XJ1A0314\n",
      "Done with  17XJ1A0315\n",
      "Done with  17XJ1A0316\n",
      "Done with  17XJ1A0317\n",
      "Done with  17XJ1A0318\n",
      "Done with  17XJ1A0319\n",
      "Done with  17XJ1A0320\n",
      "Done with  17XJ1A0321\n",
      "Done with  17XJ1A0322\n",
      "Done with  17XJ1A0323\n",
      "Done with  17XJ1A0324\n",
      "Done with  17XJ1A0325\n",
      "Done with  17XJ1A0326\n",
      "Done with  17XJ1A0327\n",
      "Done with  17XJ1A0328\n",
      "Done with  17XJ1A0329\n",
      "Done with  17XJ1A0330\n",
      "Done with  17XJ1A0331\n",
      "Done with  17XJ1A0332\n",
      "Done with  17XJ1A0333\n",
      "Done with  17XJ1A0334\n",
      "Done with  17XJ1A0335\n",
      "Done with  17XJ1A0336\n",
      "Done with  17XJ1A0337\n",
      "Done with  17XJ1A0338\n",
      "Done with  17XJ1A0339\n",
      "Done with  17XJ1A0340\n",
      "Done with  17XJ1A0341\n",
      "Done with  17XJ1A0342\n",
      "Done with  17XJ1A0343\n",
      "Done with  17XJ1A0344\n",
      "Done with  17XJ1A0345\n",
      "Done with  17XJ1A0346\n",
      "Done with  17XJ1A0347\n",
      "Done with  17XJ1A0348\n",
      "Done with  17XJ1A0349\n",
      "Done with  17XJ1A0350\n",
      "Done with  17XJ1A0351\n",
      "Done with  17XJ1A0352\n",
      "Done with  17XJ1A0354\n",
      "Done with  17XJ1A0355\n",
      "Done with  17XJ1A0356\n",
      "Done with  17XJ1A0357\n",
      "Done with  17XJ1A0358\n",
      "Done with  17XJ1A0359\n",
      "Done with  17XJ1A0360\n",
      "Done with  17XJ1A0361\n",
      "Done with  17XJ1A0362\n",
      "Done with  17XJ1A0363\n",
      "Done with  17XJ1A0502\n",
      "Done with  17XJ1A0503\n",
      "Done with  17XJ1A0504\n",
      "Done with  17XJ1A0505\n",
      "Done with  17XJ1A0506\n",
      "Done with  17XJ1A0507\n",
      "Done with  17XJ1A0508\n",
      "Done with  17XJ1A0509\n",
      "Done with  17XJ1A0510\n",
      "Done with  17XJ1A0511\n",
      "Done with  17XJ1A0512\n",
      "Done with  17XJ1A0513\n",
      "Done with  17XJ1A0514\n",
      "Done with  17XJ1A0515\n",
      "Done with  17XJ1A0516\n",
      "Done with  17XJ1A0517\n",
      "Done with  17XJ1A0518\n",
      "Done with  17XJ1A0519\n",
      "Done with  17XJ1A0520\n",
      "Done with  17XJ1A0521\n",
      "Done with  17XJ1A0522\n",
      "Done with  17XJ1A0523\n",
      "Done with  17XJ1A0524\n",
      "Done with  17XJ1A0525\n",
      "Done with  17XJ1A0526\n",
      "Done with  17XJ1A0527\n",
      "Done with  17XJ1A0528\n",
      "Done with  17XJ1A0529\n",
      "Done with  17XJ1A0530\n",
      "Done with  17XJ1A0531\n",
      "Done with  17XJ1A0532\n",
      "Done with  17XJ1A0533\n",
      "Done with  17XJ1A0534\n",
      "Done with  17XJ1A0535\n",
      "Done with  17XJ1A0536\n",
      "Done with  17XJ1A0537\n",
      "Done with  17XJ1A0538\n",
      "Done with  17XJ1A0539\n",
      "Done with  17XJ1A0540\n",
      "Done with  17XJ1A0541\n",
      "Done with  17XJ1A0542\n",
      "Done with  17XJ1A0543\n",
      "Done with  17XJ1A0544\n",
      "Done with  17XJ1A0545\n",
      "Done with  17XJ1A0546\n",
      "Done with  17XJ1A0547\n",
      "Done with  17XJ1A0548\n",
      "Done with  17XJ1A0549\n",
      "Done with  17XJ1A0550\n",
      "Done with  17XJ1A0551\n",
      "Done with  17XJ1A0552\n",
      "Done with  17XJ1A0553\n",
      "Done with  17XJ1A0554\n",
      "Done with  17XJ1A0555\n",
      "Done with  17XJ1A0556\n",
      "Done with  17XJ1A0557\n",
      "Done with  17XJ1A0558\n",
      "Done with  17XJ1A0559\n",
      "Done with  17XJ1A0560\n",
      "Done with  17XJ1A0561\n",
      "Done with  17XJ1A0562\n",
      "Done with  17XJ1A0563\n",
      "Done with  17XJ1A0564\n",
      "Done with  17XJ1A0565\n",
      "Done with  17XJ1A0566\n",
      "Done with  17XJ1A0567\n",
      "Done with  17XJ1A0568\n",
      "Done with  17XJ1A0569\n"
     ]
    }
   ],
   "source": [
    "for i in range(len(userName)):\n",
    "    try:\n",
    "        user = User.objects.create_user(userName[i],password=\"Test1234\")\n",
    "        user.first_name = firstName[i]\n",
    "        user.last_name = lastName[i]\n",
    "        user.email = emails[i]\n",
    "        user.groups.add(students)\n",
    "        user.profile.location=\"Student\"\n",
    "        user.save()\n",
    "        print(\"Done with \",user)\n",
    "    except:\n",
    "        print(\"Problem with \",user)"
   ]
  },
  {
   "cell_type": "code",
   "execution_count": 95,
   "metadata": {},
   "outputs": [],
   "source": [
    "i=0"
   ]
  },
  {
   "cell_type": "code",
   "execution_count": 108,
   "metadata": {},
   "outputs": [],
   "source": [
    "k=User.objects.all()"
   ]
  },
  {
   "cell_type": "code",
   "execution_count": 104,
   "metadata": {},
   "outputs": [
    {
     "data": {
      "text/plain": [
       "<User: 16XJ1A0101>"
      ]
     },
     "execution_count": 104,
     "metadata": {},
     "output_type": "execute_result"
    }
   ],
   "source": [
    "k[6]"
   ]
  },
  {
   "cell_type": "code",
   "execution_count": 88,
   "metadata": {},
   "outputs": [
    {
     "data": {
      "text/plain": [
       "(2,\n",
       " {'admin.LogEntry': 0,\n",
       "  'auth.User': 1,\n",
       "  'auth.User_groups': 0,\n",
       "  'auth.User_user_permissions': 0,\n",
       "  'interns.Profile': 1})"
      ]
     },
     "execution_count": 88,
     "metadata": {},
     "output_type": "execute_result"
    }
   ],
   "source": [
    "k[6].delete()"
   ]
  },
  {
   "cell_type": "code",
   "execution_count": 109,
   "metadata": {},
   "outputs": [],
   "source": [
    "for i in range(6,len(k)):\n",
    "    k[i].delete()"
   ]
  },
  {
   "cell_type": "code",
   "execution_count": 96,
   "metadata": {},
   "outputs": [],
   "source": [
    "user = User.objects.create_user(userName[i],password=\"Test1234\")"
   ]
  },
  {
   "cell_type": "code",
   "execution_count": 97,
   "metadata": {},
   "outputs": [],
   "source": [
    "user.firstName = firstName[i]"
   ]
  },
  {
   "cell_type": "code",
   "execution_count": 98,
   "metadata": {},
   "outputs": [],
   "source": [
    "user.lastName = lastName[i]"
   ]
  },
  {
   "cell_type": "code",
   "execution_count": 99,
   "metadata": {},
   "outputs": [],
   "source": [
    "user.email = emails[i]"
   ]
  },
  {
   "cell_type": "code",
   "execution_count": 111,
   "metadata": {},
   "outputs": [],
   "source": [
    "allInterns = Intern.objects.all()\n"
   ]
  },
  {
   "cell_type": "code",
   "execution_count": 149,
   "metadata": {},
   "outputs": [],
   "source": [
    "obj = Intern.objects.get(id=1)"
   ]
  },
  {
   "cell_type": "code",
   "execution_count": 148,
   "metadata": {},
   "outputs": [
    {
     "data": {
      "text/plain": [
       "'16XJ1A0540,'"
      ]
     },
     "execution_count": 148,
     "metadata": {},
     "output_type": "execute_result"
    }
   ],
   "source": [
    "obj.studentsEnrolled"
   ]
  },
  {
   "cell_type": "code",
   "execution_count": 144,
   "metadata": {},
   "outputs": [],
   "source": [
    "enrolledKids=obj.studentsEnrolled.split(',')"
   ]
  },
  {
   "cell_type": "code",
   "execution_count": 145,
   "metadata": {},
   "outputs": [],
   "source": [
    "enrollmentString=''\n",
    "for kid in enrolledKids[:-1]:\n",
    "    for intern in allInterns:\n",
    "        i=0\n",
    "        if(kid in intern.studentsEnrolled): \n",
    "            i=i+1\n",
    "    enrollmentString+=kid+\"(\"+str(i)+\"),\""
   ]
  },
  {
   "cell_type": "code",
   "execution_count": 146,
   "metadata": {},
   "outputs": [
    {
     "data": {
      "text/plain": [
       "'16XJ1A0540(0),'"
      ]
     },
     "execution_count": 146,
     "metadata": {},
     "output_type": "execute_result"
    }
   ],
   "source": [
    "enrollmentString"
   ]
  },
  {
   "cell_type": "code",
   "execution_count": 152,
   "metadata": {},
   "outputs": [
    {
     "data": {
      "text/plain": [
       "<QuerySet [<Intern: Web Development>, <Intern: An internship at IIIT Hyderabad>]>"
      ]
     },
     "execution_count": 152,
     "metadata": {},
     "output_type": "execute_result"
    }
   ],
   "source": [
    "Intern.objects.filter(studentsEnrolled__contains='16XJ1A0504')"
   ]
  },
  {
   "cell_type": "code",
   "execution_count": 162,
   "metadata": {},
   "outputs": [],
   "source": [
    "approvedInterns = Intern.objects.filter(studentsApproved__contains='16XJ1A0504')"
   ]
  },
  {
   "cell_type": "code",
   "execution_count": 156,
   "metadata": {},
   "outputs": [],
   "source": [
    "k=Intern.objects.all()"
   ]
  },
  {
   "cell_type": "code",
   "execution_count": 160,
   "metadata": {},
   "outputs": [],
   "source": [
    "temp=k[4]"
   ]
  },
  {
   "cell_type": "code",
   "execution_count": 161,
   "metadata": {},
   "outputs": [
    {
     "data": {
      "text/plain": [
       "'16XJ1A0540,16XJ1A0504,'"
      ]
     },
     "execution_count": 161,
     "metadata": {},
     "output_type": "execute_result"
    }
   ],
   "source": [
    "temp.studentsApproved"
   ]
  },
  {
   "cell_type": "code",
   "execution_count": 178,
   "metadata": {},
   "outputs": [
    {
     "data": {
      "text/plain": [
       "<QuerySet [<Intern: Python Development>, <Intern: Web Development using JSP>, <Intern: An internship at IIIT Hyderabad>]>"
      ]
     },
     "execution_count": 178,
     "metadata": {},
     "output_type": "execute_result"
    }
   ],
   "source": [
    "approvedInterns"
   ]
  },
  {
   "cell_type": "code",
   "execution_count": 169,
   "metadata": {
    "collapsed": true
   },
   "outputs": [
    {
     "name": "stdout",
     "output_type": "stream",
     "text": [
      "0\n",
      "0\n",
      "0\n",
      "0\n",
      "0\n",
      "0\n",
      "0\n",
      "0\n",
      "0\n",
      "0\n",
      "0\n",
      "0\n",
      "0\n",
      "0\n",
      "0\n",
      "0\n",
      "0\n",
      "0\n",
      "0\n",
      "0\n",
      "0\n",
      "0\n",
      "0\n",
      "0\n",
      "0\n",
      "0\n",
      "0\n",
      "0\n",
      "0\n",
      "0\n",
      "0\n",
      "0\n",
      "0\n",
      "0\n",
      "0\n",
      "0\n",
      "0\n",
      "0\n",
      "0\n",
      "0\n",
      "0\n",
      "0\n",
      "0\n",
      "0\n",
      "0\n",
      "0\n",
      "0\n",
      "0\n",
      "0\n",
      "0\n",
      "0\n",
      "0\n",
      "0\n",
      "0\n",
      "0\n",
      "0\n",
      "0\n",
      "0\n",
      "0\n",
      "0\n",
      "0\n",
      "0\n",
      "0\n",
      "0\n",
      "0\n",
      "0\n",
      "1\n",
      "0\n",
      "0\n",
      "0\n",
      "0\n",
      "0\n",
      "0\n",
      "0\n",
      "0\n",
      "0\n",
      "0\n",
      "0\n",
      "0\n",
      "0\n",
      "0\n",
      "0\n",
      "0\n",
      "0\n",
      "0\n",
      "0\n",
      "0\n",
      "0\n",
      "0\n",
      "0\n",
      "0\n",
      "0\n",
      "0\n",
      "0\n",
      "0\n",
      "0\n",
      "0\n",
      "0\n",
      "0\n",
      "0\n",
      "0\n",
      "0\n",
      "1\n",
      "0\n",
      "0\n",
      "0\n",
      "0\n",
      "0\n",
      "0\n",
      "0\n",
      "0\n",
      "0\n",
      "0\n",
      "0\n",
      "0\n",
      "0\n",
      "0\n",
      "0\n",
      "0\n",
      "0\n",
      "0\n",
      "0\n",
      "0\n",
      "0\n",
      "0\n",
      "0\n",
      "0\n",
      "0\n",
      "0\n",
      "0\n",
      "0\n",
      "0\n",
      "0\n",
      "0\n",
      "0\n",
      "0\n",
      "0\n",
      "0\n",
      "0\n",
      "0\n",
      "0\n",
      "0\n",
      "0\n",
      "0\n",
      "0\n",
      "0\n",
      "0\n",
      "0\n",
      "0\n",
      "0\n",
      "0\n",
      "0\n",
      "0\n",
      "0\n",
      "0\n",
      "0\n",
      "0\n",
      "0\n",
      "0\n",
      "0\n",
      "0\n",
      "0\n",
      "0\n",
      "0\n",
      "0\n",
      "0\n",
      "0\n",
      "0\n",
      "0\n",
      "0\n",
      "0\n",
      "0\n",
      "0\n",
      "0\n",
      "0\n",
      "1\n",
      "0\n",
      "0\n",
      "0\n",
      "0\n",
      "0\n",
      "2\n",
      "0\n",
      "0\n",
      "0\n",
      "0\n",
      "0\n",
      "0\n",
      "0\n",
      "0\n",
      "0\n",
      "1\n",
      "0\n",
      "2\n",
      "0\n",
      "0\n",
      "0\n",
      "0\n",
      "0\n",
      "0\n",
      "0\n",
      "0\n",
      "0\n",
      "0\n",
      "0\n",
      "0\n",
      "0\n",
      "0\n",
      "0\n",
      "0\n",
      "1\n",
      "0\n",
      "0\n",
      "0\n",
      "0\n",
      "0\n",
      "0\n",
      "0\n",
      "0\n",
      "0\n",
      "0\n",
      "0\n",
      "0\n",
      "0\n",
      "0\n",
      "0\n",
      "0\n",
      "0\n",
      "0\n",
      "0\n",
      "0\n",
      "0\n",
      "0\n",
      "0\n",
      "0\n",
      "0\n"
     ]
    }
   ],
   "source": [
    "for kid in userName:\n",
    "    print(len(Intern.objects.filter(studentsEnrolled__contains=kid)))\n",
    "\n"
   ]
  },
  {
   "cell_type": "code",
   "execution_count": 171,
   "metadata": {},
   "outputs": [],
   "source": [
    "k=range(10)"
   ]
  },
  {
   "cell_type": "code",
   "execution_count": 173,
   "metadata": {},
   "outputs": [
    {
     "data": {
      "text/plain": [
       "[0, 1, 2, 3, 4, 5, 6, 7, 8, 9]"
      ]
     },
     "execution_count": 173,
     "metadata": {},
     "output_type": "execute_result"
    }
   ],
   "source": [
    "list(k)"
   ]
  },
  {
   "cell_type": "code",
   "execution_count": 176,
   "metadata": {},
   "outputs": [
    {
     "data": {
      "text/plain": [
       "[0, 1, 2, 3, 4]"
      ]
     },
     "execution_count": 176,
     "metadata": {},
     "output_type": "execute_result"
    }
   ],
   "source": [
    "list(k[:5])"
   ]
  },
  {
   "cell_type": "code",
   "execution_count": 177,
   "metadata": {},
   "outputs": [
    {
     "data": {
      "text/plain": [
       "<QuerySet [<User: 16XJ1A0504>, <User: 16XJ1A0540>, <User: 16XJ1A0501>, <User: 16XJ1A0502>, <User: 16XJ1A0503>, <User: 16XJ1A0505>, <User: 16XJ1A0506>, <User: 16XJ1A0507>, <User: 16XJ1A0508>, <User: 16XJ1A0509>, <User: 16XJ1A0510>, <User: 16XJ1A0511>, <User: 16XJ1A0512>, <User: 16XJ1A0513>, <User: 16XJ1A0514>, <User: 16XJ1A0515>, <User: 16XJ1A0516>, <User: 16XJ1A0517>, <User: 16XJ1A0518>, <User: 16XJ1A0519>, '...(remaining elements truncated)...']>"
      ]
     },
     "execution_count": 177,
     "metadata": {},
     "output_type": "execute_result"
    }
   ],
   "source": [
    "User.objects.filter(username__contains=\"16XJ1A05\")"
   ]
  },
  {
   "cell_type": "code",
   "execution_count": 180,
   "metadata": {},
   "outputs": [],
   "source": [
    "temp=approvedInterns[0]"
   ]
  },
  {
   "cell_type": "code",
   "execution_count": 183,
   "metadata": {},
   "outputs": [
    {
     "data": {
      "text/plain": [
       "'Prafulla'"
      ]
     },
     "execution_count": 183,
     "metadata": {},
     "output_type": "execute_result"
    }
   ],
   "source": [
    "temp.user.first_name"
   ]
  },
  {
   "cell_type": "code",
   "execution_count": 4,
   "metadata": {},
   "outputs": [],
   "source": [
    "approvedRoll=\"16XJ1A0504\""
   ]
  },
  {
   "cell_type": "code",
   "execution_count": 8,
   "metadata": {},
   "outputs": [],
   "source": [
    "approvedKid = User.objects.filter(username__contains=approvedRoll)[0]"
   ]
  },
  {
   "cell_type": "code",
   "execution_count": 9,
   "metadata": {},
   "outputs": [
    {
     "data": {
      "text/plain": [
       "'16XJ1A0504'"
      ]
     },
     "execution_count": 9,
     "metadata": {},
     "output_type": "execute_result"
    }
   ],
   "source": [
    "approvedKid.username"
   ]
  },
  {
   "cell_type": "code",
   "execution_count": 10,
   "metadata": {},
   "outputs": [],
   "source": [
    "obj = Intern.objects.get(id=1)"
   ]
  },
  {
   "cell_type": "code",
   "execution_count": 11,
   "metadata": {},
   "outputs": [
    {
     "data": {
      "text/plain": [
       "2"
      ]
     },
     "execution_count": 11,
     "metadata": {},
     "output_type": "execute_result"
    }
   ],
   "source": [
    "obj.user_id"
   ]
  },
  {
   "cell_type": "code",
   "execution_count": null,
   "metadata": {},
   "outputs": [],
   "source": []
  }
 ],
 "metadata": {
  "kernelspec": {
   "display_name": "Python 3",
   "language": "python",
   "name": "python3"
  },
  "language_info": {
   "codemirror_mode": {
    "name": "ipython",
    "version": 3
   },
   "file_extension": ".py",
   "mimetype": "text/x-python",
   "name": "python",
   "nbconvert_exporter": "python",
   "pygments_lexer": "ipython3",
   "version": "3.6.4"
  }
 },
 "nbformat": 4,
 "nbformat_minor": 2
}
